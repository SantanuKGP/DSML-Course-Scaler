{
  "nbformat": 4,
  "nbformat_minor": 0,
  "metadata": {
    "colab": {
      "provenance": []
    },
    "kernelspec": {
      "name": "python3",
      "display_name": "Python 3"
    },
    "language_info": {
      "name": "python"
    }
  },
  "cells": [
    {
      "cell_type": "markdown",
      "source": [
        "### Problem Statement:\n",
        "\n",
        "<img src='https://drive.google.com/uc?id=1ip5dTv3RPqw3hplmMm7N7saCnBXYEVbV' width='800'>\n",
        "\n",
        "\n"
      ],
      "metadata": {
        "id": "6Zcd8qWkyjFI"
      }
    },
    {
      "cell_type": "code",
      "source": [
        "import pandas as pd\n",
        "import numpy as np"
      ],
      "metadata": {
        "id": "0oiHR_JPf5p8"
      },
      "execution_count": 9,
      "outputs": []
    },
    {
      "cell_type": "code",
      "execution_count": 10,
      "metadata": {
        "colab": {
          "base_uri": "https://localhost:8080/"
        },
        "id": "YK15a4m5aZmd",
        "outputId": "b2fee01e-fb52-4f24-bf91-3ef09682dd10"
      },
      "outputs": [
        {
          "output_type": "stream",
          "name": "stdout",
          "text": [
            "Downloading...\n",
            "From: https://drive.google.com/uc?id=16KtxSt_QEGQvfluEaMls5cCHPwhRXgCk\n",
            "To: /content/HR-Employee-Attrition.csv\n",
            "100% 228k/228k [00:00<00:00, 19.7MB/s]\n",
            "Downloading...\n",
            "From: https://drive.google.com/uc?id=19L3rYatfhbBL1r5MHrv-p_oM2wlvrhqk\n",
            "To: /content/preprocessed_X_sm.pickle\n",
            "100% 534k/534k [00:00<00:00, 20.3MB/s]\n",
            "Downloading...\n",
            "From: https://drive.google.com/uc?id=1OHLKJwA3qZopKPvlKoRldM6BvA1A4dYF\n",
            "To: /content/X_test.pickle\n",
            "100% 111k/111k [00:00<00:00, 14.1MB/s]\n",
            "Downloading...\n",
            "From: https://drive.google.com/uc?id=1N7O_fWCTJLu8SIa_paKcDEzllgpMk8sK\n",
            "To: /content/y_sm.pickle\n",
            "100% 15.4k/15.4k [00:00<00:00, 46.9MB/s]\n",
            "Downloading...\n",
            "From: https://drive.google.com/uc?id=12Bh2AN8LcZAlg20ehpQrEWccUDaSdsOG\n",
            "To: /content/y_test.pickle\n",
            "100% 9.49k/9.49k [00:00<00:00, 31.5MB/s]\n"
          ]
        }
      ],
      "source": [
        "!gdown 16KtxSt_QEGQvfluEaMls5cCHPwhRXgCk\n",
        "!gdown 19L3rYatfhbBL1r5MHrv-p_oM2wlvrhqk\n",
        "!gdown 1OHLKJwA3qZopKPvlKoRldM6BvA1A4dYF\n",
        "!gdown 1N7O_fWCTJLu8SIa_paKcDEzllgpMk8sK\n",
        "!gdown 12Bh2AN8LcZAlg20ehpQrEWccUDaSdsOG"
      ]
    },
    {
      "cell_type": "code",
      "execution_count": 11,
      "metadata": {
        "id": "lLOv-ppuaas8"
      },
      "outputs": [],
      "source": [
        "import pickle\n",
        "# Load data (deserialize)\n",
        "with open('preprocessed_X_sm.pickle', 'rb') as handle:\n",
        "    X_train = pickle.load(handle)\n",
        "\n",
        "with open('X_test.pickle', 'rb') as handle:\n",
        "    X_test = pickle.load(handle)\n",
        "\n",
        "with open('y_sm.pickle', 'rb') as handle:\n",
        "    y_train = pickle.load(handle)\n",
        "\n",
        "with open('y_test.pickle', 'rb') as handle:\n",
        "    y_test = pickle.load(handle)"
      ]
    },
    {
      "cell_type": "code",
      "source": [
        "from sklearn.tree import DecisionTreeClassifier\n",
        "\n",
        "tree_clf = DecisionTreeClassifier(random_state=7, max_depth=4)\n",
        "tree_clf.fit(X_train, y_train)"
      ],
      "metadata": {
        "colab": {
          "base_uri": "https://localhost:8080/",
          "height": 75
        },
        "id": "67NsVcmNUHx8",
        "outputId": "b1ec6174-ee17-4318-e781-6da7ba9d084a"
      },
      "execution_count": 12,
      "outputs": [
        {
          "output_type": "execute_result",
          "data": {
            "text/plain": [
              "DecisionTreeClassifier(max_depth=4, random_state=7)"
            ],
            "text/html": [
              "<style>#sk-container-id-3 {color: black;background-color: white;}#sk-container-id-3 pre{padding: 0;}#sk-container-id-3 div.sk-toggleable {background-color: white;}#sk-container-id-3 label.sk-toggleable__label {cursor: pointer;display: block;width: 100%;margin-bottom: 0;padding: 0.3em;box-sizing: border-box;text-align: center;}#sk-container-id-3 label.sk-toggleable__label-arrow:before {content: \"▸\";float: left;margin-right: 0.25em;color: #696969;}#sk-container-id-3 label.sk-toggleable__label-arrow:hover:before {color: black;}#sk-container-id-3 div.sk-estimator:hover label.sk-toggleable__label-arrow:before {color: black;}#sk-container-id-3 div.sk-toggleable__content {max-height: 0;max-width: 0;overflow: hidden;text-align: left;background-color: #f0f8ff;}#sk-container-id-3 div.sk-toggleable__content pre {margin: 0.2em;color: black;border-radius: 0.25em;background-color: #f0f8ff;}#sk-container-id-3 input.sk-toggleable__control:checked~div.sk-toggleable__content {max-height: 200px;max-width: 100%;overflow: auto;}#sk-container-id-3 input.sk-toggleable__control:checked~label.sk-toggleable__label-arrow:before {content: \"▾\";}#sk-container-id-3 div.sk-estimator input.sk-toggleable__control:checked~label.sk-toggleable__label {background-color: #d4ebff;}#sk-container-id-3 div.sk-label input.sk-toggleable__control:checked~label.sk-toggleable__label {background-color: #d4ebff;}#sk-container-id-3 input.sk-hidden--visually {border: 0;clip: rect(1px 1px 1px 1px);clip: rect(1px, 1px, 1px, 1px);height: 1px;margin: -1px;overflow: hidden;padding: 0;position: absolute;width: 1px;}#sk-container-id-3 div.sk-estimator {font-family: monospace;background-color: #f0f8ff;border: 1px dotted black;border-radius: 0.25em;box-sizing: border-box;margin-bottom: 0.5em;}#sk-container-id-3 div.sk-estimator:hover {background-color: #d4ebff;}#sk-container-id-3 div.sk-parallel-item::after {content: \"\";width: 100%;border-bottom: 1px solid gray;flex-grow: 1;}#sk-container-id-3 div.sk-label:hover label.sk-toggleable__label {background-color: #d4ebff;}#sk-container-id-3 div.sk-serial::before {content: \"\";position: absolute;border-left: 1px solid gray;box-sizing: border-box;top: 0;bottom: 0;left: 50%;z-index: 0;}#sk-container-id-3 div.sk-serial {display: flex;flex-direction: column;align-items: center;background-color: white;padding-right: 0.2em;padding-left: 0.2em;position: relative;}#sk-container-id-3 div.sk-item {position: relative;z-index: 1;}#sk-container-id-3 div.sk-parallel {display: flex;align-items: stretch;justify-content: center;background-color: white;position: relative;}#sk-container-id-3 div.sk-item::before, #sk-container-id-3 div.sk-parallel-item::before {content: \"\";position: absolute;border-left: 1px solid gray;box-sizing: border-box;top: 0;bottom: 0;left: 50%;z-index: -1;}#sk-container-id-3 div.sk-parallel-item {display: flex;flex-direction: column;z-index: 1;position: relative;background-color: white;}#sk-container-id-3 div.sk-parallel-item:first-child::after {align-self: flex-end;width: 50%;}#sk-container-id-3 div.sk-parallel-item:last-child::after {align-self: flex-start;width: 50%;}#sk-container-id-3 div.sk-parallel-item:only-child::after {width: 0;}#sk-container-id-3 div.sk-dashed-wrapped {border: 1px dashed gray;margin: 0 0.4em 0.5em 0.4em;box-sizing: border-box;padding-bottom: 0.4em;background-color: white;}#sk-container-id-3 div.sk-label label {font-family: monospace;font-weight: bold;display: inline-block;line-height: 1.2em;}#sk-container-id-3 div.sk-label-container {text-align: center;}#sk-container-id-3 div.sk-container {/* jupyter's `normalize.less` sets `[hidden] { display: none; }` but bootstrap.min.css set `[hidden] { display: none !important; }` so we also need the `!important` here to be able to override the default hidden behavior on the sphinx rendered scikit-learn.org. See: https://github.com/scikit-learn/scikit-learn/issues/21755 */display: inline-block !important;position: relative;}#sk-container-id-3 div.sk-text-repr-fallback {display: none;}</style><div id=\"sk-container-id-3\" class=\"sk-top-container\"><div class=\"sk-text-repr-fallback\"><pre>DecisionTreeClassifier(max_depth=4, random_state=7)</pre><b>In a Jupyter environment, please rerun this cell to show the HTML representation or trust the notebook. <br />On GitHub, the HTML representation is unable to render, please try loading this page with nbviewer.org.</b></div><div class=\"sk-container\" hidden><div class=\"sk-item\"><div class=\"sk-estimator sk-toggleable\"><input class=\"sk-toggleable__control sk-hidden--visually\" id=\"sk-estimator-id-3\" type=\"checkbox\" checked><label for=\"sk-estimator-id-3\" class=\"sk-toggleable__label sk-toggleable__label-arrow\">DecisionTreeClassifier</label><div class=\"sk-toggleable__content\"><pre>DecisionTreeClassifier(max_depth=4, random_state=7)</pre></div></div></div></div></div>"
            ]
          },
          "metadata": {},
          "execution_count": 12
        }
      ]
    },
    {
      "cell_type": "code",
      "source": [
        "print(\"Train accuracy: {:.2f}\".format(tree_clf.score(X_train, y_train)*100))\n",
        "print(\"Test accuracy: {:.2f}\".format(tree_clf.score(X_test, y_test)*100))"
      ],
      "metadata": {
        "colab": {
          "base_uri": "https://localhost:8080/"
        },
        "id": "Ypl3F1EsVLG5",
        "outputId": "8b44a7c5-d3c7-42ec-d7cc-ca4a54a3f39c"
      },
      "execution_count": 13,
      "outputs": [
        {
          "output_type": "stream",
          "name": "stdout",
          "text": [
            "Train accuracy: 83.77\n",
            "Test accuracy: 78.80\n"
          ]
        }
      ]
    },
    {
      "cell_type": "code",
      "source": [
        "tree_clf = DecisionTreeClassifier(random_state=7, max_depth=2)\n",
        "tree_clf.fit(X_train, y_train)\n",
        "print(\"Train accuracy: {:.2f}\".format(tree_clf.score(X_train, y_train)*100))\n",
        "print(\"Test accuracy: {:.2f}\".format(tree_clf.score(X_test, y_test)*100))"
      ],
      "metadata": {
        "colab": {
          "base_uri": "https://localhost:8080/"
        },
        "id": "6Sjd3M-830j-",
        "outputId": "bceffdda-fe2b-4012-bee1-8dcd98ca98c8"
      },
      "execution_count": null,
      "outputs": [
        {
          "output_type": "stream",
          "name": "stdout",
          "text": [
            "Train accuracy: 71.21\n",
            "Test accuracy: 66.58\n"
          ]
        }
      ]
    },
    {
      "cell_type": "markdown",
      "source": [
        "<img src='https://drive.google.com/uc?id=1VYJVFsOG_L_rJgT3kr0XmTAxV7oFdnDD' width='800'>"
      ],
      "metadata": {
        "id": "ruZkpwB3UJ66"
      }
    },
    {
      "cell_type": "markdown",
      "source": [
        "### What are Ensembles?\n",
        "\n",
        "Till now we have learned about different kinds of models.\n"
      ],
      "metadata": {
        "id": "EochCj4CDcq6"
      }
    },
    {
      "cell_type": "markdown",
      "source": [
        "<img src='https://drive.google.com/uc?id=1E1czWYEapMNjmuHc6xVGVvexkVH3EWAC' width='800'>\n",
        "\n",
        "\\\n",
        "This is the key principle of ensembles.\n"
      ],
      "metadata": {
        "id": "RBH7oU8aDcrE"
      }
    },
    {
      "cell_type": "markdown",
      "source": [
        "### Types of Ensembles\n",
        "\n",
        "There are mainly 4 types of ensemble learning techniques -"
      ],
      "metadata": {
        "id": "P_lFdExCDcrF"
      }
    },
    {
      "cell_type": "markdown",
      "source": [
        "<img src='https://drive.google.com/uc?id=1oc_1-t1CjKxCcyEuXf9-BHDK1JiyudDy' width='800'>"
      ],
      "metadata": {
        "id": "yvBMifZjPp0Y"
      }
    },
    {
      "cell_type": "markdown",
      "source": [
        "### What is Bagging?\n",
        "\n",
        "<img src='https://drive.google.com/uc?id=1jl5mMDD7lp8X3RO6CDNZSwDhxEjcDOtS' width='800'>"
      ],
      "metadata": {
        "id": "RcXLZBBfkCPI"
      }
    },
    {
      "cell_type": "markdown",
      "source": [
        "<img src='https://drive.google.com/uc?id=1RVh7qaXqMfBLUdCe4sMG77GPLyrYYDjf' width='800'>"
      ],
      "metadata": {
        "id": "Z0ZwD4pIPcGX"
      }
    },
    {
      "cell_type": "markdown",
      "source": [
        "### Random Forest\n",
        "\n",
        "<img src='https://drive.google.com/uc?id=1Pw0-lZIJcIyMwOKmMYiZ3t6E-xFU2EK8' width='800'>\n"
      ],
      "metadata": {
        "id": "RyXudRiEk1z6"
      }
    },
    {
      "cell_type": "markdown",
      "source": [
        "### Combining Decision Trees\n",
        "\n",
        "<img src='https://drive.google.com/uc?id=1k8SZPy46Woawf63ubNKZ1YsWgkPbsHnf' width='800'>"
      ],
      "metadata": {
        "id": "CpgKZyAZlzhA"
      }
    },
    {
      "cell_type": "markdown",
      "source": [
        "### Randomness in model\n",
        "\n",
        "<img src='https://drive.google.com/uc?id=16g74FTTbzSQRwpWbdpoasNIbNmTsS-tp' width='800'>"
      ],
      "metadata": {
        "id": "Hbb2DNDZhc-C"
      }
    },
    {
      "cell_type": "markdown",
      "source": [
        "### Validating RF\n",
        "\n",
        "After training, we cross validate each and every base learner.\n"
      ],
      "metadata": {
        "id": "AHHDSdFPPj8s"
      }
    },
    {
      "cell_type": "markdown",
      "source": [
        "<img src='https://drive.google.com/uc?id=1Jw7cYewCAbGFIBCPVx5j8DqqGzHsGc4u' width='800'>"
      ],
      "metadata": {
        "id": "18IHL6RxRKlJ"
      }
    },
    {
      "cell_type": "markdown",
      "source": [
        "<img src='https://drive.google.com/uc?id=1OVzFmQsTSqBte4SnEtdCtlBC8TYUu0C5' width='800'>"
      ],
      "metadata": {
        "id": "sPPM_RvjNISE"
      }
    },
    {
      "cell_type": "markdown",
      "source": [
        "### Overall Performance\n",
        "\n",
        "<img src='https://drive.google.com/uc?id=1e8xsEuAAYRLO2w6_K8REVsKqSHXugiTe' width='800'>"
      ],
      "metadata": {
        "id": "T7kml8PmDIYR"
      }
    },
    {
      "cell_type": "markdown",
      "source": [
        "### OOB Score\n",
        "\n",
        "We use the left over,\n",
        "- ($n-m$) Out of Bag datapoints\n",
        "- to calculate the **OOB score**."
      ],
      "metadata": {
        "id": "K0QdOIFsu4dX"
      }
    },
    {
      "cell_type": "markdown",
      "source": [
        "#### Calculating OOB Score\n",
        "\n",
        "<img src='https://drive.google.com/uc?id=1eRoy0GMC17NEvQ8gd5ADzudqpNLVrdYd' width='800'>"
      ],
      "metadata": {
        "id": "H6uCWIobNoHF"
      }
    },
    {
      "cell_type": "markdown",
      "source": [
        "#### Using OOB Score\n",
        "\n",
        "<img src='https://drive.google.com/uc?id=1N7xRDWUWCgJg34A6Bt4G5qB5zIIIY985' width='800'>\n",
        "\n"
      ],
      "metadata": {
        "id": "GPPeodWOu7ja"
      }
    },
    {
      "cell_type": "markdown",
      "source": [
        "### Bias Variance Tradeoff\n",
        "\n",
        "<img src='https://drive.google.com/uc?id=11wU7uMgnEiN8Gu6yuRW7QfWFxy_GwYjz' width='800'>"
      ],
      "metadata": {
        "id": "hCJnU_BZBfSf"
      }
    },
    {
      "cell_type": "markdown",
      "source": [
        "### Reducing Variance\n",
        "\n",
        "<img src='https://drive.google.com/uc?id=1SGhVZ4FVtwGbZIPty8Mtrgi6RQe2EAdG' width='800'>"
      ],
      "metadata": {
        "id": "wa4VlMwcTLqT"
      }
    },
    {
      "cell_type": "markdown",
      "source": [
        "<img src='https://drive.google.com/uc?id=1PAptBxvyaJL3oy3BrFWvVUPwgJuhu9UP' width='800'>"
      ],
      "metadata": {
        "id": "3GmPX1ciyEZ1"
      }
    },
    {
      "cell_type": "markdown",
      "source": [
        "### Training a RF model\n",
        "\n",
        "<img src='https://drive.google.com/uc?id=13OW55gNN56JYp-Zy2aZNE2U6unO0t_NK' width='800'>"
      ],
      "metadata": {
        "id": "OylVTQ9hDI9v"
      }
    },
    {
      "cell_type": "markdown",
      "source": [
        "### Code Implementation - RF\n",
        "\n",
        "Let's try to train a RF classifier for our problem."
      ],
      "metadata": {
        "id": "hdDs8d3f1uq2"
      }
    },
    {
      "cell_type": "code",
      "source": [
        "# Load data (deserialize)\n",
        "\n",
        "with open('preprocessed_X_sm.pickle', 'rb') as handle:\n",
        "    X = pickle.load(handle)\n",
        "\n",
        "with open('y_sm.pickle', 'rb') as handle:\n",
        "    y = pickle.load(handle)"
      ],
      "metadata": {
        "id": "Xug930LFQ31E"
      },
      "execution_count": 14,
      "outputs": []
    },
    {
      "cell_type": "code",
      "source": [
        "from sklearn.ensemble import RandomForestClassifier\n",
        "\n",
        "rf_clf = RandomForestClassifier(random_state=7, max_depth=4, n_estimators=100)"
      ],
      "metadata": {
        "id": "nD4bpPRID2IO"
      },
      "execution_count": 15,
      "outputs": []
    },
    {
      "cell_type": "code",
      "source": [
        "from sklearn.model_selection import KFold, cross_validate\n",
        "\n",
        "kfold = KFold(n_splits=10)\n",
        "cv_acc_results = cross_validate(rf_clf, X, y, cv=kfold, scoring='accuracy', return_train_score=True)\n",
        "\n",
        "print(f\"K-Fold Accuracy Mean: \\n Train: {cv_acc_results['train_score'].mean()*100:.2f} \\n Validation: {cv_acc_results['test_score'].mean()*100:.2f}\")\n",
        "print(f\"K-Fold Accuracy Std: \\n Train: {cv_acc_results['train_score'].std()*100:.2f}, \\n Validation: {cv_acc_results['test_score'].std()*100:.2f}\")"
      ],
      "metadata": {
        "colab": {
          "base_uri": "https://localhost:8080/"
        },
        "id": "Cb0pgWOJt8Un",
        "outputId": "83b416a1-d169-497f-b293-df1cc07f9be2"
      },
      "execution_count": 16,
      "outputs": [
        {
          "output_type": "stream",
          "name": "stdout",
          "text": [
            "K-Fold Accuracy Mean: \n",
            " Train: 88.41 \n",
            " Validation: 84.26\n",
            "K-Fold Accuracy Std: \n",
            " Train: 0.45, \n",
            " Validation: 5.96\n"
          ]
        }
      ]
    },
    {
      "cell_type": "markdown",
      "source": [
        "As we can see that,\n",
        "- the test accuracy has increased\n",
        "- From **78%** to **84%**"
      ],
      "metadata": {
        "id": "0xIc26ZWxwA8"
      }
    },
    {
      "cell_type": "markdown",
      "source": [
        "### Optimizing RF\n",
        "\n",
        "Remember hyperparameters?\n",
        "\n",
        "Let's see the various hyperparameters of Random Forest."
      ],
      "metadata": {
        "id": "_PmfUSzfRnjh"
      }
    },
    {
      "cell_type": "markdown",
      "source": [
        "<img src='https://drive.google.com/uc?id=1wtmXmxvsBxkKN33ssUYXfUCxkYEZuMnl' width='800'>"
      ],
      "metadata": {
        "id": "_BMt1MZ7UPRc"
      }
    },
    {
      "cell_type": "markdown",
      "source": [
        "<img src='https://drive.google.com/uc?id=1dkcwOn0Hxzq4Au87w1mLiOQkA1KlVqIm' width='800'>"
      ],
      "metadata": {
        "id": "0iBitM5GUPW0"
      }
    },
    {
      "cell_type": "markdown",
      "source": [
        "Similar to $λ$,\n",
        "- which we used in linear & logistic regression\n",
        "- for regularization.\n",
        "\n",
        "\\\n",
        "<img src='https://drive.google.com/uc?id=1R-KBc7jEhA1S73OC30Pk3VEtOTHhrimj' width='800'>"
      ],
      "metadata": {
        "id": "Cw1QVrV1UPbv"
      }
    },
    {
      "cell_type": "markdown",
      "source": [
        "There are other hyperparameters too in a RF.\n",
        "\n",
        "Most of them are same ones that we saw in DT.\n",
        "\n",
        "https://scikit-learn.org/stable/modules/generated/sklearn.ensemble.RandomForestClassifier.html\n",
        "\n",
        "\\\n",
        "<center><img src='https://drive.google.com/uc?id=1vjUu4h9HLJhVvBg86dO9mV6vO-NW7OAT' height='225' width='950'>\n",
        "\n"
      ],
      "metadata": {
        "id": "ORVjEX1wjiwR"
      }
    },
    {
      "cell_type": "markdown",
      "source": [
        "### Hyperparameter Tuning"
      ],
      "metadata": {
        "id": "3FkCl3Y4QWtz"
      }
    },
    {
      "cell_type": "markdown",
      "source": [
        "#### Grid Search\n",
        "\n",
        "<img src='https://drive.google.com/uc?id=1u9SPZJrSZvXXuptA_SO_V4IemAuVTgwi' width='800'>"
      ],
      "metadata": {
        "id": "HligvQ3hWP7I"
      }
    },
    {
      "cell_type": "code",
      "source": [
        "# Defining parameters -\n",
        "\n",
        "params = {\n",
        "          'n_estimators' : [100,200,300,400],\n",
        "          'max_depth' : [3,5,10],\n",
        "          'criterion' : ['gini', 'entropy'],\n",
        "          'bootstrap' : [True, False],\n",
        "          'max_features' : [8,9,10]\n",
        "         }"
      ],
      "metadata": {
        "id": "b2cJiP7n5FJJ"
      },
      "execution_count": 17,
      "outputs": []
    },
    {
      "cell_type": "code",
      "source": [
        "from sklearn.model_selection import GridSearchCV\n",
        "\n",
        "grid = GridSearchCV(estimator = RandomForestClassifier(),\n",
        "                    param_grid = params,\n",
        "                    scoring = 'accuracy',\n",
        "                    cv = 3,\n",
        "                    n_jobs=-1\n",
        "                    )"
      ],
      "metadata": {
        "id": "foLLZtRy6lPG"
      },
      "execution_count": 18,
      "outputs": []
    },
    {
      "cell_type": "code",
      "source": [
        "grid.fit(X, y)\n",
        "\n",
        "print(\"Best params: \", grid.best_params_)\n",
        "print(\"Best score: \", grid.best_score_)"
      ],
      "metadata": {
        "colab": {
          "base_uri": "https://localhost:8080/"
        },
        "id": "_U60eg3h7Hel",
        "outputId": "5519e681-b48c-4ef6-8898-f47151a8a8b8"
      },
      "execution_count": 19,
      "outputs": [
        {
          "output_type": "stream",
          "name": "stdout",
          "text": [
            "Best params:  {'bootstrap': False, 'criterion': 'gini', 'max_depth': 10, 'max_features': 8, 'n_estimators': 400}\n",
            "Best score:  0.9009740259740261\n"
          ]
        }
      ]
    },
    {
      "cell_type": "code",
      "source": [
        "clf2 = RandomForestClassifier(random_state=7, bootstrap=False, criterion='gini',\n",
        "                              max_depth=10, max_features=8, n_estimators=400)\n",
        "\n",
        "kfold = KFold(n_splits=10)\n",
        "cv_acc_results = cross_validate(clf2, X, y, cv=kfold, scoring='accuracy', return_train_score=True)\n",
        "\n",
        "print(f\"K-Fold Accuracy Mean: \\n Train: {cv_acc_results['train_score'].mean()*100:.3f} \\n Validation: {cv_acc_results['test_score'].mean()*100:.3f}\")\n",
        "print(f\"K-Fold Accuracy Std: \\n Train: {cv_acc_results['train_score'].std()*100:.3f}, \\n Validation: {cv_acc_results['test_score'].std()*100:.3f}\")"
      ],
      "metadata": {
        "colab": {
          "base_uri": "https://localhost:8080/"
        },
        "id": "WpuTXjGRW-MS",
        "outputId": "5a97c8b8-577c-4af1-98b3-65ce434c579f"
      },
      "execution_count": 20,
      "outputs": [
        {
          "output_type": "stream",
          "name": "stdout",
          "text": [
            "K-Fold Accuracy Mean: \n",
            " Train: 99.651 \n",
            " Validation: 92.161\n",
            "K-Fold Accuracy Std: \n",
            " Train: 0.092, \n",
            " Validation: 6.455\n"
          ]
        }
      ]
    },
    {
      "cell_type": "markdown",
      "source": [
        "#### Randomized Search\n",
        "\n",
        "<img src='https://drive.google.com/uc?id=1tozHZhVrVbLxIpa3aiOa_kaUj0KWOyS-' width='800'>"
      ],
      "metadata": {
        "id": "rrhqd89F-oPu"
      }
    },
    {
      "cell_type": "markdown",
      "source": [
        "Let's try finding the optimal value of `ccp_alpha` for our model."
      ],
      "metadata": {
        "id": "4xh4FWYwA8yM"
      }
    },
    {
      "cell_type": "code",
      "source": [
        "# Defining parameters -\n",
        "\n",
        "from scipy.stats import uniform\n",
        "\n",
        "params = {'ccp_alpha': uniform(loc=0, scale=0.4)}\n",
        "# sample from uniform dist between 0 to 0.4"
      ],
      "metadata": {
        "id": "o-QZtwZB-scT"
      },
      "execution_count": null,
      "outputs": []
    },
    {
      "cell_type": "code",
      "source": [
        "from sklearn.model_selection import RandomizedSearchCV\n",
        "\n",
        "random = RandomizedSearchCV(estimator = RandomForestClassifier(random_state=7, bootstrap=False, criterion='gini',\n",
        "                                                               max_depth=10, max_features=8, n_estimators=200),\n",
        "                            param_distributions = params,\n",
        "                            scoring = 'accuracy',\n",
        "                            cv = 3,\n",
        "                            n_iter=15,\n",
        "                            n_jobs=-1\n",
        "                            )"
      ],
      "metadata": {
        "id": "DcN9Z-VLBIRb"
      },
      "execution_count": null,
      "outputs": []
    },
    {
      "cell_type": "code",
      "source": [
        "random.fit(X, y)\n",
        "\n",
        "print(\"Best param: \", random.best_params_)\n",
        "print(\"Best score: \", random.best_score_)"
      ],
      "metadata": {
        "id": "WNoF4TN7BJk9",
        "colab": {
          "base_uri": "https://localhost:8080/"
        },
        "outputId": "a2dd3440-207e-4a24-987e-a48caf50cced"
      },
      "execution_count": null,
      "outputs": [
        {
          "output_type": "stream",
          "name": "stdout",
          "text": [
            "Best param:  {'ccp_alpha': 0.005823753282778954}\n",
            "Best score:  0.850108225108225\n"
          ]
        }
      ]
    },
    {
      "cell_type": "markdown",
      "source": [
        "### Computing Feature Importance\n",
        "\n",
        "<img src='https://drive.google.com/uc?id=1iuD_uLznbJq_YTWGFB4FMxRtN2AvOsZO' width='800'>"
      ],
      "metadata": {
        "id": "AT7Y8R9act-o"
      }
    },
    {
      "cell_type": "code",
      "source": [
        "# Feature Importance\n",
        "\n",
        "import matplotlib.pyplot as plt\n",
        "\n",
        "rf_clf.fit(X, y)\n",
        "importances = rf_clf.feature_importances_\n",
        "\n",
        "indices = np.argsort(importances)[::-1] # Sort feature importances in descending order\n",
        "names = [X.columns[i] for i in indices] # Rearrange feature names so they match the sorted feature importances\n",
        "\n",
        "plt.figure(figsize=(15, 7)) # Create plot\n",
        "plt.title(\"Feature Importance\") # Create plot title\n",
        "plt.bar(range(X.shape[1]), importances[indices]) # Add bars\n",
        "plt.xticks(range(X.shape[1]), names, rotation=90) # Add feature names as x-axis labels\n",
        "plt.show() # Show plot"
      ],
      "metadata": {
        "colab": {
          "base_uri": "https://localhost:8080/"
        },
        "id": "0o-YU6-Chash",
        "outputId": "d247bf7f-ef8b-455f-9902-e66bd1f6b9d6"
      },
      "execution_count": null,
      "outputs": [
        {
          "output_type": "display_data",
          "data": {
            "text/plain": [
              "<Figure size 1500x700 with 1 Axes>"
            ],
            "image/png": "[encoded data removed]"
          },
          "metadata": {}
        }
      ]
    },
    {
      "cell_type": "code",
      "source": [],
      "metadata": {
        "id": "uK8QdyW7zJnQ"
      },
      "execution_count": null,
      "outputs": []
    }
  ]
}