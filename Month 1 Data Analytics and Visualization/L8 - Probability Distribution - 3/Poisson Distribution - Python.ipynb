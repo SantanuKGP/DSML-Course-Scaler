{
 "cells": [
  {
   "cell_type": "code",
   "execution_count": 2,
   "id": "6a1d6553",
   "metadata": {},
   "outputs": [],
   "source": [
    "import numpy as np\n",
    "\n",
    "from scipy.stats import poisson, binom\n",
    "\n",
    "import matplotlib.pyplot as plt"
   ]
  },
  {
   "cell_type": "markdown",
   "id": "e5bed7ff",
   "metadata": {},
   "source": [
    "## Football example"
   ]
  },
  {
   "cell_type": "code",
   "execution_count": 4,
   "id": "1e77ea9d",
   "metadata": {},
   "outputs": [],
   "source": [
    "mu = 2.5"
   ]
  },
  {
   "cell_type": "code",
   "execution_count": 5,
   "id": "fc5a9355",
   "metadata": {},
   "outputs": [],
   "source": [
    "# P(X = 3)"
   ]
  },
  {
   "cell_type": "code",
   "execution_count": 14,
   "id": "0fec340f",
   "metadata": {},
   "outputs": [
    {
     "data": {
      "text/plain": [
       "0.21376301724973648"
      ]
     },
     "execution_count": 14,
     "metadata": {},
     "output_type": "execute_result"
    }
   ],
   "source": [
    "poisson.pmf(k = 3, mu = mu)"
   ]
  },
  {
   "cell_type": "code",
   "execution_count": 11,
   "id": "f11b84be",
   "metadata": {},
   "outputs": [
    {
     "data": {
      "text/plain": [
       "array([ 0,  1,  2,  3,  4,  5,  6,  7,  8,  9, 10, 11, 12, 13, 14, 15, 16,\n",
       "       17, 18, 19, 20])"
      ]
     },
     "execution_count": 11,
     "metadata": {},
     "output_type": "execute_result"
    }
   ],
   "source": [
    "k_values = np.arange(0,21)\n",
    "k_values"
   ]
  },
  {
   "cell_type": "code",
   "execution_count": 12,
   "id": "306003b8",
   "metadata": {},
   "outputs": [
    {
     "data": {
      "text/plain": [
       "array([8.20849986e-02, 2.05212497e-01, 2.56515621e-01, 2.13763017e-01,\n",
       "       1.33601886e-01, 6.68009429e-02, 2.78337262e-02, 9.94061650e-03,\n",
       "       3.10644266e-03, 8.62900738e-04, 2.15725184e-04, 4.90284510e-05,\n",
       "       1.02142606e-05, 1.96428089e-06, 3.50764445e-07, 5.84607408e-08,\n",
       "       9.13449075e-09, 1.34330746e-09, 1.86570481e-10, 2.45487475e-11,\n",
       "       3.06859344e-12])"
      ]
     },
     "execution_count": 12,
     "metadata": {},
     "output_type": "execute_result"
    }
   ],
   "source": [
    "y_values = poisson.pmf(k = k_values, mu = mu)\n",
    "y_values"
   ]
  },
  {
   "cell_type": "code",
   "execution_count": 13,
   "id": "89cac7f9",
   "metadata": {},
   "outputs": [
    {
     "data": {
      "text/plain": [
       "<BarContainer object of 21 artists>"
      ]
     },
     "execution_count": 13,
     "metadata": {},
     "output_type": "execute_result"
    },
    {
     "data": {
      "image/png": "[encoded data removed]",
      "text/plain": [
       "<Figure size 432x288 with 1 Axes>"
      ]
     },
     "metadata": {
      "needs_background": "light"
     },
     "output_type": "display_data"
    }
   ],
   "source": [
    "plt.bar(k_values, y_values)"
   ]
  },
  {
   "cell_type": "markdown",
   "id": "168ba0e7",
   "metadata": {},
   "source": [
    "## Approximating poisson with binomial"
   ]
  },
  {
   "cell_type": "code",
   "execution_count": 15,
   "id": "5e539e11",
   "metadata": {},
   "outputs": [
    {
     "data": {
      "text/plain": [
       "2.5"
      ]
     },
     "execution_count": 15,
     "metadata": {},
     "output_type": "execute_result"
    }
   ],
   "source": [
    "mu = 2.5\n",
    "mu"
   ]
  },
  {
   "cell_type": "code",
   "execution_count": 16,
   "id": "4ade1458",
   "metadata": {},
   "outputs": [
    {
     "data": {
      "text/plain": [
       "0.21376301724973648"
      ]
     },
     "execution_count": 16,
     "metadata": {},
     "output_type": "execute_result"
    }
   ],
   "source": [
    "poisson.pmf(k = 3, mu = mu)"
   ]
  },
  {
   "cell_type": "code",
   "execution_count": 17,
   "id": "3a271e4a",
   "metadata": {},
   "outputs": [],
   "source": [
    "# mu = n * p \n"
   ]
  },
  {
   "cell_type": "code",
   "execution_count": 18,
   "id": "e2f83f64",
   "metadata": {},
   "outputs": [
    {
     "name": "stdout",
     "output_type": "stream",
     "text": [
      "0.21675931439603105\n",
      "0.21405750093941253\n",
      "0.2137924152492477\n"
     ]
    }
   ],
   "source": [
    "for n in [100, 1000, 10000]:\n",
    "    p = mu/n\n",
    "    print(binom.pmf(n = n, p = p, k = 3))"
   ]
  },
  {
   "cell_type": "code",
   "execution_count": null,
   "id": "14d6c362",
   "metadata": {},
   "outputs": [],
   "source": [
    "## p = 0.015\n",
    "## n = 80"
   ]
  },
  {
   "cell_type": "code",
   "execution_count": null,
   "id": "f48879db",
   "metadata": {},
   "outputs": [],
   "source": [
    "# start from n = 10\n",
    "# p = 0.5 \n",
    "# compute prob of k = 3 using poisson > using binomial\n",
    "\n",
    "## ## increase n and decrease p ... . .. \n"
   ]
  },
  {
   "cell_type": "code",
   "execution_count": null,
   "id": "6ebf9263",
   "metadata": {},
   "outputs": [],
   "source": []
  },
  {
   "cell_type": "code",
   "execution_count": null,
   "id": "1bd342bb",
   "metadata": {},
   "outputs": [],
   "source": []
  },
  {
   "cell_type": "code",
   "execution_count": null,
   "id": "cc21b1f8",
   "metadata": {},
   "outputs": [],
   "source": []
  }
 ],
 "metadata": {
  "kernelspec": {
   "display_name": "Python 3 (ipykernel)",
   "language": "python",
   "name": "python3"
  },
  "language_info": {
   "codemirror_mode": {
    "name": "ipython",
    "version": 3
   },
   "file_extension": ".py",
   "mimetype": "text/x-python",
   "name": "python",
   "nbconvert_exporter": "python",
   "pygments_lexer": "ipython3",
   "version": "3.9.12"
  }
 },
 "nbformat": 4,
 "nbformat_minor": 5
}
