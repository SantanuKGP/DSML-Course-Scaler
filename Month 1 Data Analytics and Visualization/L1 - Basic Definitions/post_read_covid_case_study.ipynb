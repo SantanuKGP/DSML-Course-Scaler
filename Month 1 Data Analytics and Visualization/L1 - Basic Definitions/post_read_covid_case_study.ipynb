{
 "cells": [
  {
   "cell_type": "code",
   "execution_count": 1,
   "id": "feb70a60",
   "metadata": {},
   "outputs": [],
   "source": [
    "import numpy as np\n",
    "import pandas as pd"
   ]
  },
  {
   "cell_type": "markdown",
   "id": "99ce1cfa",
   "metadata": {},
   "source": [
    "# Covid"
   ]
  },
  {
   "cell_type": "markdown",
   "id": "cbacc2ab",
   "metadata": {},
   "source": [
    "Let us explore a few concepts in probability in the context of covid recovery data. "
   ]
  },
  {
   "cell_type": "code",
   "execution_count": 2,
   "id": "1ada2632",
   "metadata": {},
   "outputs": [],
   "source": [
    "df_covid = pd.read_csv(\"covid.csv\")"
   ]
  },
  {
   "cell_type": "code",
   "execution_count": 3,
   "id": "51022974",
   "metadata": {},
   "outputs": [
    {
     "data": {
      "text/html": [
       "<div>\n",
       "<style scoped>\n",
       "    .dataframe tbody tr th:only-of-type {\n",
       "        vertical-align: middle;\n",
       "    }\n",
       "\n",
       "    .dataframe tbody tr th {\n",
       "        vertical-align: top;\n",
       "    }\n",
       "\n",
       "    .dataframe thead th {\n",
       "        text-align: right;\n",
       "    }\n",
       "</style>\n",
       "<table border=\"1\" class=\"dataframe\">\n",
       "  <thead>\n",
       "    <tr style=\"text-align: right;\">\n",
       "      <th></th>\n",
       "      <th>recovery_time</th>\n",
       "    </tr>\n",
       "  </thead>\n",
       "  <tbody>\n",
       "    <tr>\n",
       "      <th>0</th>\n",
       "      <td>13.0</td>\n",
       "    </tr>\n",
       "    <tr>\n",
       "      <th>1</th>\n",
       "      <td>8.0</td>\n",
       "    </tr>\n",
       "    <tr>\n",
       "      <th>2</th>\n",
       "      <td>53.0</td>\n",
       "    </tr>\n",
       "    <tr>\n",
       "      <th>3</th>\n",
       "      <td>43.0</td>\n",
       "    </tr>\n",
       "    <tr>\n",
       "      <th>4</th>\n",
       "      <td>76.0</td>\n",
       "    </tr>\n",
       "  </tbody>\n",
       "</table>\n",
       "</div>"
      ],
      "text/plain": [
       "   recovery_time\n",
       "0           13.0\n",
       "1            8.0\n",
       "2           53.0\n",
       "3           43.0\n",
       "4           76.0"
      ]
     },
     "execution_count": 3,
     "metadata": {},
     "output_type": "execute_result"
    }
   ],
   "source": [
    "df_covid.head()"
   ]
  },
  {
   "cell_type": "code",
   "execution_count": 4,
   "id": "61a4cec4",
   "metadata": {},
   "outputs": [
    {
     "data": {
      "text/plain": [
       "array([13.,  8., 53., 43., 76., 92., 59., 42., 18.,  2., nan, 99., 60.,\n",
       "       75., 64.,  1., 50., 72., 46., 98., 96., 90.,  4.,  3., 12., 24.,\n",
       "       14., 21.,  7., 37., 33., 10., 11., 17., 56., 25., 41., 48.,  6.,\n",
       "        9.,  5., 91., 67., 16., 84., 57., 34., 30., 40., 52., 94., 22.,\n",
       "       81.])"
      ]
     },
     "execution_count": 4,
     "metadata": {},
     "output_type": "execute_result"
    }
   ],
   "source": [
    "df_covid[\"recovery_time\"].unique()"
   ]
  },
  {
   "cell_type": "markdown",
   "id": "8fa60601",
   "metadata": {},
   "source": [
    "The 'nan' indicates that some people did not recover and died."
   ]
  },
  {
   "cell_type": "markdown",
   "id": "4cb3e265",
   "metadata": {},
   "source": [
    "## Sample space and events"
   ]
  },
  {
   "cell_type": "markdown",
   "id": "63906a74",
   "metadata": {},
   "source": [
    "We use the term **Sample Space** to denote the set of all **outcomes**.\n",
    "\n",
    "How do we decide how to define outcomes for the above dataset?"
   ]
  },
  {
   "cell_type": "markdown",
   "id": "048e886c",
   "metadata": {},
   "source": [
    "### One example of defining outcomes and sample space"
   ]
  },
  {
   "cell_type": "markdown",
   "id": "7f219276",
   "metadata": {},
   "source": [
    "One doctor may only be interested in who survived. For such a requirement, we can think of defining outcome that simply states whether the person \"survived\" or \"died\". Let us write a small snippet of code to implement that."
   ]
  },
  {
   "cell_type": "code",
   "execution_count": 14,
   "id": "4f091af7",
   "metadata": {},
   "outputs": [],
   "source": [
    "def two_types(val):\n",
    "    if np.isnan(val):\n",
    "        return \"died\"\n",
    "    else:\n",
    "        return \"survived\"\n",
    "df_covid[\"outcome\"] = df_covid[\"recovery_time\"].apply(two_types)"
   ]
  },
  {
   "cell_type": "markdown",
   "id": "df1b12c8",
   "metadata": {},
   "source": [
    "What the previous cell does is the it adds a column called \"outcome\", whose values will be \"survived\" or \"died\""
   ]
  },
  {
   "cell_type": "code",
   "execution_count": 15,
   "id": "6070457d",
   "metadata": {},
   "outputs": [
    {
     "data": {
      "text/html": [
       "<div>\n",
       "<style scoped>\n",
       "    .dataframe tbody tr th:only-of-type {\n",
       "        vertical-align: middle;\n",
       "    }\n",
       "\n",
       "    .dataframe tbody tr th {\n",
       "        vertical-align: top;\n",
       "    }\n",
       "\n",
       "    .dataframe thead th {\n",
       "        text-align: right;\n",
       "    }\n",
       "</style>\n",
       "<table border=\"1\" class=\"dataframe\">\n",
       "  <thead>\n",
       "    <tr style=\"text-align: right;\">\n",
       "      <th></th>\n",
       "      <th>recovery_time</th>\n",
       "      <th>outcome</th>\n",
       "    </tr>\n",
       "  </thead>\n",
       "  <tbody>\n",
       "    <tr>\n",
       "      <th>0</th>\n",
       "      <td>13.0</td>\n",
       "      <td>survived</td>\n",
       "    </tr>\n",
       "    <tr>\n",
       "      <th>1</th>\n",
       "      <td>8.0</td>\n",
       "      <td>survived</td>\n",
       "    </tr>\n",
       "    <tr>\n",
       "      <th>2</th>\n",
       "      <td>53.0</td>\n",
       "      <td>survived</td>\n",
       "    </tr>\n",
       "    <tr>\n",
       "      <th>3</th>\n",
       "      <td>43.0</td>\n",
       "      <td>survived</td>\n",
       "    </tr>\n",
       "    <tr>\n",
       "      <th>4</th>\n",
       "      <td>76.0</td>\n",
       "      <td>survived</td>\n",
       "    </tr>\n",
       "  </tbody>\n",
       "</table>\n",
       "</div>"
      ],
      "text/plain": [
       "   recovery_time   outcome\n",
       "0           13.0  survived\n",
       "1            8.0  survived\n",
       "2           53.0  survived\n",
       "3           43.0  survived\n",
       "4           76.0  survived"
      ]
     },
     "execution_count": 15,
     "metadata": {},
     "output_type": "execute_result"
    }
   ],
   "source": [
    "df_covid.head()"
   ]
  },
  {
   "cell_type": "markdown",
   "id": "456e4c88",
   "metadata": {},
   "source": [
    "So now, our sample space is <br>\n",
    "$S = \\{\\text{\"recoverd\"}, \\text{\"died\"}\\}$"
   ]
  },
  {
   "cell_type": "markdown",
   "id": "5f505532",
   "metadata": {},
   "source": [
    "Let us next look at the `value_counts` of this outcome"
   ]
  },
  {
   "cell_type": "code",
   "execution_count": 7,
   "id": "72a607d1",
   "metadata": {},
   "outputs": [
    {
     "data": {
      "text/plain": [
       "survived    95\n",
       "died         5\n",
       "Name: outcome, dtype: int64"
      ]
     },
     "execution_count": 7,
     "metadata": {},
     "output_type": "execute_result"
    }
   ],
   "source": [
    "df_covid[\"outcome\"].value_counts()"
   ]
  },
  {
   "cell_type": "markdown",
   "id": "dbfde0ce",
   "metadata": {},
   "source": [
    "We see that 95 out of 100 people survived."
   ]
  },
  {
   "cell_type": "markdown",
   "id": "2047190b",
   "metadata": {},
   "source": [
    "We can see this visually using `hist` for histogram"
   ]
  },
  {
   "cell_type": "code",
   "execution_count": 8,
   "id": "8e681339",
   "metadata": {},
   "outputs": [
    {
     "data": {
      "text/plain": [
       "<AxesSubplot:>"
      ]
     },
     "execution_count": 8,
     "metadata": {},
     "output_type": "execute_result"
    },
    {
     "data": {
      "image/png": "[encoded data removed]",
      "text/plain": [
       "<Figure size 432x288 with 1 Axes>"
      ]
     },
     "metadata": {
      "needs_background": "light"
     },
     "output_type": "display_data"
    }
   ],
   "source": [
    "df_covid[\"outcome\"].hist()"
   ]
  },
  {
   "cell_type": "markdown",
   "id": "0d87faeb",
   "metadata": {},
   "source": [
    "### Another example of defining outcomes and sample space"
   ]
  },
  {
   "cell_type": "markdown",
   "id": "e43a181a",
   "metadata": {},
   "source": [
    "Another doctor may be more interested in some details, and thus defines outcomes as follows:<br>\n",
    "$r_1$: Set of all people who recovered within 1 to 7 days<br>\n",
    "$r_2$: Set of all people who recovered within 8 to 14 days<br>\n",
    "$r_3$: Set of all people who recovered in more than 15 days<br>\n",
    "$d$: Set of people who unfortunately could not recover<br>"
   ]
  },
  {
   "cell_type": "markdown",
   "id": "9fcfd68d",
   "metadata": {},
   "source": [
    "The following snippet of code helps us achieve this"
   ]
  },
  {
   "cell_type": "code",
   "execution_count": 17,
   "id": "4d20fffe",
   "metadata": {},
   "outputs": [],
   "source": [
    "def four_types(val):\n",
    "    if val <= 7:\n",
    "        return \"r1\"\n",
    "    elif val <= 14:\n",
    "        return \"r2\"\n",
    "    elif not np.isnan(val):\n",
    "        return \"r3\"\n",
    "    else:\n",
    "        return \"d\"\n",
    "df_covid[\"outcome\"] = df_covid[\"recovery_time\"].apply(four_types)"
   ]
  },
  {
   "cell_type": "code",
   "execution_count": 10,
   "id": "050b2ec9",
   "metadata": {},
   "outputs": [
    {
     "data": {
      "text/html": [
       "<div>\n",
       "<style scoped>\n",
       "    .dataframe tbody tr th:only-of-type {\n",
       "        vertical-align: middle;\n",
       "    }\n",
       "\n",
       "    .dataframe tbody tr th {\n",
       "        vertical-align: top;\n",
       "    }\n",
       "\n",
       "    .dataframe thead th {\n",
       "        text-align: right;\n",
       "    }\n",
       "</style>\n",
       "<table border=\"1\" class=\"dataframe\">\n",
       "  <thead>\n",
       "    <tr style=\"text-align: right;\">\n",
       "      <th></th>\n",
       "      <th>recovery_time</th>\n",
       "      <th>outcome</th>\n",
       "    </tr>\n",
       "  </thead>\n",
       "  <tbody>\n",
       "    <tr>\n",
       "      <th>0</th>\n",
       "      <td>13.0</td>\n",
       "      <td>r2</td>\n",
       "    </tr>\n",
       "    <tr>\n",
       "      <th>1</th>\n",
       "      <td>8.0</td>\n",
       "      <td>r2</td>\n",
       "    </tr>\n",
       "    <tr>\n",
       "      <th>2</th>\n",
       "      <td>53.0</td>\n",
       "      <td>r3</td>\n",
       "    </tr>\n",
       "    <tr>\n",
       "      <th>3</th>\n",
       "      <td>43.0</td>\n",
       "      <td>r3</td>\n",
       "    </tr>\n",
       "    <tr>\n",
       "      <th>4</th>\n",
       "      <td>76.0</td>\n",
       "      <td>r3</td>\n",
       "    </tr>\n",
       "    <tr>\n",
       "      <th>5</th>\n",
       "      <td>92.0</td>\n",
       "      <td>r3</td>\n",
       "    </tr>\n",
       "    <tr>\n",
       "      <th>6</th>\n",
       "      <td>59.0</td>\n",
       "      <td>r3</td>\n",
       "    </tr>\n",
       "    <tr>\n",
       "      <th>7</th>\n",
       "      <td>42.0</td>\n",
       "      <td>r3</td>\n",
       "    </tr>\n",
       "    <tr>\n",
       "      <th>8</th>\n",
       "      <td>18.0</td>\n",
       "      <td>r3</td>\n",
       "    </tr>\n",
       "    <tr>\n",
       "      <th>9</th>\n",
       "      <td>2.0</td>\n",
       "      <td>r1</td>\n",
       "    </tr>\n",
       "  </tbody>\n",
       "</table>\n",
       "</div>"
      ],
      "text/plain": [
       "   recovery_time outcome\n",
       "0           13.0      r2\n",
       "1            8.0      r2\n",
       "2           53.0      r3\n",
       "3           43.0      r3\n",
       "4           76.0      r3\n",
       "5           92.0      r3\n",
       "6           59.0      r3\n",
       "7           42.0      r3\n",
       "8           18.0      r3\n",
       "9            2.0      r1"
      ]
     },
     "execution_count": 10,
     "metadata": {},
     "output_type": "execute_result"
    }
   ],
   "source": [
    "df_covid.head(10)"
   ]
  },
  {
   "cell_type": "markdown",
   "id": "bad554b4",
   "metadata": {},
   "source": [
    "Now, our sample space is given by<br>\n",
    "$S = \\{r_1, r_2, r_3, d\\}$"
   ]
  },
  {
   "cell_type": "markdown",
   "id": "073e1ae9",
   "metadata": {},
   "source": [
    "As before, we call `hist` to visualize"
   ]
  },
  {
   "cell_type": "code",
   "execution_count": 21,
   "id": "3d4b5511",
   "metadata": {},
   "outputs": [
    {
     "data": {
      "text/plain": [
       "<AxesSubplot:>"
      ]
     },
     "execution_count": 21,
     "metadata": {},
     "output_type": "execute_result"
    },
    {
     "data": {
      "image/png": "[encoded data removed]",
      "text/plain": [
       "<Figure size 432x288 with 1 Axes>"
      ]
     },
     "metadata": {
      "needs_background": "light"
     },
     "output_type": "display_data"
    }
   ],
   "source": [
    "df_covid[\"outcome\"].hist()"
   ]
  },
  {
   "cell_type": "markdown",
   "id": "e56e028b",
   "metadata": {},
   "source": [
    "### What are events?"
   ]
  },
  {
   "cell_type": "markdown",
   "id": "ba5ae9d8",
   "metadata": {},
   "source": [
    "An event is a  *subset* of the sample space"
   ]
  },
  {
   "cell_type": "markdown",
   "id": "8c44b893",
   "metadata": {},
   "source": [
    "Let us consider the covid example with $\\{r_1, r_2, r_3, d\\}$ as sample space"
   ]
  },
  {
   "cell_type": "code",
   "execution_count": 22,
   "id": "2da97b15",
   "metadata": {},
   "outputs": [
    {
     "data": {
      "text/html": [
       "<div>\n",
       "<style scoped>\n",
       "    .dataframe tbody tr th:only-of-type {\n",
       "        vertical-align: middle;\n",
       "    }\n",
       "\n",
       "    .dataframe tbody tr th {\n",
       "        vertical-align: top;\n",
       "    }\n",
       "\n",
       "    .dataframe thead th {\n",
       "        text-align: right;\n",
       "    }\n",
       "</style>\n",
       "<table border=\"1\" class=\"dataframe\">\n",
       "  <thead>\n",
       "    <tr style=\"text-align: right;\">\n",
       "      <th></th>\n",
       "      <th>recovery_time</th>\n",
       "      <th>outcome</th>\n",
       "    </tr>\n",
       "  </thead>\n",
       "  <tbody>\n",
       "    <tr>\n",
       "      <th>0</th>\n",
       "      <td>13.0</td>\n",
       "      <td>r2</td>\n",
       "    </tr>\n",
       "    <tr>\n",
       "      <th>1</th>\n",
       "      <td>8.0</td>\n",
       "      <td>r2</td>\n",
       "    </tr>\n",
       "    <tr>\n",
       "      <th>2</th>\n",
       "      <td>53.0</td>\n",
       "      <td>r3</td>\n",
       "    </tr>\n",
       "    <tr>\n",
       "      <th>3</th>\n",
       "      <td>43.0</td>\n",
       "      <td>r3</td>\n",
       "    </tr>\n",
       "    <tr>\n",
       "      <th>4</th>\n",
       "      <td>76.0</td>\n",
       "      <td>r3</td>\n",
       "    </tr>\n",
       "    <tr>\n",
       "      <th>5</th>\n",
       "      <td>92.0</td>\n",
       "      <td>r3</td>\n",
       "    </tr>\n",
       "    <tr>\n",
       "      <th>6</th>\n",
       "      <td>59.0</td>\n",
       "      <td>r3</td>\n",
       "    </tr>\n",
       "    <tr>\n",
       "      <th>7</th>\n",
       "      <td>42.0</td>\n",
       "      <td>r3</td>\n",
       "    </tr>\n",
       "    <tr>\n",
       "      <th>8</th>\n",
       "      <td>18.0</td>\n",
       "      <td>r3</td>\n",
       "    </tr>\n",
       "    <tr>\n",
       "      <th>9</th>\n",
       "      <td>2.0</td>\n",
       "      <td>r1</td>\n",
       "    </tr>\n",
       "    <tr>\n",
       "      <th>10</th>\n",
       "      <td>NaN</td>\n",
       "      <td>d</td>\n",
       "    </tr>\n",
       "    <tr>\n",
       "      <th>11</th>\n",
       "      <td>13.0</td>\n",
       "      <td>r2</td>\n",
       "    </tr>\n",
       "    <tr>\n",
       "      <th>12</th>\n",
       "      <td>13.0</td>\n",
       "      <td>r2</td>\n",
       "    </tr>\n",
       "    <tr>\n",
       "      <th>13</th>\n",
       "      <td>99.0</td>\n",
       "      <td>r3</td>\n",
       "    </tr>\n",
       "    <tr>\n",
       "      <th>14</th>\n",
       "      <td>60.0</td>\n",
       "      <td>r3</td>\n",
       "    </tr>\n",
       "    <tr>\n",
       "      <th>15</th>\n",
       "      <td>18.0</td>\n",
       "      <td>r3</td>\n",
       "    </tr>\n",
       "    <tr>\n",
       "      <th>16</th>\n",
       "      <td>75.0</td>\n",
       "      <td>r3</td>\n",
       "    </tr>\n",
       "    <tr>\n",
       "      <th>17</th>\n",
       "      <td>64.0</td>\n",
       "      <td>r3</td>\n",
       "    </tr>\n",
       "    <tr>\n",
       "      <th>18</th>\n",
       "      <td>1.0</td>\n",
       "      <td>r1</td>\n",
       "    </tr>\n",
       "    <tr>\n",
       "      <th>19</th>\n",
       "      <td>1.0</td>\n",
       "      <td>r1</td>\n",
       "    </tr>\n",
       "  </tbody>\n",
       "</table>\n",
       "</div>"
      ],
      "text/plain": [
       "    recovery_time outcome\n",
       "0            13.0      r2\n",
       "1             8.0      r2\n",
       "2            53.0      r3\n",
       "3            43.0      r3\n",
       "4            76.0      r3\n",
       "5            92.0      r3\n",
       "6            59.0      r3\n",
       "7            42.0      r3\n",
       "8            18.0      r3\n",
       "9             2.0      r1\n",
       "10            NaN       d\n",
       "11           13.0      r2\n",
       "12           13.0      r2\n",
       "13           99.0      r3\n",
       "14           60.0      r3\n",
       "15           18.0      r3\n",
       "16           75.0      r3\n",
       "17           64.0      r3\n",
       "18            1.0      r1\n",
       "19            1.0      r1"
      ]
     },
     "execution_count": 22,
     "metadata": {},
     "output_type": "execute_result"
    }
   ],
   "source": [
    "df_covid.head(20)"
   ]
  },
  {
   "cell_type": "markdown",
   "id": "0609ed70",
   "metadata": {},
   "source": [
    "Some examples of events are:\n",
    "1) Patients who recovered: $E_1 = \\{r_1, r_2, r_3\\}$<br>\n",
    "2) Patients who recovered in 14 days: $E_2 = \\{r_1, r_2\\}$<br>\n",
    "3) Patients who died: $E_3 = \\{d\\}$<br>\n"
   ]
  },
  {
   "cell_type": "markdown",
   "id": "5bccb5e1",
   "metadata": {},
   "source": [
    "The **empty set** is given by $\\phi = \\{\\}$. Even this is an event. "
   ]
  },
  {
   "cell_type": "markdown",
   "id": "a47e28cd",
   "metadata": {},
   "source": [
    "The whole sample space $S = \\{r_1, r_2, r_3, d\\}$ is also an event."
   ]
  },
  {
   "cell_type": "markdown",
   "id": "425e1373",
   "metadata": {},
   "source": [
    "### What are mutually exclusive events?"
   ]
  },
  {
   "cell_type": "markdown",
   "id": "ad50ac76",
   "metadata": {},
   "source": [
    "Two events $A$ and $B$ are said to be **mutually exclusive** if their intersection is empty"
   ]
  },
  {
   "cell_type": "markdown",
   "id": "97bcfb94",
   "metadata": {},
   "source": [
    "$A \\cap B = \\{\\}$"
   ]
  },
  {
   "cell_type": "markdown",
   "id": "528602dc",
   "metadata": {},
   "source": [
    "$P[A \\cap B] = 0$"
   ]
  },
  {
   "cell_type": "markdown",
   "id": "bae86600",
   "metadata": {},
   "source": [
    "#### Example 1 - Covid recovered and died"
   ]
  },
  {
   "cell_type": "markdown",
   "id": "dd9294be",
   "metadata": {},
   "source": [
    "Let event $A$ be \"recovered\" and event $B$ be \"died\". Clearly, there is no one who belongs in both the events.<br>\n",
    "$A = \\{r_1, r_2, r_3\\}$. <br>\n",
    "$B = \\{d\\}$<br>\n",
    "We denote this using the intersection notation\n",
    "\\begin{align}\n",
    "A \\cap B = \\{\\}\n",
    "\\end{align}\n",
    "\n",
    "The probability of the intersection is zero:\n",
    "\\begin{align}\n",
    "P[A \\cap B] = 0\n",
    "\\end{align}\n",
    "\n",
    "We say that $A$ and $B$ are mutually exclusive"
   ]
  },
  {
   "cell_type": "markdown",
   "id": "f2122807",
   "metadata": {},
   "source": [
    "#### Example 2 - Recovered in 1 to 7 days Vs recovered in 8 to 14 days"
   ]
  },
  {
   "cell_type": "markdown",
   "id": "a31a7dae",
   "metadata": {},
   "source": [
    "Let event $C$ be \"recovered in 1 to 7 days\" and event $D$ be \"recovered in 8 to 14 days\". Clearly, there is no one who belongs in both the events.<br>\n",
    "$C = \\{r_1\\}$. <br>\n",
    "$D = \\{r_2\\}$<br>\n",
    "We denote this using the intersection notation\n",
    "\\begin{align}\n",
    "C \\cap D = \\{\\}\n",
    "\\end{align}\n",
    "\n",
    "The probability of the intersection is zero:\n",
    "\\begin{align}\n",
    "P[C \\cap D] = 0\n",
    "\\end{align}\n",
    "\n",
    "We say that $C$ and $D$ are mutually exclusive"
   ]
  }
 ],
 "metadata": {
  "kernelspec": {
   "display_name": "Python 3 (ipykernel)",
   "language": "python",
   "name": "python3"
  },
  "language_info": {
   "codemirror_mode": {
    "name": "ipython",
    "version": 3
   },
   "file_extension": ".py",
   "mimetype": "text/x-python",
   "name": "python",
   "nbconvert_exporter": "python",
   "pygments_lexer": "ipython3",
   "version": "3.9.12"
  }
 },
 "nbformat": 4,
 "nbformat_minor": 5
}
