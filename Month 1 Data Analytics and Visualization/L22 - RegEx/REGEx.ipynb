{
 "cells": [
  {
   "cell_type": "code",
   "execution_count": 1,
   "id": "4b328583",
   "metadata": {},
   "outputs": [
    {
     "data": {
      "text/plain": [
       "'shivam.yadav@scaler.com'"
      ]
     },
     "execution_count": 1,
     "metadata": {},
     "output_type": "execute_result"
    }
   ],
   "source": [
    "email = \"shivam.yadav@scaler.com\"\n",
    "email"
   ]
  },
  {
   "cell_type": "code",
   "execution_count": 3,
   "id": "f5a72647",
   "metadata": {},
   "outputs": [],
   "source": [
    "name, domain = email.split(\"@\")"
   ]
  },
  {
   "cell_type": "code",
   "execution_count": 4,
   "id": "73d78818",
   "metadata": {},
   "outputs": [
    {
     "data": {
      "text/plain": [
       "'shivam.yadav'"
      ]
     },
     "execution_count": 4,
     "metadata": {},
     "output_type": "execute_result"
    }
   ],
   "source": [
    "name"
   ]
  },
  {
   "cell_type": "code",
   "execution_count": 5,
   "id": "cc0fc04d",
   "metadata": {},
   "outputs": [
    {
     "data": {
      "text/plain": [
       "'scaler.com'"
      ]
     },
     "execution_count": 5,
     "metadata": {},
     "output_type": "execute_result"
    }
   ],
   "source": [
    "domain"
   ]
  },
  {
   "cell_type": "code",
   "execution_count": 6,
   "id": "63239dfb",
   "metadata": {},
   "outputs": [
    {
     "data": {
      "text/plain": [
       "'s'"
      ]
     },
     "execution_count": 6,
     "metadata": {},
     "output_type": "execute_result"
    }
   ],
   "source": [
    "name[0]"
   ]
  },
  {
   "cell_type": "code",
   "execution_count": 7,
   "id": "f75c9b1b",
   "metadata": {},
   "outputs": [
    {
     "data": {
      "text/plain": [
       "'v'"
      ]
     },
     "execution_count": 7,
     "metadata": {},
     "output_type": "execute_result"
    }
   ],
   "source": [
    "name[-1]"
   ]
  },
  {
   "cell_type": "code",
   "execution_count": 8,
   "id": "d9d78126",
   "metadata": {},
   "outputs": [],
   "source": [
    "def mask_email(s):\n",
    "  if \"@\" in s:\n",
    "    name, domain = s.split(\"@\")\n",
    "    return f\"{name[0]}####{name[-1]}@{domain}\""
   ]
  },
  {
   "cell_type": "code",
   "execution_count": 9,
   "id": "3493004c",
   "metadata": {},
   "outputs": [
    {
     "data": {
      "text/plain": [
       "'s####v@scaler.com'"
      ]
     },
     "execution_count": 9,
     "metadata": {},
     "output_type": "execute_result"
    }
   ],
   "source": [
    "mask_email(email)"
   ]
  },
  {
   "cell_type": "code",
   "execution_count": null,
   "id": "cc7475a9",
   "metadata": {},
   "outputs": [],
   "source": []
  },
  {
   "cell_type": "code",
   "execution_count": 10,
   "id": "09fb3a0a",
   "metadata": {},
   "outputs": [],
   "source": [
    "import re # import regex library\n",
    "\n",
    "def is_vemail(s):\n",
    "    email_pattern = \"^\\w+([\\.-]?\\w+)*@\\w+([\\.-]?\\w+)*(\\.\\w{2,3})+$\"\n",
    "    res = re.search(email_pattern, s)\n",
    "      # scans through string looking for the first location where pattern is \n",
    "      # found - will discuss about re module later\n",
    "    if res:\n",
    "        return True\n",
    "    else:\n",
    "        return False"
   ]
  },
  {
   "cell_type": "code",
   "execution_count": 11,
   "id": "6b2b67df",
   "metadata": {},
   "outputs": [
    {
     "data": {
      "text/plain": [
       "'shivam.yadav@scaler.com'"
      ]
     },
     "execution_count": 11,
     "metadata": {},
     "output_type": "execute_result"
    }
   ],
   "source": [
    "email"
   ]
  },
  {
   "cell_type": "code",
   "execution_count": 12,
   "id": "34528b18",
   "metadata": {},
   "outputs": [
    {
     "data": {
      "text/plain": [
       "True"
      ]
     },
     "execution_count": 12,
     "metadata": {},
     "output_type": "execute_result"
    }
   ],
   "source": [
    "is_vemail(email)"
   ]
  },
  {
   "cell_type": "code",
   "execution_count": 13,
   "id": "b84e3ccc",
   "metadata": {},
   "outputs": [
    {
     "data": {
      "text/plain": [
       "True"
      ]
     },
     "execution_count": 13,
     "metadata": {},
     "output_type": "execute_result"
    }
   ],
   "source": [
    "is_vemail(\"gk14.9.1999@gmail.com\")"
   ]
  },
  {
   "cell_type": "code",
   "execution_count": 14,
   "id": "31263d49",
   "metadata": {},
   "outputs": [
    {
     "data": {
      "text/plain": [
       "False"
      ]
     },
     "execution_count": 14,
     "metadata": {},
     "output_type": "execute_result"
    }
   ],
   "source": [
    "is_vemail(\"rrr@R@.com\")"
   ]
  },
  {
   "cell_type": "code",
   "execution_count": 15,
   "id": "335e9ccf",
   "metadata": {},
   "outputs": [
    {
     "data": {
      "text/plain": [
       "False"
      ]
     },
     "execution_count": 15,
     "metadata": {},
     "output_type": "execute_result"
    }
   ],
   "source": [
    "is_vemail(\"hinal??.#@6sense.com\")"
   ]
  },
  {
   "cell_type": "code",
   "execution_count": 21,
   "id": "2d4708ff",
   "metadata": {},
   "outputs": [],
   "source": [
    "my_string = '''abcdefghijklmnopqurtuvwxyz\n",
    "ABCDEFGHIJKLMNOPQRSTUVWXYZ\n",
    "1234567890\n",
    "\n",
    "abcdef\n",
    "\n",
    "Ha HaHa HaHaHa\n",
    "\n",
    "Ha-HaHa-HaHaHa\n",
    "\n",
    "Ha_HaHa_HaHaHa\n",
    "\n",
    ".[{()\\^$|?*+\n",
    "\n",
    "scaler.com\n",
    "scaler@com\n",
    "scaler_com\n",
    "\n",
    "321-555-4321\n",
    "123.555.1234\n",
    "\n",
    "Mr. Varma\n",
    "Mr Anant\n",
    "Ms Nandini\n",
    "Mrs. Singh\n",
    "Mr. Shivam\n",
    "Mr. T\n",
    "'''"
   ]
  },
  {
   "cell_type": "code",
   "execution_count": null,
   "id": "2f743f8f",
   "metadata": {},
   "outputs": [],
   "source": []
  },
  {
   "cell_type": "code",
   "execution_count": 22,
   "id": "2077de1e",
   "metadata": {},
   "outputs": [
    {
     "name": "stdout",
     "output_type": "stream",
     "text": [
      "abcdefghijklmnopqurtuvwxyz\n",
      "ABCDEFGHIJKLMNOPQRSTUVWXYZ\n",
      "1234567890\n",
      "\n",
      "abcdef\n",
      "\n",
      "Ha HaHa HaHaHa\n",
      "\n",
      "Ha-HaHa-HaHaHa\n",
      "\n",
      "Ha_HaHa_HaHaHa\n",
      "\n",
      ".[{()\\^$|?*+\n",
      "\n",
      "scaler.com\n",
      "scaler@com\n",
      "scaler_com\n",
      "\n",
      "321-555-4321\n",
      "123.555.1234\n",
      "\n",
      "Mr. Varma\n",
      "Mr Anant\n",
      "Ms Nandini\n",
      "Mrs. Singh\n",
      "Mr. Shivam\n",
      "Mr. T\n",
      "\n"
     ]
    }
   ],
   "source": [
    "print(my_string)"
   ]
  },
  {
   "cell_type": "code",
   "execution_count": 23,
   "id": "8237bab6",
   "metadata": {},
   "outputs": [
    {
     "data": {
      "text/plain": [
       "'abc'"
      ]
     },
     "execution_count": 23,
     "metadata": {},
     "output_type": "execute_result"
    }
   ],
   "source": [
    "my_string[66:69]"
   ]
  },
  {
   "cell_type": "markdown",
   "id": "7f3591e9",
   "metadata": {},
   "source": [
    "```\n",
    ".       - Any Character Except New Line\n",
    "\\d      - Digit (0-9)\n",
    "\\D      - Not a Digit (0-9)\n",
    "\\w      - Word Character (a-z, A-Z, 0-9, _)\n",
    "\\W      - Not a Word Character\n",
    "\\s      - Whitespace (space, tab, newline)\n",
    "\\S      - Not Whitespace (space, tab, newline)\n",
    "\n",
    "\\b      - Word Boundary\n",
    "\\B      - Not a Word Boundary\n",
    "^       - Beginning of a String\n",
    "$       - End of a String\n",
    "\n",
    "[]      - Matches Characters in brackets\n",
    "[^ ]    - Matches Characters NOT in brackets\n",
    "|       - Either Or\n",
    "( )     - Group\n",
    "```"
   ]
  },
  {
   "cell_type": "code",
   "execution_count": null,
   "id": "4d9eb915",
   "metadata": {},
   "outputs": [],
   "source": [
    "'''\n",
    "?       - 0 or One\n",
    "*       - 0 or More\n",
    "+       - 1 or More\n",
    "\n",
    "'''"
   ]
  },
  {
   "cell_type": "code",
   "execution_count": 24,
   "id": "fdefd67a",
   "metadata": {},
   "outputs": [
    {
     "data": {
      "text/plain": [
       "'^\\\\w+([\\\\.-]?\\\\w+)*@\\\\w+([\\\\.-]?\\\\w+)*(\\\\.\\\\w{2,3})+$'"
      ]
     },
     "execution_count": 24,
     "metadata": {},
     "output_type": "execute_result"
    }
   ],
   "source": [
    "\"^\\w+([\\.-]?\\w+)*@\\w+([\\.-]?\\w+)*(\\.\\w{2,3})+$\""
   ]
  },
  {
   "cell_type": "code",
   "execution_count": null,
   "id": "b480bfd0",
   "metadata": {},
   "outputs": [],
   "source": [
    "'''^\n",
    "\\w+\n",
    "\n",
    "([\\.-]?\\w+)*\n",
    "\n",
    "@\n",
    "\n",
    "\\w+\n",
    "\n",
    "([\\.-]?\\w+)*\n",
    "\n",
    "(\\.\\w{2,3})+$'''"
   ]
  },
  {
   "cell_type": "code",
   "execution_count": null,
   "id": "eeb085c7",
   "metadata": {},
   "outputs": [],
   "source": [
    "shivam.shivam.shivam.shivam-shivam@shivam.shivam.shivam.shivam-shivam.ac.in.com.com.in"
   ]
  },
  {
   "cell_type": "code",
   "execution_count": null,
   "id": "1b9bfe9c",
   "metadata": {},
   "outputs": [],
   "source": [
    "Shivam-Shivam-Shivam.shivam.yadav-yadav@Shivam-Shivam-Shivam.shivam.yadav-yadav.com"
   ]
  },
  {
   "cell_type": "code",
   "execution_count": null,
   "id": "434256ab",
   "metadata": {},
   "outputs": [],
   "source": [
    "866shivam866shivam.866shivam-866shivam@866shivam866shivam.866shivam-866shivam.in"
   ]
  },
  {
   "cell_type": "code",
   "execution_count": null,
   "id": "b413130e",
   "metadata": {},
   "outputs": [],
   "source": [
    "shivam867-shivam867@shivam867-shivam867.kl"
   ]
  },
  {
   "cell_type": "code",
   "execution_count": null,
   "id": "76c7a4a3",
   "metadata": {},
   "outputs": [],
   "source": [
    "shivam_shivam687.shivam_shivam687@shivam_shivam687.shivam_shivam687.pk"
   ]
  },
  {
   "cell_type": "code",
   "execution_count": null,
   "id": "06e320c0",
   "metadata": {},
   "outputs": [],
   "source": [
    "_Shivam_Shivam@_Shivam_Shivam.tyl"
   ]
  },
  {
   "cell_type": "code",
   "execution_count": null,
   "id": "6e22c983",
   "metadata": {},
   "outputs": [],
   "source": []
  },
  {
   "cell_type": "code",
   "execution_count": 25,
   "id": "4ac7d2a7",
   "metadata": {},
   "outputs": [
    {
     "name": "stdout",
     "output_type": "stream",
     "text": [
      "Dave Martin\n",
      "615-555-7164\n",
      "173 Main St., Springfield RI 55924\n",
      "davemartin@bogusemail.com\n",
      "\n",
      "Charles Harris\n",
      "800-555-5669\n",
      "969 High St., Atlantis VA 34075\n",
      "charlesharris@bogusemail.com\n",
      "\n",
      "Eric Williams\n",
      "560-555-5153\n",
      "806 1st St., Faketown AK 86847\n",
      "laurawilliams@bogusemail.com\n",
      "\n",
      "Corey Jefferson\n",
      "900-555-9340\n",
      "826 Elm St., Epicburg NE 10671\n",
      "coreyjefferson@bogusemail.com\n",
      "\n",
      "Jennifer Martin-White\n",
      "714-555-7405\n",
      "212 Cedar St., Sunnydale CT 74983\n",
      "jenniferwhite@bogusemail.com\n",
      "\n",
      "Erick Davis\n",
      "800-555-6771\n",
      "519 Washington St., \n"
     ]
    }
   ],
   "source": [
    "data = open(\"data.txt\", \"r\").read()\n",
    "print(data[:500]) # display some data"
   ]
  },
  {
   "cell_type": "code",
   "execution_count": 26,
   "id": "a7a147a5",
   "metadata": {},
   "outputs": [],
   "source": [
    "import re"
   ]
  },
  {
   "cell_type": "code",
   "execution_count": null,
   "id": "9de4f563",
   "metadata": {},
   "outputs": [],
   "source": [
    " r\"\\w+([\\.-]?\\w+)*@\\w+([\\.-]?\\w+)*(\\.\\w{2,3})+\""
   ]
  },
  {
   "cell_type": "code",
   "execution_count": 27,
   "id": "ba59182e",
   "metadata": {},
   "outputs": [
    {
     "name": "stdout",
     "output_type": "stream",
     "text": [
      "\n",
      "\n"
     ]
    }
   ],
   "source": [
    "print(\"\\n\")"
   ]
  },
  {
   "cell_type": "code",
   "execution_count": 29,
   "id": "d642d3fc",
   "metadata": {},
   "outputs": [
    {
     "name": "stdout",
     "output_type": "stream",
     "text": [
      "\\n\n"
     ]
    }
   ],
   "source": [
    "print(r\"\\n\") # raw string "
   ]
  },
  {
   "cell_type": "code",
   "execution_count": 31,
   "id": "51b31c4a",
   "metadata": {},
   "outputs": [
    {
     "data": {
      "text/plain": [
       "re.compile(r'\\w+([\\.-]?\\w+)*@\\w+([\\.-]?\\w+)*(\\.\\w{2,3})+', re.UNICODE)"
      ]
     },
     "execution_count": 31,
     "metadata": {},
     "output_type": "execute_result"
    }
   ],
   "source": [
    "pattern = re.compile(r\"\\w+([\\.-]?\\w+)*@\\w+([\\.-]?\\w+)*(\\.\\w{2,3})+\")\n",
    "pattern"
   ]
  },
  {
   "cell_type": "code",
   "execution_count": 32,
   "id": "d4f35fa4",
   "metadata": {},
   "outputs": [
    {
     "data": {
      "text/plain": [
       "re.Pattern"
      ]
     },
     "execution_count": 32,
     "metadata": {},
     "output_type": "execute_result"
    }
   ],
   "source": [
    "type(pattern)"
   ]
  },
  {
   "cell_type": "code",
   "execution_count": 33,
   "id": "3bd88680",
   "metadata": {},
   "outputs": [
    {
     "data": {
      "text/plain": [
       "<callable_iterator at 0x7fee290d9be0>"
      ]
     },
     "execution_count": 33,
     "metadata": {},
     "output_type": "execute_result"
    }
   ],
   "source": [
    "matches = pattern.finditer(data)\n",
    "matches"
   ]
  },
  {
   "cell_type": "code",
   "execution_count": 34,
   "id": "7e2eb03d",
   "metadata": {},
   "outputs": [
    {
     "name": "stdout",
     "output_type": "stream",
     "text": [
      "<re.Match object; span=(60, 85), match='davemartin@bogusemail.com'>\n",
      "<re.Match object; span=(147, 175), match='charlesharris@bogusemail.com'>\n",
      "<re.Match object; span=(235, 263), match='laurawilliams@bogusemail.com'>\n",
      "<re.Match object; span=(325, 354), match='coreyjefferson@bogusemail.com'>\n",
      "<re.Match object; span=(425, 453), match='jenniferwhite@bogusemail.com'>\n",
      "<re.Match object; span=(517, 540), match='tomdavis@bogusemail.com'>\n",
      "<re.Match object; span=(601, 629), match='neilpatterson@bogusemail.com'>\n",
      "<re.Match object; span=(695, 724), match='laurajefferson@bogusemail.com'>\n",
      "<re.Match object; span=(785, 812), match='mariajohnson@bogusemail.com'>\n",
      "<re.Match object; span=(871, 899), match='michaelarnold@bogusemail.com'>\n",
      "<re.Match object; span=(962, 989), match='michaelsmith@bogusemail.com'>\n",
      "<re.Match object; span=(1049, 1076), match='robertstuart@bogusemail.com'>\n",
      "<re.Match object; span=(1137, 1163), match='lauramartin@bogusemail.com'>\n",
      "<re.Match object; span=(1225, 1253), match='barbaramartin@bogusemail.com'>\n",
      "<re.Match object; span=(1314, 1341), match='lindajackson@bogusemail.com'>\n",
      "<re.Match object; span=(1399, 1425), match='stevemiller@bogusemail.com'>\n",
      "<re.Match object; span=(1483, 1508), match='davearnold@bogusemail.com'>\n",
      "<re.Match object; span=(1571, 1600), match='jenniferjacobs@bogusemail.com'>\n",
      "<re.Match object; span=(1657, 1682), match='neilwilson@bogusemail.com'>\n",
      "<re.Match object; span=(1750, 1776), match='kurtjackson@bogusemail.com'>\n",
      "<re.Match object; span=(1833, 1858), match='maryjacobs@bogusemail.com'>\n",
      "<re.Match object; span=(1916, 1943), match='michaelwhite@bogusemail.com'>\n",
      "<re.Match object; span=(2008, 2038), match='jenniferjenkins@bogusemail.com'>\n",
      "<re.Match object; span=(2098, 2122), match='samwright@bogusemail.com'>\n",
      "<re.Match object; span=(2179, 2203), match='johndavis@bogusemail.com'>\n",
      "<re.Match object; span=(2260, 2284), match='neildavis@bogusemail.com'>\n",
      "<re.Match object; span=(2344, 2371), match='laurajackson@bogusemail.com'>\n",
      "<re.Match object; span=(2431, 2458), match='johnwilliams@bogusemail.com'>\n",
      "<re.Match object; span=(2519, 2547), match='michaelmartin@bogusemail.com'>\n",
      "<re.Match object; span=(2607, 2633), match='maggiebrown@bogusemail.com'>\n",
      "<re.Match object; span=(2690, 2715), match='kurtwilson@bogusemail.com'>\n",
      "<re.Match object; span=(2782, 2812), match='elizabetharnold@bogusemail.com'>\n",
      "<re.Match object; span=(2873, 2898), match='janemartin@bogusemail.com'>\n",
      "<re.Match object; span=(2966, 2994), match='travisjohnson@bogusemail.com'>\n",
      "<re.Match object; span=(3059, 3088), match='laurajefferson@bogusemail.com'>\n",
      "<re.Match object; span=(3148, 3174), match='tomwilliams@bogusemail.com'>\n",
      "<re.Match object; span=(3240, 3269), match='jennifertaylor@bogusemail.com'>\n",
      "<re.Match object; span=(3331, 3360), match='jenniferwright@bogusemail.com'>\n",
      "<re.Match object; span=(3416, 3439), match='stevedoe@bogusemail.com'>\n",
      "<re.Match object; span=(3496, 3520), match='kurtdavis@bogusemail.com'>\n",
      "<re.Match object; span=(3582, 3608), match='coreyharris@bogusemail.com'>\n",
      "<re.Match object; span=(3669, 3696), match='nicoletaylor@bogusemail.com'>\n",
      "<re.Match object; span=(3756, 3785), match='elizabethdavis@bogusemail.com'>\n",
      "<re.Match object; span=(3845, 3873), match='maggiejenkins@bogusemail.com'>\n",
      "<re.Match object; span=(3933, 3958), match='lindadavis@bogusemail.com'>\n",
      "<re.Match object; span=(4016, 4040), match='davemoore@bogusemail.com'>\n",
      "<re.Match object; span=(4100, 4127), match='lindajenkins@bogusemail.com'>\n",
      "<re.Match object; span=(4185, 4208), match='samwhite@bogusemail.com'>\n",
      "<re.Match object; span=(4269, 4297), match='laurarobinson@bogusemail.com'>\n",
      "<re.Match object; span=(4362, 4393), match='charlespatterson@bogusemail.com'>\n",
      "<re.Match object; span=(4455, 4480), match='joejackson@bogusemail.com'>\n",
      "<re.Match object; span=(4544, 4573), match='michaeljohnson@bogusemail.com'>\n",
      "<re.Match object; span=(4636, 4662), match='coreymiller@bogusemail.com'>\n",
      "<re.Match object; span=(4719, 4744), match='jamesmoore@bogusemail.com'>\n",
      "<re.Match object; span=(4813, 4842), match='jenniferstuart@bogusemail.com'>\n",
      "<re.Match object; span=(4904, 4932), match='charlesmartin@bogusemail.com'>\n",
      "<re.Match object; span=(4992, 5015), match='joewilks@bogusemail.com'>\n",
      "<re.Match object; span=(5079, 5109), match='elizabetharnold@bogusemail.com'>\n",
      "<re.Match object; span=(5169, 5194), match='johnmiller@bogusemail.com'>\n",
      "<re.Match object; span=(5252, 5279), match='coreyjackson@bogusemail.com'>\n",
      "<re.Match object; span=(5340, 5364), match='samthomas@bogusemail.com'>\n",
      "<re.Match object; span=(5429, 5458), match='patriciathomas@bogusemail.com'>\n",
      "<re.Match object; span=(5521, 5549), match='jenniferdavis@bogusemail.com'>\n",
      "<re.Match object; span=(5609, 5637), match='patriciabrown@bogusemail.com'>\n",
      "<re.Match object; span=(5700, 5730), match='barbarawilliams@bogusemail.com'>\n",
      "<re.Match object; span=(5790, 5816), match='jamestaylor@bogusemail.com'>\n",
      "<re.Match object; span=(5875, 5903), match='barbaraharris@bogusemail.com'>\n",
      "<re.Match object; span=(5967, 5996), match='travisanderson@bogusemail.com'>\n",
      "<re.Match object; span=(6056, 6082), match='samrobinson@bogusemail.com'>\n",
      "<re.Match object; span=(6147, 6175), match='steverobinson@bogusemail.com'>\n",
      "<re.Match object; span=(6235, 6260), match='marywilson@bogusemail.com'>\n",
      "<re.Match object; span=(6320, 6344), match='samwilson@bogusemail.com'>\n",
      "<re.Match object; span=(6404, 6431), match='charlesjones@bogusemail.com'>\n",
      "<re.Match object; span=(6492, 6517), match='laurabrown@bogusemail.com'>\n",
      "<re.Match object; span=(6577, 6601), match='tomharris@bogusemail.com'>\n",
      "<re.Match object; span=(6663, 6692), match='patriciataylor@bogusemail.com'>\n",
      "<re.Match object; span=(6756, 6786), match='barbarawilliams@bogusemail.com'>\n",
      "<re.Match object; span=(6847, 6875), match='maggiejohnson@bogusemail.com'>\n",
      "<re.Match object; span=(6932, 6957), match='kurtmiller@bogusemail.com'>\n",
      "<re.Match object; span=(7018, 7043), match='neilstuart@bogusemail.com'>\n",
      "<re.Match object; span=(7107, 7136), match='lindapatterson@bogusemail.com'>\n",
      "<re.Match object; span=(7195, 7222), match='charlesdavis@bogusemail.com'>\n",
      "<re.Match object; span=(7289, 7321), match='jenniferjefferson@bogusemail.com'>\n",
      "<re.Match object; span=(7386, 7412), match='coreytaylor@bogusemail.com'>\n",
      "<re.Match object; span=(7472, 7498), match='robertwilks@bogusemail.com'>\n",
      "<re.Match object; span=(7562, 7590), match='travisjackson@bogusemail.com'>\n",
      "<re.Match object; span=(7651, 7679), match='travisjackson@bogusemail.com'>\n",
      "<re.Match object; span=(7740, 7765), match='laurawilks@bogusemail.com'>\n",
      "<re.Match object; span=(7823, 7848), match='neilarnold@bogusemail.com'>\n",
      "<re.Match object; span=(7908, 7935), match='lindajohnson@bogusemail.com'>\n",
      "<re.Match object; span=(7999, 8028), match='jenniferwilson@bogusemail.com'>\n",
      "<re.Match object; span=(8088, 8114), match='nicolewhite@bogusemail.com'>\n",
      "<re.Match object; span=(8175, 8201), match='mariaarnold@bogusemail.com'>\n",
      "<re.Match object; span=(8264, 8292), match='jenniferdavis@bogusemail.com'>\n",
      "<re.Match object; span=(8353, 8381), match='marypatterson@bogusemail.com'>\n",
      "<re.Match object; span=(8439, 8464), match='janestuart@bogusemail.com'>\n",
      "<re.Match object; span=(8523, 8549), match='robertdavis@bogusemail.com'>\n",
      "<re.Match object; span=(8608, 8634), match='jamestaylor@bogusemail.com'>\n",
      "<re.Match object; span=(8699, 8724), match='johnstuart@bogusemail.com'>\n",
      "<re.Match object; span=(8794, 8822), match='charlesmiller@bogusemail.com'>\n"
     ]
    }
   ],
   "source": [
    "for match in matches:\n",
    "    print(match)"
   ]
  },
  {
   "cell_type": "code",
   "execution_count": 36,
   "id": "ab1ff694",
   "metadata": {},
   "outputs": [
    {
     "data": {
      "text/plain": [
       "8794"
      ]
     },
     "execution_count": 36,
     "metadata": {},
     "output_type": "execute_result"
    }
   ],
   "source": [
    "match.start()"
   ]
  },
  {
   "cell_type": "code",
   "execution_count": 37,
   "id": "f6f4dbf3",
   "metadata": {},
   "outputs": [
    {
     "data": {
      "text/plain": [
       "8822"
      ]
     },
     "execution_count": 37,
     "metadata": {},
     "output_type": "execute_result"
    }
   ],
   "source": [
    "match.end()"
   ]
  },
  {
   "cell_type": "code",
   "execution_count": 38,
   "id": "0ebe7965",
   "metadata": {},
   "outputs": [
    {
     "data": {
      "text/plain": [
       "'charlesmiller@bogusemail.com'"
      ]
     },
     "execution_count": 38,
     "metadata": {},
     "output_type": "execute_result"
    }
   ],
   "source": [
    "match.group()"
   ]
  },
  {
   "cell_type": "code",
   "execution_count": 39,
   "id": "3318c0a6",
   "metadata": {},
   "outputs": [],
   "source": [
    "pattern = re.compile(r\"\\w+([\\.-]?\\w+)*@\\w+([\\.-]?\\w+)*(\\.\\w{2,3})+\")\n",
    "\n",
    "matches = pattern.finditer(data)\n",
    "\n",
    "potential_email_list = []\n",
    "\n",
    "for match in matches:\n",
    "    potential_email_list.append(match.group())"
   ]
  },
  {
   "cell_type": "code",
   "execution_count": 40,
   "id": "d449273d",
   "metadata": {},
   "outputs": [
    {
     "data": {
      "text/plain": [
       "['davemartin@bogusemail.com',\n",
       " 'charlesharris@bogusemail.com',\n",
       " 'laurawilliams@bogusemail.com',\n",
       " 'coreyjefferson@bogusemail.com',\n",
       " 'jenniferwhite@bogusemail.com',\n",
       " 'tomdavis@bogusemail.com',\n",
       " 'neilpatterson@bogusemail.com',\n",
       " 'laurajefferson@bogusemail.com',\n",
       " 'mariajohnson@bogusemail.com',\n",
       " 'michaelarnold@bogusemail.com',\n",
       " 'michaelsmith@bogusemail.com',\n",
       " 'robertstuart@bogusemail.com',\n",
       " 'lauramartin@bogusemail.com',\n",
       " 'barbaramartin@bogusemail.com',\n",
       " 'lindajackson@bogusemail.com',\n",
       " 'stevemiller@bogusemail.com',\n",
       " 'davearnold@bogusemail.com',\n",
       " 'jenniferjacobs@bogusemail.com',\n",
       " 'neilwilson@bogusemail.com',\n",
       " 'kurtjackson@bogusemail.com',\n",
       " 'maryjacobs@bogusemail.com',\n",
       " 'michaelwhite@bogusemail.com',\n",
       " 'jenniferjenkins@bogusemail.com',\n",
       " 'samwright@bogusemail.com',\n",
       " 'johndavis@bogusemail.com',\n",
       " 'neildavis@bogusemail.com',\n",
       " 'laurajackson@bogusemail.com',\n",
       " 'johnwilliams@bogusemail.com',\n",
       " 'michaelmartin@bogusemail.com',\n",
       " 'maggiebrown@bogusemail.com',\n",
       " 'kurtwilson@bogusemail.com',\n",
       " 'elizabetharnold@bogusemail.com',\n",
       " 'janemartin@bogusemail.com',\n",
       " 'travisjohnson@bogusemail.com',\n",
       " 'laurajefferson@bogusemail.com',\n",
       " 'tomwilliams@bogusemail.com',\n",
       " 'jennifertaylor@bogusemail.com',\n",
       " 'jenniferwright@bogusemail.com',\n",
       " 'stevedoe@bogusemail.com',\n",
       " 'kurtdavis@bogusemail.com',\n",
       " 'coreyharris@bogusemail.com',\n",
       " 'nicoletaylor@bogusemail.com',\n",
       " 'elizabethdavis@bogusemail.com',\n",
       " 'maggiejenkins@bogusemail.com',\n",
       " 'lindadavis@bogusemail.com',\n",
       " 'davemoore@bogusemail.com',\n",
       " 'lindajenkins@bogusemail.com',\n",
       " 'samwhite@bogusemail.com',\n",
       " 'laurarobinson@bogusemail.com',\n",
       " 'charlespatterson@bogusemail.com',\n",
       " 'joejackson@bogusemail.com',\n",
       " 'michaeljohnson@bogusemail.com',\n",
       " 'coreymiller@bogusemail.com',\n",
       " 'jamesmoore@bogusemail.com',\n",
       " 'jenniferstuart@bogusemail.com',\n",
       " 'charlesmartin@bogusemail.com',\n",
       " 'joewilks@bogusemail.com',\n",
       " 'elizabetharnold@bogusemail.com',\n",
       " 'johnmiller@bogusemail.com',\n",
       " 'coreyjackson@bogusemail.com',\n",
       " 'samthomas@bogusemail.com',\n",
       " 'patriciathomas@bogusemail.com',\n",
       " 'jenniferdavis@bogusemail.com',\n",
       " 'patriciabrown@bogusemail.com',\n",
       " 'barbarawilliams@bogusemail.com',\n",
       " 'jamestaylor@bogusemail.com',\n",
       " 'barbaraharris@bogusemail.com',\n",
       " 'travisanderson@bogusemail.com',\n",
       " 'samrobinson@bogusemail.com',\n",
       " 'steverobinson@bogusemail.com',\n",
       " 'marywilson@bogusemail.com',\n",
       " 'samwilson@bogusemail.com',\n",
       " 'charlesjones@bogusemail.com',\n",
       " 'laurabrown@bogusemail.com',\n",
       " 'tomharris@bogusemail.com',\n",
       " 'patriciataylor@bogusemail.com',\n",
       " 'barbarawilliams@bogusemail.com',\n",
       " 'maggiejohnson@bogusemail.com',\n",
       " 'kurtmiller@bogusemail.com',\n",
       " 'neilstuart@bogusemail.com',\n",
       " 'lindapatterson@bogusemail.com',\n",
       " 'charlesdavis@bogusemail.com',\n",
       " 'jenniferjefferson@bogusemail.com',\n",
       " 'coreytaylor@bogusemail.com',\n",
       " 'robertwilks@bogusemail.com',\n",
       " 'travisjackson@bogusemail.com',\n",
       " 'travisjackson@bogusemail.com',\n",
       " 'laurawilks@bogusemail.com',\n",
       " 'neilarnold@bogusemail.com',\n",
       " 'lindajohnson@bogusemail.com',\n",
       " 'jenniferwilson@bogusemail.com',\n",
       " 'nicolewhite@bogusemail.com',\n",
       " 'mariaarnold@bogusemail.com',\n",
       " 'jenniferdavis@bogusemail.com',\n",
       " 'marypatterson@bogusemail.com',\n",
       " 'janestuart@bogusemail.com',\n",
       " 'robertdavis@bogusemail.com',\n",
       " 'jamestaylor@bogusemail.com',\n",
       " 'johnstuart@bogusemail.com',\n",
       " 'charlesmiller@bogusemail.com']"
      ]
     },
     "execution_count": 40,
     "metadata": {},
     "output_type": "execute_result"
    }
   ],
   "source": [
    "potential_email_list"
   ]
  },
  {
   "cell_type": "code",
   "execution_count": 41,
   "id": "e73f74fb",
   "metadata": {},
   "outputs": [],
   "source": [
    "def mask_email(s):\n",
    "  if \"@\" in s:\n",
    "    name, domain = s.split(\"@\")\n",
    "    return f\"{name[0]}####{name[-1]}@{domain}\""
   ]
  },
  {
   "cell_type": "code",
   "execution_count": 42,
   "id": "87a4a1a0",
   "metadata": {},
   "outputs": [
    {
     "data": {
      "text/plain": [
       "['d####n@bogusemail.com',\n",
       " 'c####s@bogusemail.com',\n",
       " 'l####s@bogusemail.com',\n",
       " 'c####n@bogusemail.com',\n",
       " 'j####e@bogusemail.com',\n",
       " 't####s@bogusemail.com',\n",
       " 'n####n@bogusemail.com',\n",
       " 'l####n@bogusemail.com',\n",
       " 'm####n@bogusemail.com',\n",
       " 'm####d@bogusemail.com',\n",
       " 'm####h@bogusemail.com',\n",
       " 'r####t@bogusemail.com',\n",
       " 'l####n@bogusemail.com',\n",
       " 'b####n@bogusemail.com',\n",
       " 'l####n@bogusemail.com',\n",
       " 's####r@bogusemail.com',\n",
       " 'd####d@bogusemail.com',\n",
       " 'j####s@bogusemail.com',\n",
       " 'n####n@bogusemail.com',\n",
       " 'k####n@bogusemail.com',\n",
       " 'm####s@bogusemail.com',\n",
       " 'm####e@bogusemail.com',\n",
       " 'j####s@bogusemail.com',\n",
       " 's####t@bogusemail.com',\n",
       " 'j####s@bogusemail.com',\n",
       " 'n####s@bogusemail.com',\n",
       " 'l####n@bogusemail.com',\n",
       " 'j####s@bogusemail.com',\n",
       " 'm####n@bogusemail.com',\n",
       " 'm####n@bogusemail.com',\n",
       " 'k####n@bogusemail.com',\n",
       " 'e####d@bogusemail.com',\n",
       " 'j####n@bogusemail.com',\n",
       " 't####n@bogusemail.com',\n",
       " 'l####n@bogusemail.com',\n",
       " 't####s@bogusemail.com',\n",
       " 'j####r@bogusemail.com',\n",
       " 'j####t@bogusemail.com',\n",
       " 's####e@bogusemail.com',\n",
       " 'k####s@bogusemail.com',\n",
       " 'c####s@bogusemail.com',\n",
       " 'n####r@bogusemail.com',\n",
       " 'e####s@bogusemail.com',\n",
       " 'm####s@bogusemail.com',\n",
       " 'l####s@bogusemail.com',\n",
       " 'd####e@bogusemail.com',\n",
       " 'l####s@bogusemail.com',\n",
       " 's####e@bogusemail.com',\n",
       " 'l####n@bogusemail.com',\n",
       " 'c####n@bogusemail.com',\n",
       " 'j####n@bogusemail.com',\n",
       " 'm####n@bogusemail.com',\n",
       " 'c####r@bogusemail.com',\n",
       " 'j####e@bogusemail.com',\n",
       " 'j####t@bogusemail.com',\n",
       " 'c####n@bogusemail.com',\n",
       " 'j####s@bogusemail.com',\n",
       " 'e####d@bogusemail.com',\n",
       " 'j####r@bogusemail.com',\n",
       " 'c####n@bogusemail.com',\n",
       " 's####s@bogusemail.com',\n",
       " 'p####s@bogusemail.com',\n",
       " 'j####s@bogusemail.com',\n",
       " 'p####n@bogusemail.com',\n",
       " 'b####s@bogusemail.com',\n",
       " 'j####r@bogusemail.com',\n",
       " 'b####s@bogusemail.com',\n",
       " 't####n@bogusemail.com',\n",
       " 's####n@bogusemail.com',\n",
       " 's####n@bogusemail.com',\n",
       " 'm####n@bogusemail.com',\n",
       " 's####n@bogusemail.com',\n",
       " 'c####s@bogusemail.com',\n",
       " 'l####n@bogusemail.com',\n",
       " 't####s@bogusemail.com',\n",
       " 'p####r@bogusemail.com',\n",
       " 'b####s@bogusemail.com',\n",
       " 'm####n@bogusemail.com',\n",
       " 'k####r@bogusemail.com',\n",
       " 'n####t@bogusemail.com',\n",
       " 'l####n@bogusemail.com',\n",
       " 'c####s@bogusemail.com',\n",
       " 'j####n@bogusemail.com',\n",
       " 'c####r@bogusemail.com',\n",
       " 'r####s@bogusemail.com',\n",
       " 't####n@bogusemail.com',\n",
       " 't####n@bogusemail.com',\n",
       " 'l####s@bogusemail.com',\n",
       " 'n####d@bogusemail.com',\n",
       " 'l####n@bogusemail.com',\n",
       " 'j####n@bogusemail.com',\n",
       " 'n####e@bogusemail.com',\n",
       " 'm####d@bogusemail.com',\n",
       " 'j####s@bogusemail.com',\n",
       " 'm####n@bogusemail.com',\n",
       " 'j####t@bogusemail.com',\n",
       " 'r####s@bogusemail.com',\n",
       " 'j####r@bogusemail.com',\n",
       " 'j####t@bogusemail.com',\n",
       " 'c####r@bogusemail.com']"
      ]
     },
     "execution_count": 42,
     "metadata": {},
     "output_type": "execute_result"
    }
   ],
   "source": [
    "[mask_email(email) for email in potential_email_list]"
   ]
  },
  {
   "cell_type": "code",
   "execution_count": 43,
   "id": "56e04310",
   "metadata": {},
   "outputs": [],
   "source": [
    "import pandas as pd, numpy as np"
   ]
  },
  {
   "cell_type": "code",
   "execution_count": 46,
   "id": "6db0c8cb",
   "metadata": {},
   "outputs": [
    {
     "data": {
      "text/html": [
       "<div>\n",
       "<style scoped>\n",
       "    .dataframe tbody tr th:only-of-type {\n",
       "        vertical-align: middle;\n",
       "    }\n",
       "\n",
       "    .dataframe tbody tr th {\n",
       "        vertical-align: top;\n",
       "    }\n",
       "\n",
       "    .dataframe thead th {\n",
       "        text-align: right;\n",
       "    }\n",
       "</style>\n",
       "<table border=\"1\" class=\"dataframe\">\n",
       "  <thead>\n",
       "    <tr style=\"text-align: right;\">\n",
       "      <th></th>\n",
       "      <th>emails</th>\n",
       "    </tr>\n",
       "  </thead>\n",
       "  <tbody>\n",
       "    <tr>\n",
       "      <th>0</th>\n",
       "      <td>davemartin@bogusemail.com</td>\n",
       "    </tr>\n",
       "    <tr>\n",
       "      <th>1</th>\n",
       "      <td>charlesharris@bogusemail.com</td>\n",
       "    </tr>\n",
       "    <tr>\n",
       "      <th>2</th>\n",
       "      <td>laurawilliams@bogusemail.com</td>\n",
       "    </tr>\n",
       "    <tr>\n",
       "      <th>3</th>\n",
       "      <td>coreyjefferson@bogusemail.com</td>\n",
       "    </tr>\n",
       "    <tr>\n",
       "      <th>4</th>\n",
       "      <td>jenniferwhite@bogusemail.com</td>\n",
       "    </tr>\n",
       "  </tbody>\n",
       "</table>\n",
       "</div>"
      ],
      "text/plain": [
       "                          emails\n",
       "0      davemartin@bogusemail.com\n",
       "1   charlesharris@bogusemail.com\n",
       "2   laurawilliams@bogusemail.com\n",
       "3  coreyjefferson@bogusemail.com\n",
       "4   jenniferwhite@bogusemail.com"
      ]
     },
     "execution_count": 46,
     "metadata": {},
     "output_type": "execute_result"
    }
   ],
   "source": [
    "df  = pd.DataFrame({\"emails\" : potential_email_list})\n",
    "df.head()"
   ]
  },
  {
   "cell_type": "code",
   "execution_count": 48,
   "id": "c085195f",
   "metadata": {},
   "outputs": [
    {
     "data": {
      "text/html": [
       "<div>\n",
       "<style scoped>\n",
       "    .dataframe tbody tr th:only-of-type {\n",
       "        vertical-align: middle;\n",
       "    }\n",
       "\n",
       "    .dataframe tbody tr th {\n",
       "        vertical-align: top;\n",
       "    }\n",
       "\n",
       "    .dataframe thead th {\n",
       "        text-align: right;\n",
       "    }\n",
       "</style>\n",
       "<table border=\"1\" class=\"dataframe\">\n",
       "  <thead>\n",
       "    <tr style=\"text-align: right;\">\n",
       "      <th></th>\n",
       "      <th>0</th>\n",
       "    </tr>\n",
       "  </thead>\n",
       "  <tbody>\n",
       "    <tr>\n",
       "      <th>0</th>\n",
       "      <td>bogus</td>\n",
       "    </tr>\n",
       "    <tr>\n",
       "      <th>1</th>\n",
       "      <td>bogus</td>\n",
       "    </tr>\n",
       "    <tr>\n",
       "      <th>2</th>\n",
       "      <td>bogus</td>\n",
       "    </tr>\n",
       "    <tr>\n",
       "      <th>3</th>\n",
       "      <td>bogus</td>\n",
       "    </tr>\n",
       "    <tr>\n",
       "      <th>4</th>\n",
       "      <td>bogus</td>\n",
       "    </tr>\n",
       "    <tr>\n",
       "      <th>...</th>\n",
       "      <td>...</td>\n",
       "    </tr>\n",
       "    <tr>\n",
       "      <th>95</th>\n",
       "      <td>bogus</td>\n",
       "    </tr>\n",
       "    <tr>\n",
       "      <th>96</th>\n",
       "      <td>bogus</td>\n",
       "    </tr>\n",
       "    <tr>\n",
       "      <th>97</th>\n",
       "      <td>bogus</td>\n",
       "    </tr>\n",
       "    <tr>\n",
       "      <th>98</th>\n",
       "      <td>bogus</td>\n",
       "    </tr>\n",
       "    <tr>\n",
       "      <th>99</th>\n",
       "      <td>bogus</td>\n",
       "    </tr>\n",
       "  </tbody>\n",
       "</table>\n",
       "<p>100 rows × 1 columns</p>\n",
       "</div>"
      ],
      "text/plain": [
       "        0\n",
       "0   bogus\n",
       "1   bogus\n",
       "2   bogus\n",
       "3   bogus\n",
       "4   bogus\n",
       "..    ...\n",
       "95  bogus\n",
       "96  bogus\n",
       "97  bogus\n",
       "98  bogus\n",
       "99  bogus\n",
       "\n",
       "[100 rows x 1 columns]"
      ]
     },
     "execution_count": 48,
     "metadata": {},
     "output_type": "execute_result"
    }
   ],
   "source": [
    "df[\"emails\"].str.extract(r'(bogus)')"
   ]
  },
  {
   "cell_type": "code",
   "execution_count": null,
   "id": "b57ad9b3",
   "metadata": {},
   "outputs": [],
   "source": []
  },
  {
   "cell_type": "code",
   "execution_count": null,
   "id": "0bb68cfe",
   "metadata": {},
   "outputs": [],
   "source": []
  },
  {
   "cell_type": "code",
   "execution_count": null,
   "id": "d47f0b1e",
   "metadata": {},
   "outputs": [],
   "source": []
  },
  {
   "cell_type": "code",
   "execution_count": null,
   "id": "985de451",
   "metadata": {},
   "outputs": [],
   "source": []
  },
  {
   "cell_type": "code",
   "execution_count": null,
   "id": "03d1cb4a",
   "metadata": {},
   "outputs": [],
   "source": []
  },
  {
   "cell_type": "code",
   "execution_count": null,
   "id": "1b147f7f",
   "metadata": {},
   "outputs": [],
   "source": []
  },
  {
   "cell_type": "code",
   "execution_count": null,
   "id": "6ead6f20",
   "metadata": {},
   "outputs": [],
   "source": []
  }
 ],
 "metadata": {
  "kernelspec": {
   "display_name": "Python 3 (ipykernel)",
   "language": "python",
   "name": "python3"
  },
  "language_info": {
   "codemirror_mode": {
    "name": "ipython",
    "version": 3
   },
   "file_extension": ".py",
   "mimetype": "text/x-python",
   "name": "python",
   "nbconvert_exporter": "python",
   "pygments_lexer": "ipython3",
   "version": "3.9.12"
  }
 },
 "nbformat": 4,
 "nbformat_minor": 5
}
