{
 "cells": [
  {
   "cell_type": "code",
   "execution_count": 1,
   "id": "33f36c28",
   "metadata": {},
   "outputs": [],
   "source": [
    "import numpy as np\n",
    "import pandas as pd\n",
    "import matplotlib.pyplot as plt\n",
    "\n",
    "from scipy.stats import norm"
   ]
  },
  {
   "cell_type": "code",
   "execution_count": 2,
   "id": "253f7321",
   "metadata": {},
   "outputs": [],
   "source": [
    "def simulate_hypothesis(n_samples, n_simulations, diff = 0):\n",
    "    # n_samples = 100\n",
    "    # n_simulations = 1000\n",
    "    \n",
    "    simulated_dist = [np.random.normal(size=n_samples) for i in range(n_simulations)]\n",
    "    sampling_dist_h0 = np.mean(simulated_dist, axis = 1)\n",
    "    sampling_dist_ha = sampling_dist_h0 + diff\n",
    "    \n",
    "    plt.hist(sampling_dist_h0, bins=50, color=\"y\")\n",
    "    plt.hist(sampling_dist_ha, bins=50, color=\"r\") \n",
    "    plt.show()\n",
    "    "
   ]
  },
  {
   "cell_type": "code",
   "execution_count": null,
   "id": "3e47945a",
   "metadata": {},
   "outputs": [],
   "source": [
    "(1000, 100)"
   ]
  },
  {
   "cell_type": "code",
   "execution_count": 7,
   "id": "a6c96628",
   "metadata": {},
   "outputs": [
    {
     "data": {
      "image/png": "[encoded data removed]",
      "text/plain": [
       "<Figure size 432x288 with 1 Axes>"
      ]
     },
     "metadata": {
      "needs_background": "light"
     },
     "output_type": "display_data"
    }
   ],
   "source": [
    "simulate_hypothesis(n = 10000, 1000, diff = 1)"
   ]
  },
  {
   "cell_type": "code",
   "execution_count": null,
   "id": "7d453550",
   "metadata": {},
   "outputs": [],
   "source": []
  },
  {
   "cell_type": "code",
   "execution_count": 8,
   "id": "89115059",
   "metadata": {},
   "outputs": [],
   "source": [
    "prev_yt_data = pd.read_csv(\"prev_data.csv\")"
   ]
  },
  {
   "cell_type": "code",
   "execution_count": 9,
   "id": "71a5099f",
   "metadata": {},
   "outputs": [
    {
     "data": {
      "text/html": [
       "<div>\n",
       "<style scoped>\n",
       "    .dataframe tbody tr th:only-of-type {\n",
       "        vertical-align: middle;\n",
       "    }\n",
       "\n",
       "    .dataframe tbody tr th {\n",
       "        vertical-align: top;\n",
       "    }\n",
       "\n",
       "    .dataframe thead th {\n",
       "        text-align: right;\n",
       "    }\n",
       "</style>\n",
       "<table border=\"1\" class=\"dataframe\">\n",
       "  <thead>\n",
       "    <tr style=\"text-align: right;\">\n",
       "      <th></th>\n",
       "      <th>date</th>\n",
       "      <th>customer_id</th>\n",
       "      <th>premium</th>\n",
       "      <th>watch_time_hrs</th>\n",
       "    </tr>\n",
       "  </thead>\n",
       "  <tbody>\n",
       "    <tr>\n",
       "      <th>0</th>\n",
       "      <td>2017-05-23</td>\n",
       "      <td>865</td>\n",
       "      <td>0</td>\n",
       "      <td>4.014356</td>\n",
       "    </tr>\n",
       "    <tr>\n",
       "      <th>1</th>\n",
       "      <td>2017-04-27</td>\n",
       "      <td>538</td>\n",
       "      <td>0</td>\n",
       "      <td>2.276858</td>\n",
       "    </tr>\n",
       "    <tr>\n",
       "      <th>2</th>\n",
       "      <td>2017-09-06</td>\n",
       "      <td>495</td>\n",
       "      <td>0</td>\n",
       "      <td>4.695549</td>\n",
       "    </tr>\n",
       "    <tr>\n",
       "      <th>3</th>\n",
       "      <td>2017-03-15</td>\n",
       "      <td>247</td>\n",
       "      <td>0</td>\n",
       "      <td>1.244982</td>\n",
       "    </tr>\n",
       "    <tr>\n",
       "      <th>4</th>\n",
       "      <td>2017-10-25</td>\n",
       "      <td>471</td>\n",
       "      <td>0</td>\n",
       "      <td>2.558311</td>\n",
       "    </tr>\n",
       "    <tr>\n",
       "      <th>...</th>\n",
       "      <td>...</td>\n",
       "      <td>...</td>\n",
       "      <td>...</td>\n",
       "      <td>...</td>\n",
       "    </tr>\n",
       "    <tr>\n",
       "      <th>19995</th>\n",
       "      <td>2017-08-08</td>\n",
       "      <td>193</td>\n",
       "      <td>0</td>\n",
       "      <td>2.980606</td>\n",
       "    </tr>\n",
       "    <tr>\n",
       "      <th>19996</th>\n",
       "      <td>2017-09-18</td>\n",
       "      <td>67</td>\n",
       "      <td>0</td>\n",
       "      <td>3.900742</td>\n",
       "    </tr>\n",
       "    <tr>\n",
       "      <th>19997</th>\n",
       "      <td>2017-08-14</td>\n",
       "      <td>421</td>\n",
       "      <td>0</td>\n",
       "      <td>16.966625</td>\n",
       "    </tr>\n",
       "    <tr>\n",
       "      <th>19998</th>\n",
       "      <td>2017-02-03</td>\n",
       "      <td>915</td>\n",
       "      <td>0</td>\n",
       "      <td>2.422626</td>\n",
       "    </tr>\n",
       "    <tr>\n",
       "      <th>19999</th>\n",
       "      <td>2017-05-13</td>\n",
       "      <td>231</td>\n",
       "      <td>0</td>\n",
       "      <td>2.962032</td>\n",
       "    </tr>\n",
       "  </tbody>\n",
       "</table>\n",
       "<p>20000 rows × 4 columns</p>\n",
       "</div>"
      ],
      "text/plain": [
       "             date  customer_id  premium  watch_time_hrs\n",
       "0      2017-05-23          865        0        4.014356\n",
       "1      2017-04-27          538        0        2.276858\n",
       "2      2017-09-06          495        0        4.695549\n",
       "3      2017-03-15          247        0        1.244982\n",
       "4      2017-10-25          471        0        2.558311\n",
       "...           ...          ...      ...             ...\n",
       "19995  2017-08-08          193        0        2.980606\n",
       "19996  2017-09-18           67        0        3.900742\n",
       "19997  2017-08-14          421        0       16.966625\n",
       "19998  2017-02-03          915        0        2.422626\n",
       "19999  2017-05-13          231        0        2.962032\n",
       "\n",
       "[20000 rows x 4 columns]"
      ]
     },
     "execution_count": 9,
     "metadata": {},
     "output_type": "execute_result"
    }
   ],
   "source": [
    "prev_yt_data"
   ]
  },
  {
   "cell_type": "code",
   "execution_count": 10,
   "id": "7f5df587",
   "metadata": {},
   "outputs": [
    {
     "data": {
      "text/html": [
       "<div>\n",
       "<style scoped>\n",
       "    .dataframe tbody tr th:only-of-type {\n",
       "        vertical-align: middle;\n",
       "    }\n",
       "\n",
       "    .dataframe tbody tr th {\n",
       "        vertical-align: top;\n",
       "    }\n",
       "\n",
       "    .dataframe thead th {\n",
       "        text-align: right;\n",
       "    }\n",
       "</style>\n",
       "<table border=\"1\" class=\"dataframe\">\n",
       "  <thead>\n",
       "    <tr style=\"text-align: right;\">\n",
       "      <th></th>\n",
       "      <th>customer_id</th>\n",
       "      <th>premium</th>\n",
       "      <th>watch_time_hrs</th>\n",
       "    </tr>\n",
       "  </thead>\n",
       "  <tbody>\n",
       "    <tr>\n",
       "      <th>count</th>\n",
       "      <td>20000.000000</td>\n",
       "      <td>20000.000000</td>\n",
       "      <td>20000.000000</td>\n",
       "    </tr>\n",
       "    <tr>\n",
       "      <th>mean</th>\n",
       "      <td>496.860200</td>\n",
       "      <td>0.155450</td>\n",
       "      <td>8.121169</td>\n",
       "    </tr>\n",
       "    <tr>\n",
       "      <th>std</th>\n",
       "      <td>287.733041</td>\n",
       "      <td>0.362342</td>\n",
       "      <td>212.138482</td>\n",
       "    </tr>\n",
       "    <tr>\n",
       "      <th>min</th>\n",
       "      <td>0.000000</td>\n",
       "      <td>0.000000</td>\n",
       "      <td>0.192767</td>\n",
       "    </tr>\n",
       "    <tr>\n",
       "      <th>25%</th>\n",
       "      <td>250.000000</td>\n",
       "      <td>0.000000</td>\n",
       "      <td>1.769474</td>\n",
       "    </tr>\n",
       "    <tr>\n",
       "      <th>50%</th>\n",
       "      <td>496.000000</td>\n",
       "      <td>0.000000</td>\n",
       "      <td>2.854844</td>\n",
       "    </tr>\n",
       "    <tr>\n",
       "      <th>75%</th>\n",
       "      <td>742.250000</td>\n",
       "      <td>0.000000</td>\n",
       "      <td>4.551919</td>\n",
       "    </tr>\n",
       "    <tr>\n",
       "      <th>max</th>\n",
       "      <td>999.000000</td>\n",
       "      <td>1.000000</td>\n",
       "      <td>10008.561895</td>\n",
       "    </tr>\n",
       "  </tbody>\n",
       "</table>\n",
       "</div>"
      ],
      "text/plain": [
       "        customer_id       premium  watch_time_hrs\n",
       "count  20000.000000  20000.000000    20000.000000\n",
       "mean     496.860200      0.155450        8.121169\n",
       "std      287.733041      0.362342      212.138482\n",
       "min        0.000000      0.000000        0.192767\n",
       "25%      250.000000      0.000000        1.769474\n",
       "50%      496.000000      0.000000        2.854844\n",
       "75%      742.250000      0.000000        4.551919\n",
       "max      999.000000      1.000000    10008.561895"
      ]
     },
     "execution_count": 10,
     "metadata": {},
     "output_type": "execute_result"
    }
   ],
   "source": [
    "prev_yt_data.describe()"
   ]
  },
  {
   "cell_type": "code",
   "execution_count": 11,
   "id": "c7c90a2f",
   "metadata": {},
   "outputs": [
    {
     "data": {
      "text/plain": [
       "23.93426900607841"
      ]
     },
     "execution_count": 11,
     "metadata": {},
     "output_type": "execute_result"
    }
   ],
   "source": [
    "q998 = prev_yt_data[\"watch_time_hrs\"].quantile(0.998)\n",
    "q998"
   ]
  },
  {
   "cell_type": "code",
   "execution_count": 12,
   "id": "a93c15b3",
   "metadata": {},
   "outputs": [],
   "source": [
    "prev_yt_data_no_out = prev_yt_data[prev_yt_data[\"watch_time_hrs\"]<q998]"
   ]
  },
  {
   "cell_type": "code",
   "execution_count": 13,
   "id": "d7aea83c",
   "metadata": {},
   "outputs": [
    {
     "data": {
      "text/plain": [
       "3.578971070350512"
      ]
     },
     "execution_count": 13,
     "metadata": {},
     "output_type": "execute_result"
    }
   ],
   "source": [
    "mu_h0 = np.mean(prev_yt_data_no_out[\"watch_time_hrs\"])\n",
    "mu_h0"
   ]
  },
  {
   "cell_type": "code",
   "execution_count": 15,
   "id": "a5a5433e",
   "metadata": {},
   "outputs": [
    {
     "data": {
      "text/plain": [
       "0.35789710703505123"
      ]
     },
     "execution_count": 15,
     "metadata": {},
     "output_type": "execute_result"
    }
   ],
   "source": [
    "# capture if there is a 10% difference\n",
    "diff_mu = np.abs(mu_h0 * 0.1)\n",
    "diff_mu"
   ]
  },
  {
   "cell_type": "code",
   "execution_count": 16,
   "id": "719e0e18",
   "metadata": {},
   "outputs": [
    {
     "data": {
      "text/plain": [
       "0.13374109689019162"
      ]
     },
     "execution_count": 16,
     "metadata": {},
     "output_type": "execute_result"
    }
   ],
   "source": [
    "# Effect size: Cohen'd (mu1 - mu2)/sigma\n",
    "\n",
    "cohens_d_effect_size = diff_mu / np.std(prev_yt_data_no_out[\"watch_time_hrs\"])\n",
    "cohens_d_effect_size"
   ]
  },
  {
   "cell_type": "code",
   "execution_count": 17,
   "id": "a27fe695",
   "metadata": {},
   "outputs": [],
   "source": [
    "from statsmodels.stats.power import TTestIndPower"
   ]
  },
  {
   "cell_type": "code",
   "execution_count": null,
   "id": "1db4597f",
   "metadata": {},
   "outputs": [],
   "source": [
    "# Given effect_size, \n",
    "# significance (alpha) and power (1 - beta), gives num of sample"
   ]
  },
  {
   "cell_type": "code",
   "execution_count": 18,
   "id": "bc96317c",
   "metadata": {},
   "outputs": [
    {
     "data": {
      "text/plain": [
       "878.5820842194388"
      ]
     },
     "execution_count": 18,
     "metadata": {},
     "output_type": "execute_result"
    }
   ],
   "source": [
    "TTestIndPower().solve_power(\n",
    "    effect_size = cohens_d_effect_size,\n",
    "    alpha = 0.05,\n",
    "    power = 0.80\n",
    ")"
   ]
  },
  {
   "cell_type": "code",
   "execution_count": 19,
   "id": "5ea929de",
   "metadata": {},
   "outputs": [
    {
     "data": {
      "text/plain": [
       "array([0.1 , 0.13, 0.16, 0.19, 0.22, 0.25, 0.28, 0.31, 0.34, 0.37, 0.4 ,\n",
       "       0.43, 0.46, 0.49, 0.52, 0.55, 0.58, 0.61, 0.64, 0.67, 0.7 , 0.73,\n",
       "       0.76, 0.79, 0.82, 0.85, 0.88, 0.91, 0.94, 0.97, 1.  ])"
      ]
     },
     "execution_count": 19,
     "metadata": {},
     "output_type": "execute_result"
    }
   ],
   "source": [
    "np.arange(0.1, 1.0, 0.03)"
   ]
  },
  {
   "cell_type": "code",
   "execution_count": 20,
   "id": "55918f1c",
   "metadata": {},
   "outputs": [
    {
     "data": {
      "text/html": [
       "<div>\n",
       "<style scoped>\n",
       "    .dataframe tbody tr th:only-of-type {\n",
       "        vertical-align: middle;\n",
       "    }\n",
       "\n",
       "    .dataframe tbody tr th {\n",
       "        vertical-align: top;\n",
       "    }\n",
       "\n",
       "    .dataframe thead th {\n",
       "        text-align: right;\n",
       "    }\n",
       "</style>\n",
       "<table border=\"1\" class=\"dataframe\">\n",
       "  <thead>\n",
       "    <tr style=\"text-align: right;\">\n",
       "      <th></th>\n",
       "      <th>power</th>\n",
       "      <th>min_sample_size</th>\n",
       "    </tr>\n",
       "  </thead>\n",
       "  <tbody>\n",
       "    <tr>\n",
       "      <th>0</th>\n",
       "      <td>0.10</td>\n",
       "      <td>48.557757</td>\n",
       "    </tr>\n",
       "    <tr>\n",
       "      <th>1</th>\n",
       "      <td>0.13</td>\n",
       "      <td>76.273003</td>\n",
       "    </tr>\n",
       "    <tr>\n",
       "      <th>2</th>\n",
       "      <td>0.16</td>\n",
       "      <td>103.638798</td>\n",
       "    </tr>\n",
       "    <tr>\n",
       "      <th>3</th>\n",
       "      <td>0.19</td>\n",
       "      <td>130.823168</td>\n",
       "    </tr>\n",
       "    <tr>\n",
       "      <th>4</th>\n",
       "      <td>0.22</td>\n",
       "      <td>157.968034</td>\n",
       "    </tr>\n",
       "    <tr>\n",
       "      <th>5</th>\n",
       "      <td>0.25</td>\n",
       "      <td>185.198235</td>\n",
       "    </tr>\n",
       "    <tr>\n",
       "      <th>6</th>\n",
       "      <td>0.28</td>\n",
       "      <td>212.628048</td>\n",
       "    </tr>\n",
       "    <tr>\n",
       "      <th>7</th>\n",
       "      <td>0.31</td>\n",
       "      <td>240.366047</td>\n",
       "    </tr>\n",
       "    <tr>\n",
       "      <th>8</th>\n",
       "      <td>0.34</td>\n",
       "      <td>268.518958</td>\n",
       "    </tr>\n",
       "    <tr>\n",
       "      <th>9</th>\n",
       "      <td>0.37</td>\n",
       "      <td>297.194999</td>\n",
       "    </tr>\n",
       "    <tr>\n",
       "      <th>10</th>\n",
       "      <td>0.40</td>\n",
       "      <td>326.506978</td>\n",
       "    </tr>\n",
       "    <tr>\n",
       "      <th>11</th>\n",
       "      <td>0.43</td>\n",
       "      <td>356.575451</td>\n",
       "    </tr>\n",
       "    <tr>\n",
       "      <th>12</th>\n",
       "      <td>0.46</td>\n",
       "      <td>387.532192</td>\n",
       "    </tr>\n",
       "    <tr>\n",
       "      <th>13</th>\n",
       "      <td>0.49</td>\n",
       "      <td>419.524152</td>\n",
       "    </tr>\n",
       "    <tr>\n",
       "      <th>14</th>\n",
       "      <td>0.52</td>\n",
       "      <td>452.718354</td>\n",
       "    </tr>\n",
       "    <tr>\n",
       "      <th>15</th>\n",
       "      <td>0.55</td>\n",
       "      <td>487.308002</td>\n",
       "    </tr>\n",
       "    <tr>\n",
       "      <th>16</th>\n",
       "      <td>0.58</td>\n",
       "      <td>523.520540</td>\n",
       "    </tr>\n",
       "    <tr>\n",
       "      <th>17</th>\n",
       "      <td>0.61</td>\n",
       "      <td>561.628412</td>\n",
       "    </tr>\n",
       "    <tr>\n",
       "      <th>18</th>\n",
       "      <td>0.64</td>\n",
       "      <td>601.963970</td>\n",
       "    </tr>\n",
       "    <tr>\n",
       "      <th>19</th>\n",
       "      <td>0.67</td>\n",
       "      <td>644.940755</td>\n",
       "    </tr>\n",
       "    <tr>\n",
       "      <th>20</th>\n",
       "      <td>0.70</td>\n",
       "      <td>691.084496</td>\n",
       "    </tr>\n",
       "    <tr>\n",
       "      <th>21</th>\n",
       "      <td>0.73</td>\n",
       "      <td>741.080539</td>\n",
       "    </tr>\n",
       "    <tr>\n",
       "      <th>22</th>\n",
       "      <td>0.76</td>\n",
       "      <td>795.848518</td>\n",
       "    </tr>\n",
       "    <tr>\n",
       "      <th>23</th>\n",
       "      <td>0.79</td>\n",
       "      <td>856.666886</td>\n",
       "    </tr>\n",
       "    <tr>\n",
       "      <th>24</th>\n",
       "      <td>0.82</td>\n",
       "      <td>925.392558</td>\n",
       "    </tr>\n",
       "    <tr>\n",
       "      <th>25</th>\n",
       "      <td>0.85</td>\n",
       "      <td>1004.880165</td>\n",
       "    </tr>\n",
       "    <tr>\n",
       "      <th>26</th>\n",
       "      <td>0.88</td>\n",
       "      <td>1099.869551</td>\n",
       "    </tr>\n",
       "    <tr>\n",
       "      <th>27</th>\n",
       "      <td>0.91</td>\n",
       "      <td>1219.157407</td>\n",
       "    </tr>\n",
       "    <tr>\n",
       "      <th>28</th>\n",
       "      <td>0.94</td>\n",
       "      <td>1382.254750</td>\n",
       "    </tr>\n",
       "    <tr>\n",
       "      <th>29</th>\n",
       "      <td>0.97</td>\n",
       "      <td>1650.391710</td>\n",
       "    </tr>\n",
       "    <tr>\n",
       "      <th>30</th>\n",
       "      <td>1.00</td>\n",
       "      <td>3801.711458</td>\n",
       "    </tr>\n",
       "  </tbody>\n",
       "</table>\n",
       "</div>"
      ],
      "text/plain": [
       "    power  min_sample_size\n",
       "0    0.10        48.557757\n",
       "1    0.13        76.273003\n",
       "2    0.16       103.638798\n",
       "3    0.19       130.823168\n",
       "4    0.22       157.968034\n",
       "5    0.25       185.198235\n",
       "6    0.28       212.628048\n",
       "7    0.31       240.366047\n",
       "8    0.34       268.518958\n",
       "9    0.37       297.194999\n",
       "10   0.40       326.506978\n",
       "11   0.43       356.575451\n",
       "12   0.46       387.532192\n",
       "13   0.49       419.524152\n",
       "14   0.52       452.718354\n",
       "15   0.55       487.308002\n",
       "16   0.58       523.520540\n",
       "17   0.61       561.628412\n",
       "18   0.64       601.963970\n",
       "19   0.67       644.940755\n",
       "20   0.70       691.084496\n",
       "21   0.73       741.080539\n",
       "22   0.76       795.848518\n",
       "23   0.79       856.666886\n",
       "24   0.82       925.392558\n",
       "25   0.85      1004.880165\n",
       "26   0.88      1099.869551\n",
       "27   0.91      1219.157407\n",
       "28   0.94      1382.254750\n",
       "29   0.97      1650.391710\n",
       "30   1.00      3801.711458"
      ]
     },
     "execution_count": 20,
     "metadata": {},
     "output_type": "execute_result"
    }
   ],
   "source": [
    "## n vs power\n",
    "# -- a \n",
    "power_ss = [] # power vs sample size\n",
    "\n",
    "for p in np.arange(0.1, 1.0, 0.03):\n",
    "    s = TTestIndPower().solve_power(effect_size = cohens_d_effect_size, \n",
    "                                    alpha=0.05, \n",
    "                                    power=p)\n",
    "    power_ss.append({\"power\": p, \"min_sample_size\": s})\n",
    "pd.DataFrame(power_ss)"
   ]
  },
  {
   "cell_type": "code",
   "execution_count": 21,
   "id": "bdd3f07f",
   "metadata": {},
   "outputs": [
    {
     "data": {
      "text/plain": [
       "<AxesSubplot:xlabel='power'>"
      ]
     },
     "execution_count": 21,
     "metadata": {},
     "output_type": "execute_result"
    },
    {
     "data": {
      "image/png": "[encoded data removed]",
      "text/plain": [
       "<Figure size 432x288 with 1 Axes>"
      ]
     },
     "metadata": {
      "needs_background": "light"
     },
     "output_type": "display_data"
    }
   ],
   "source": [
    "pd.DataFrame(power_ss).plot(x=\"power\", y=\"min_sample_size\")"
   ]
  },
  {
   "cell_type": "code",
   "execution_count": 22,
   "id": "72f7964c",
   "metadata": {},
   "outputs": [
    {
     "data": {
      "text/plain": [
       "<AxesSubplot:xlabel='alpha'>"
      ]
     },
     "execution_count": 22,
     "metadata": {},
     "output_type": "execute_result"
    },
    {
     "data": {
      "image/png": "[encoded data removed]",
      "text/plain": [
       "<Figure size 432x288 with 1 Axes>"
      ]
     },
     "metadata": {
      "needs_background": "light"
     },
     "output_type": "display_data"
    }
   ],
   "source": [
    "alpha_ss = []\n",
    "for alpha in np.arange(0.01, 0.5, 0.01):\n",
    "    s = TTestIndPower().solve_power(effect_size=cohens_d_effect_size, alpha=alpha, power=0.8)\n",
    "    alpha_ss.append({\"alpha\": alpha, \"min_sample_size\": s})\n",
    "\n",
    "pd.DataFrame(alpha_ss).plot(x=\"alpha\", y=\"min_sample_size\")"
   ]
  },
  {
   "cell_type": "code",
   "execution_count": null,
   "id": "47099efa",
   "metadata": {},
   "outputs": [],
   "source": [
    "## Homework : effect size vs num samples"
   ]
  },
  {
   "cell_type": "code",
   "execution_count": null,
   "id": "4a8cce2a",
   "metadata": {},
   "outputs": [],
   "source": []
  },
  {
   "cell_type": "code",
   "execution_count": null,
   "id": "a8854a8e",
   "metadata": {},
   "outputs": [],
   "source": []
  },
  {
   "cell_type": "code",
   "execution_count": null,
   "id": "448f3fa5",
   "metadata": {},
   "outputs": [],
   "source": []
  },
  {
   "cell_type": "code",
   "execution_count": null,
   "id": "561fe360",
   "metadata": {},
   "outputs": [],
   "source": []
  },
  {
   "cell_type": "code",
   "execution_count": null,
   "id": "e1988b89",
   "metadata": {},
   "outputs": [],
   "source": []
  },
  {
   "cell_type": "code",
   "execution_count": null,
   "id": "22eeb1f0",
   "metadata": {},
   "outputs": [],
   "source": []
  },
  {
   "cell_type": "code",
   "execution_count": null,
   "id": "eb1f3c5d",
   "metadata": {},
   "outputs": [],
   "source": []
  }
 ],
 "metadata": {
  "kernelspec": {
   "display_name": "Python 3 (ipykernel)",
   "language": "python",
   "name": "python3"
  },
  "language_info": {
   "codemirror_mode": {
    "name": "ipython",
    "version": 3
   },
   "file_extension": ".py",
   "mimetype": "text/x-python",
   "name": "python",
   "nbconvert_exporter": "python",
   "pygments_lexer": "ipython3",
   "version": "3.9.12"
  }
 },
 "nbformat": 4,
 "nbformat_minor": 5
}
