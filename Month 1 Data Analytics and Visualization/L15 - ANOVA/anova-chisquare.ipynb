{
 "cells": [
  {
   "cell_type": "code",
   "execution_count": 30,
   "id": "44e67473",
   "metadata": {},
   "outputs": [
    {
     "data": {
      "text/html": [
       "<style>.container { width:100% !important; }</style>"
      ],
      "text/plain": [
       "<IPython.core.display.HTML object>"
      ]
     },
     "metadata": {},
     "output_type": "display_data"
    }
   ],
   "source": [
    "from IPython.display import display, HTML\n",
    "display(HTML(\"<style>.container { width:100% !important; }</style>\"))"
   ]
  },
  {
   "cell_type": "code",
   "execution_count": 31,
   "id": "e2402757",
   "metadata": {},
   "outputs": [],
   "source": [
    "import numpy as np\n",
    "import pandas as pd\n",
    "import seaborn as sns\n",
    "import matplotlib.pyplot as plt"
   ]
  },
  {
   "cell_type": "code",
   "execution_count": 85,
   "id": "87cf77ad",
   "metadata": {},
   "outputs": [],
   "source": [
    "from statsmodels.stats.weightstats import ztest\n",
    "from scipy.stats import norm\n",
    "from scipy.stats import ttest_ind, ttest_ind_from_stats , f_oneway # Numeric Vs Categorical\n",
    "from scipy.stats import chi2_contingency"
   ]
  },
  {
   "cell_type": "code",
   "execution_count": null,
   "id": "26f6763c",
   "metadata": {},
   "outputs": [],
   "source": []
  },
  {
   "cell_type": "markdown",
   "id": "110b816b",
   "metadata": {},
   "source": [
    "### Two drug example:"
   ]
  },
  {
   "cell_type": "code",
   "execution_count": 34,
   "id": "2509b65e",
   "metadata": {},
   "outputs": [],
   "source": [
    "d1 = pd.read_csv(\"drug_1_recovery.csv\")\n",
    "d2 = pd.read_csv(\"drug_2_recovery.csv\")"
   ]
  },
  {
   "cell_type": "code",
   "execution_count": 35,
   "id": "5dce432c",
   "metadata": {},
   "outputs": [
    {
     "data": {
      "text/html": [
       "<div>\n",
       "<style scoped>\n",
       "    .dataframe tbody tr th:only-of-type {\n",
       "        vertical-align: middle;\n",
       "    }\n",
       "\n",
       "    .dataframe tbody tr th {\n",
       "        vertical-align: top;\n",
       "    }\n",
       "\n",
       "    .dataframe thead th {\n",
       "        text-align: right;\n",
       "    }\n",
       "</style>\n",
       "<table border=\"1\" class=\"dataframe\">\n",
       "  <thead>\n",
       "    <tr style=\"text-align: right;\">\n",
       "      <th></th>\n",
       "      <th>drug_1</th>\n",
       "    </tr>\n",
       "  </thead>\n",
       "  <tbody>\n",
       "    <tr>\n",
       "      <th>0</th>\n",
       "      <td>8.824208</td>\n",
       "    </tr>\n",
       "    <tr>\n",
       "      <th>1</th>\n",
       "      <td>7.477745</td>\n",
       "    </tr>\n",
       "    <tr>\n",
       "      <th>2</th>\n",
       "      <td>7.557121</td>\n",
       "    </tr>\n",
       "    <tr>\n",
       "      <th>3</th>\n",
       "      <td>7.981314</td>\n",
       "    </tr>\n",
       "    <tr>\n",
       "      <th>4</th>\n",
       "      <td>6.827716</td>\n",
       "    </tr>\n",
       "    <tr>\n",
       "      <th>...</th>\n",
       "      <td>...</td>\n",
       "    </tr>\n",
       "    <tr>\n",
       "      <th>95</th>\n",
       "      <td>6.890506</td>\n",
       "    </tr>\n",
       "    <tr>\n",
       "      <th>96</th>\n",
       "      <td>7.725759</td>\n",
       "    </tr>\n",
       "    <tr>\n",
       "      <th>97</th>\n",
       "      <td>6.848016</td>\n",
       "    </tr>\n",
       "    <tr>\n",
       "      <th>98</th>\n",
       "      <td>7.969997</td>\n",
       "    </tr>\n",
       "    <tr>\n",
       "      <th>99</th>\n",
       "      <td>7.104209</td>\n",
       "    </tr>\n",
       "  </tbody>\n",
       "</table>\n",
       "<p>100 rows × 1 columns</p>\n",
       "</div>"
      ],
      "text/plain": [
       "      drug_1\n",
       "0   8.824208\n",
       "1   7.477745\n",
       "2   7.557121\n",
       "3   7.981314\n",
       "4   6.827716\n",
       "..       ...\n",
       "95  6.890506\n",
       "96  7.725759\n",
       "97  6.848016\n",
       "98  7.969997\n",
       "99  7.104209\n",
       "\n",
       "[100 rows x 1 columns]"
      ]
     },
     "execution_count": 35,
     "metadata": {},
     "output_type": "execute_result"
    }
   ],
   "source": [
    "d1"
   ]
  },
  {
   "cell_type": "code",
   "execution_count": 36,
   "id": "d0e83194",
   "metadata": {},
   "outputs": [
    {
     "data": {
      "text/html": [
       "<div>\n",
       "<style scoped>\n",
       "    .dataframe tbody tr th:only-of-type {\n",
       "        vertical-align: middle;\n",
       "    }\n",
       "\n",
       "    .dataframe tbody tr th {\n",
       "        vertical-align: top;\n",
       "    }\n",
       "\n",
       "    .dataframe thead th {\n",
       "        text-align: right;\n",
       "    }\n",
       "</style>\n",
       "<table border=\"1\" class=\"dataframe\">\n",
       "  <thead>\n",
       "    <tr style=\"text-align: right;\">\n",
       "      <th></th>\n",
       "      <th>drug_2</th>\n",
       "    </tr>\n",
       "  </thead>\n",
       "  <tbody>\n",
       "    <tr>\n",
       "      <th>0</th>\n",
       "      <td>9.565974</td>\n",
       "    </tr>\n",
       "    <tr>\n",
       "      <th>1</th>\n",
       "      <td>7.492915</td>\n",
       "    </tr>\n",
       "    <tr>\n",
       "      <th>2</th>\n",
       "      <td>8.738418</td>\n",
       "    </tr>\n",
       "    <tr>\n",
       "      <th>3</th>\n",
       "      <td>7.635235</td>\n",
       "    </tr>\n",
       "    <tr>\n",
       "      <th>4</th>\n",
       "      <td>4.125593</td>\n",
       "    </tr>\n",
       "    <tr>\n",
       "      <th>...</th>\n",
       "      <td>...</td>\n",
       "    </tr>\n",
       "    <tr>\n",
       "      <th>115</th>\n",
       "      <td>7.861993</td>\n",
       "    </tr>\n",
       "    <tr>\n",
       "      <th>116</th>\n",
       "      <td>8.233510</td>\n",
       "    </tr>\n",
       "    <tr>\n",
       "      <th>117</th>\n",
       "      <td>5.876257</td>\n",
       "    </tr>\n",
       "    <tr>\n",
       "      <th>118</th>\n",
       "      <td>7.789454</td>\n",
       "    </tr>\n",
       "    <tr>\n",
       "      <th>119</th>\n",
       "      <td>8.836125</td>\n",
       "    </tr>\n",
       "  </tbody>\n",
       "</table>\n",
       "<p>120 rows × 1 columns</p>\n",
       "</div>"
      ],
      "text/plain": [
       "       drug_2\n",
       "0    9.565974\n",
       "1    7.492915\n",
       "2    8.738418\n",
       "3    7.635235\n",
       "4    4.125593\n",
       "..        ...\n",
       "115  7.861993\n",
       "116  8.233510\n",
       "117  5.876257\n",
       "118  7.789454\n",
       "119  8.836125\n",
       "\n",
       "[120 rows x 1 columns]"
      ]
     },
     "execution_count": 36,
     "metadata": {},
     "output_type": "execute_result"
    }
   ],
   "source": [
    "d2"
   ]
  },
  {
   "cell_type": "code",
   "execution_count": 37,
   "id": "7332bc59",
   "metadata": {},
   "outputs": [
    {
     "data": {
      "text/plain": [
       "drug_1    7.104917\n",
       "dtype: float64"
      ]
     },
     "execution_count": 37,
     "metadata": {},
     "output_type": "execute_result"
    }
   ],
   "source": [
    "d1.mean()"
   ]
  },
  {
   "cell_type": "code",
   "execution_count": 38,
   "id": "20bdf23e",
   "metadata": {},
   "outputs": [
    {
     "data": {
      "text/plain": [
       "drug_2    8.073423\n",
       "dtype: float64"
      ]
     },
     "execution_count": 38,
     "metadata": {},
     "output_type": "execute_result"
    }
   ],
   "source": [
    "d2.mean()"
   ]
  },
  {
   "cell_type": "markdown",
   "id": "e63934b5",
   "metadata": {},
   "source": [
    "# Z test"
   ]
  },
  {
   "cell_type": "code",
   "execution_count": 39,
   "id": "42c240ad",
   "metadata": {},
   "outputs": [
    {
     "data": {
      "text/plain": [
       "(array([-5.32112438]), array([1.03127863e-07]))"
      ]
     },
     "execution_count": 39,
     "metadata": {},
     "output_type": "execute_result"
    }
   ],
   "source": [
    "# H0 : m1 = m2\n",
    "# HA : m1 != m2\n",
    "\n",
    "ztest(d1, d2, value = 0) # two tail test"
   ]
  },
  {
   "cell_type": "code",
   "execution_count": 40,
   "id": "07f632c8",
   "metadata": {},
   "outputs": [
    {
     "data": {
      "text/plain": [
       "(array([-5.32112438]), array([5.15639315e-08]))"
      ]
     },
     "execution_count": 40,
     "metadata": {},
     "output_type": "execute_result"
    }
   ],
   "source": [
    "# H0 : m1 = m2\n",
    "# HA : m1 < m2 \n",
    "    \n",
    "ztest(d1, d2, value = 0, alternative= \"smaller\") # left tail test"
   ]
  },
  {
   "cell_type": "code",
   "execution_count": 41,
   "id": "5a7d8a58",
   "metadata": {},
   "outputs": [
    {
     "data": {
      "text/plain": [
       "(array([-5.32112438]), array([0.99999995]))"
      ]
     },
     "execution_count": 41,
     "metadata": {},
     "output_type": "execute_result"
    }
   ],
   "source": [
    "# H0 : m1 = m2  - not able to reject False H0\n",
    "# HA : m1 > m2\n",
    "\n",
    "ztest(d1, d2, value = 0, alternative= \"larger\")"
   ]
  },
  {
   "cell_type": "markdown",
   "id": "859243fc",
   "metadata": {},
   "source": [
    "# T Test"
   ]
  },
  {
   "cell_type": "code",
   "execution_count": 42,
   "id": "aa3c954f",
   "metadata": {},
   "outputs": [
    {
     "data": {
      "text/plain": [
       "Ttest_indResult(statistic=array([-5.32112438]), pvalue=array([2.55427147e-07]))"
      ]
     },
     "execution_count": 42,
     "metadata": {},
     "output_type": "execute_result"
    }
   ],
   "source": [
    "# H0 : m1 = m2\n",
    "# HA : m1 != m2\n",
    "\n",
    "ttest_ind(d1, d2) # two tail test"
   ]
  },
  {
   "cell_type": "code",
   "execution_count": 43,
   "id": "63e38eb8",
   "metadata": {},
   "outputs": [
    {
     "data": {
      "text/plain": [
       "Ttest_indResult(statistic=array([-5.32112438]), pvalue=array([1.27713574e-07]))"
      ]
     },
     "execution_count": 43,
     "metadata": {},
     "output_type": "execute_result"
    }
   ],
   "source": [
    "# H0 : m1 = m2\n",
    "# HA : m1 < m2 \n",
    "    \n",
    "ttest_ind(d1, d2, alternative= \"less\") # left tail test"
   ]
  },
  {
   "cell_type": "code",
   "execution_count": 44,
   "id": "1204f227",
   "metadata": {},
   "outputs": [
    {
     "data": {
      "text/plain": [
       "Ttest_indResult(statistic=array([-5.32112438]), pvalue=array([0.99999987]))"
      ]
     },
     "execution_count": 44,
     "metadata": {},
     "output_type": "execute_result"
    }
   ],
   "source": [
    "# H0 : m1 = m2  - not able to reject False H0\n",
    "# HA : m1 > m2\n",
    "\n",
    "ttest_ind(d1, d2, alternative= \"greater\") # right tail test"
   ]
  },
  {
   "cell_type": "markdown",
   "id": "e6eace48",
   "metadata": {},
   "source": [
    "### ttest_ind_from_stats"
   ]
  },
  {
   "cell_type": "code",
   "execution_count": 45,
   "id": "3312674d",
   "metadata": {},
   "outputs": [
    {
     "data": {
      "text/plain": [
       "drug_1    7.104917\n",
       "dtype: float64"
      ]
     },
     "execution_count": 45,
     "metadata": {},
     "output_type": "execute_result"
    }
   ],
   "source": [
    "d1_mean = d1.mean()\n",
    "d1_mean"
   ]
  },
  {
   "cell_type": "code",
   "execution_count": 46,
   "id": "0e6fcc16",
   "metadata": {},
   "outputs": [
    {
     "data": {
      "text/plain": [
       "drug_1    1.038696\n",
       "dtype: float64"
      ]
     },
     "execution_count": 46,
     "metadata": {},
     "output_type": "execute_result"
    }
   ],
   "source": [
    "d1_std = d1.std()\n",
    "d1_std"
   ]
  },
  {
   "cell_type": "code",
   "execution_count": 47,
   "id": "111b141b",
   "metadata": {},
   "outputs": [
    {
     "data": {
      "text/plain": [
       "100"
      ]
     },
     "execution_count": 47,
     "metadata": {},
     "output_type": "execute_result"
    }
   ],
   "source": [
    "d1_n_samples = len(d1)\n",
    "d1_n_samples"
   ]
  },
  {
   "cell_type": "code",
   "execution_count": 48,
   "id": "ccf2b193",
   "metadata": {},
   "outputs": [
    {
     "data": {
      "text/plain": [
       "drug_2    8.073423\n",
       "dtype: float64"
      ]
     },
     "execution_count": 48,
     "metadata": {},
     "output_type": "execute_result"
    }
   ],
   "source": [
    "d2_mean = d2.mean()\n",
    "d2_mean"
   ]
  },
  {
   "cell_type": "code",
   "execution_count": 49,
   "id": "46cf13da",
   "metadata": {},
   "outputs": [
    {
     "data": {
      "text/plain": [
       "drug_2    1.553296\n",
       "dtype: float64"
      ]
     },
     "execution_count": 49,
     "metadata": {},
     "output_type": "execute_result"
    }
   ],
   "source": [
    "d2_std = d2.std()\n",
    "d2_std"
   ]
  },
  {
   "cell_type": "code",
   "execution_count": 50,
   "id": "dcaa992f",
   "metadata": {},
   "outputs": [
    {
     "data": {
      "text/plain": [
       "120"
      ]
     },
     "execution_count": 50,
     "metadata": {},
     "output_type": "execute_result"
    }
   ],
   "source": [
    "d2_n_samples = len(d2)\n",
    "d2_n_samples"
   ]
  },
  {
   "cell_type": "code",
   "execution_count": 51,
   "id": "32029995",
   "metadata": {},
   "outputs": [
    {
     "data": {
      "text/plain": [
       "Ttest_indResult(statistic=array([-5.32112438]), pvalue=array([2.55427147e-07]))"
      ]
     },
     "execution_count": 51,
     "metadata": {},
     "output_type": "execute_result"
    }
   ],
   "source": [
    "ttest_ind_from_stats(d1_mean, d1_std, d1_n_samples, \n",
    "                     d2_mean, d2_std, d2_n_samples)"
   ]
  },
  {
   "cell_type": "code",
   "execution_count": null,
   "id": "613bf275",
   "metadata": {},
   "outputs": [],
   "source": []
  },
  {
   "cell_type": "markdown",
   "id": "33d42fba",
   "metadata": {},
   "source": [
    "# Aerofit"
   ]
  },
  {
   "cell_type": "code",
   "execution_count": 52,
   "id": "f412c760",
   "metadata": {},
   "outputs": [],
   "source": [
    "df_aerofit = pd.read_csv(\"aerofit.csv\")"
   ]
  },
  {
   "cell_type": "code",
   "execution_count": 53,
   "id": "27c16efd",
   "metadata": {},
   "outputs": [
    {
     "data": {
      "text/html": [
       "<div>\n",
       "<style scoped>\n",
       "    .dataframe tbody tr th:only-of-type {\n",
       "        vertical-align: middle;\n",
       "    }\n",
       "\n",
       "    .dataframe tbody tr th {\n",
       "        vertical-align: top;\n",
       "    }\n",
       "\n",
       "    .dataframe thead th {\n",
       "        text-align: right;\n",
       "    }\n",
       "</style>\n",
       "<table border=\"1\" class=\"dataframe\">\n",
       "  <thead>\n",
       "    <tr style=\"text-align: right;\">\n",
       "      <th></th>\n",
       "      <th>Product</th>\n",
       "      <th>Age</th>\n",
       "      <th>Gender</th>\n",
       "      <th>Education</th>\n",
       "      <th>MaritalStatus</th>\n",
       "      <th>Usage</th>\n",
       "      <th>Fitness</th>\n",
       "      <th>Income</th>\n",
       "      <th>Miles</th>\n",
       "    </tr>\n",
       "  </thead>\n",
       "  <tbody>\n",
       "    <tr>\n",
       "      <th>0</th>\n",
       "      <td>KP281</td>\n",
       "      <td>18</td>\n",
       "      <td>Male</td>\n",
       "      <td>14</td>\n",
       "      <td>Single</td>\n",
       "      <td>3</td>\n",
       "      <td>4</td>\n",
       "      <td>29562</td>\n",
       "      <td>112</td>\n",
       "    </tr>\n",
       "    <tr>\n",
       "      <th>1</th>\n",
       "      <td>KP281</td>\n",
       "      <td>19</td>\n",
       "      <td>Male</td>\n",
       "      <td>15</td>\n",
       "      <td>Single</td>\n",
       "      <td>2</td>\n",
       "      <td>3</td>\n",
       "      <td>31836</td>\n",
       "      <td>75</td>\n",
       "    </tr>\n",
       "    <tr>\n",
       "      <th>2</th>\n",
       "      <td>KP281</td>\n",
       "      <td>19</td>\n",
       "      <td>Female</td>\n",
       "      <td>14</td>\n",
       "      <td>Partnered</td>\n",
       "      <td>4</td>\n",
       "      <td>3</td>\n",
       "      <td>30699</td>\n",
       "      <td>66</td>\n",
       "    </tr>\n",
       "    <tr>\n",
       "      <th>3</th>\n",
       "      <td>KP281</td>\n",
       "      <td>19</td>\n",
       "      <td>Male</td>\n",
       "      <td>12</td>\n",
       "      <td>Single</td>\n",
       "      <td>3</td>\n",
       "      <td>3</td>\n",
       "      <td>32973</td>\n",
       "      <td>85</td>\n",
       "    </tr>\n",
       "    <tr>\n",
       "      <th>4</th>\n",
       "      <td>KP281</td>\n",
       "      <td>20</td>\n",
       "      <td>Male</td>\n",
       "      <td>13</td>\n",
       "      <td>Partnered</td>\n",
       "      <td>4</td>\n",
       "      <td>2</td>\n",
       "      <td>35247</td>\n",
       "      <td>47</td>\n",
       "    </tr>\n",
       "  </tbody>\n",
       "</table>\n",
       "</div>"
      ],
      "text/plain": [
       "  Product  Age  Gender  Education MaritalStatus  Usage  Fitness  Income  Miles\n",
       "0   KP281   18    Male         14        Single      3        4   29562    112\n",
       "1   KP281   19    Male         15        Single      2        3   31836     75\n",
       "2   KP281   19  Female         14     Partnered      4        3   30699     66\n",
       "3   KP281   19    Male         12        Single      3        3   32973     85\n",
       "4   KP281   20    Male         13     Partnered      4        2   35247     47"
      ]
     },
     "execution_count": 53,
     "metadata": {},
     "output_type": "execute_result"
    }
   ],
   "source": [
    "df_aerofit.head()"
   ]
  },
  {
   "cell_type": "code",
   "execution_count": 54,
   "id": "94088f4b",
   "metadata": {},
   "outputs": [
    {
     "data": {
      "text/plain": [
       "(180, 9)"
      ]
     },
     "execution_count": 54,
     "metadata": {},
     "output_type": "execute_result"
    }
   ],
   "source": [
    "df_aerofit.shape"
   ]
  },
  {
   "cell_type": "code",
   "execution_count": 55,
   "id": "3e37faf9",
   "metadata": {},
   "outputs": [
    {
     "data": {
      "text/plain": [
       "KP281    80\n",
       "KP481    60\n",
       "KP781    40\n",
       "Name: Product, dtype: int64"
      ]
     },
     "execution_count": 55,
     "metadata": {},
     "output_type": "execute_result"
    }
   ],
   "source": [
    "df_aerofit[\"Product\"].value_counts()"
   ]
  },
  {
   "cell_type": "markdown",
   "id": "19f0ad0d",
   "metadata": {},
   "source": [
    "## Gender Vs Income"
   ]
  },
  {
   "cell_type": "code",
   "execution_count": 56,
   "id": "56743a40",
   "metadata": {},
   "outputs": [
    {
     "data": {
      "text/plain": [
       "<AxesSubplot:xlabel='Gender', ylabel='Income'>"
      ]
     },
     "execution_count": 56,
     "metadata": {},
     "output_type": "execute_result"
    },
    {
     "data": {
      "image/png": "[encoded data removed]",
      "text/plain": [
       "<Figure size 432x288 with 1 Axes>"
      ]
     },
     "metadata": {
      "needs_background": "light"
     },
     "output_type": "display_data"
    }
   ],
   "source": [
    "sns.boxplot(x = 'Gender', y = 'Income', data=df_aerofit) "
   ]
  },
  {
   "cell_type": "code",
   "execution_count": 57,
   "id": "cb58b34b",
   "metadata": {},
   "outputs": [],
   "source": [
    "income_male = df_aerofit[df_aerofit[\"Gender\"]==\"Male\"][\"Income\"]\n",
    "income_female = df_aerofit[df_aerofit[\"Gender\"]==\"Female\"][\"Income\"]"
   ]
  },
  {
   "cell_type": "code",
   "execution_count": 60,
   "id": "6830b2a4",
   "metadata": {},
   "outputs": [
    {
     "data": {
      "text/plain": [
       "0       29562\n",
       "1       31836\n",
       "3       32973\n",
       "4       35247\n",
       "7       32973\n",
       "        ...  \n",
       "175     83416\n",
       "176     89641\n",
       "177     90886\n",
       "178    104581\n",
       "179     95508\n",
       "Name: Income, Length: 104, dtype: int64"
      ]
     },
     "execution_count": 60,
     "metadata": {},
     "output_type": "execute_result"
    }
   ],
   "source": [
    "income_male"
   ]
  },
  {
   "cell_type": "code",
   "execution_count": 61,
   "id": "cb32a73a",
   "metadata": {},
   "outputs": [
    {
     "data": {
      "text/plain": [
       "2      30699\n",
       "5      32973\n",
       "6      35247\n",
       "9      37521\n",
       "11     35247\n",
       "       ...  \n",
       "152    61006\n",
       "157    69721\n",
       "162    92131\n",
       "167    90886\n",
       "171    95866\n",
       "Name: Income, Length: 76, dtype: int64"
      ]
     },
     "execution_count": 61,
     "metadata": {},
     "output_type": "execute_result"
    }
   ],
   "source": [
    "income_female"
   ]
  },
  {
   "cell_type": "code",
   "execution_count": 62,
   "id": "0e46bcec",
   "metadata": {},
   "outputs": [
    {
     "data": {
      "text/plain": [
       "56562.75961538462"
      ]
     },
     "execution_count": 62,
     "metadata": {},
     "output_type": "execute_result"
    }
   ],
   "source": [
    "income_male.mean()"
   ]
  },
  {
   "cell_type": "code",
   "execution_count": 63,
   "id": "841daf78",
   "metadata": {},
   "outputs": [
    {
     "data": {
      "text/plain": [
       "49828.90789473684"
      ]
     },
     "execution_count": 63,
     "metadata": {},
     "output_type": "execute_result"
    }
   ],
   "source": [
    "income_female.mean()"
   ]
  },
  {
   "cell_type": "code",
   "execution_count": 64,
   "id": "2e74c287",
   "metadata": {},
   "outputs": [
    {
     "data": {
      "text/plain": [
       "Ttest_indResult(statistic=2.752488637540257, pvalue=0.006527263097214258)"
      ]
     },
     "execution_count": 64,
     "metadata": {},
     "output_type": "execute_result"
    }
   ],
   "source": [
    "## H0 : male income = female income\n",
    "## HA : male income != female income\n",
    "\n",
    "ttest_ind(income_male, income_female)"
   ]
  },
  {
   "cell_type": "code",
   "execution_count": 65,
   "id": "9d4872d3",
   "metadata": {},
   "outputs": [
    {
     "name": "stdout",
     "output_type": "stream",
     "text": [
      "0.006527263097214258\n",
      "Reject H0\n"
     ]
    }
   ],
   "source": [
    "t_test_stat, p_value = ttest_ind(income_male, income_female)\n",
    "print(p_value)\n",
    "if p_value < 0.05:\n",
    "    print(\"Reject H0\")\n",
    "else:\n",
    "    print(\"failed to reject H0\")"
   ]
  },
  {
   "cell_type": "code",
   "execution_count": 66,
   "id": "b6fcc5bc",
   "metadata": {},
   "outputs": [
    {
     "name": "stdout",
     "output_type": "stream",
     "text": [
      "0.003263631548607129\n",
      "Reject H0\n"
     ]
    }
   ],
   "source": [
    "t_test_stat, p_value = ttest_ind(income_male, income_female, alternative=\"greater\")\n",
    "print(p_value)\n",
    "if p_value < 0.05:\n",
    "    print(\"Reject H0\")\n",
    "else:\n",
    "    print(\"failed to reject H0\")"
   ]
  },
  {
   "cell_type": "code",
   "execution_count": 67,
   "id": "986f538d",
   "metadata": {},
   "outputs": [
    {
     "name": "stdout",
     "output_type": "stream",
     "text": [
      "0.9967363684513929\n",
      "failed to reject H0\n"
     ]
    }
   ],
   "source": [
    "t_test_stat, p_value = ttest_ind(income_male, income_female, alternative=\"less\")\n",
    "print(p_value)\n",
    "if p_value < 0.05:\n",
    "    print(\"Reject H0\")\n",
    "else:\n",
    "    print(\"failed to reject H0\")"
   ]
  },
  {
   "cell_type": "code",
   "execution_count": 68,
   "id": "972083c4",
   "metadata": {},
   "outputs": [
    {
     "data": {
      "text/plain": [
       "Ttest_indResult(statistic=2.752488637540257, pvalue=0.006527263097214258)"
      ]
     },
     "execution_count": 68,
     "metadata": {},
     "output_type": "execute_result"
    }
   ],
   "source": [
    "ttest_ind_from_stats(\n",
    "    income_male.mean(),\n",
    "    income_male.std(),\n",
    "    len(income_male),\n",
    "    income_female.mean(),\n",
    "    income_female.std(),\n",
    "    len(income_female),\n",
    ")"
   ]
  },
  {
   "cell_type": "markdown",
   "id": "23e1651e",
   "metadata": {},
   "source": [
    "## Income vs Product"
   ]
  },
  {
   "cell_type": "code",
   "execution_count": 70,
   "id": "09c8f2c1",
   "metadata": {},
   "outputs": [
    {
     "data": {
      "text/plain": [
       "<AxesSubplot:xlabel='Product', ylabel='Income'>"
      ]
     },
     "execution_count": 70,
     "metadata": {},
     "output_type": "execute_result"
    },
    {
     "data": {
      "image/png": "[encoded data removed]",
      "text/plain": [
       "<Figure size 432x288 with 1 Axes>"
      ]
     },
     "metadata": {
      "needs_background": "light"
     },
     "output_type": "display_data"
    }
   ],
   "source": [
    "sns.boxplot(x='Product', y = 'Income', data = df_aerofit)"
   ]
  },
  {
   "cell_type": "code",
   "execution_count": 71,
   "id": "6a15fea7",
   "metadata": {},
   "outputs": [],
   "source": [
    "income_kp281 = df_aerofit[df_aerofit[\"Product\"]==\"KP281\"][\"Income\"]\n",
    "income_kp481 = df_aerofit[df_aerofit[\"Product\"]==\"KP481\"][\"Income\"]\n",
    "income_kp781 = df_aerofit[df_aerofit[\"Product\"]==\"KP781\"][\"Income\"]"
   ]
  },
  {
   "cell_type": "code",
   "execution_count": 72,
   "id": "fa527ba2",
   "metadata": {},
   "outputs": [
    {
     "data": {
      "text/plain": [
       "46418.025"
      ]
     },
     "execution_count": 72,
     "metadata": {},
     "output_type": "execute_result"
    }
   ],
   "source": [
    "income_kp281.mean()"
   ]
  },
  {
   "cell_type": "code",
   "execution_count": 73,
   "id": "2785ba47",
   "metadata": {},
   "outputs": [
    {
     "data": {
      "text/plain": [
       "48973.65"
      ]
     },
     "execution_count": 73,
     "metadata": {},
     "output_type": "execute_result"
    }
   ],
   "source": [
    "income_kp481.mean()"
   ]
  },
  {
   "cell_type": "code",
   "execution_count": 74,
   "id": "4f678997",
   "metadata": {},
   "outputs": [
    {
     "data": {
      "text/plain": [
       "75441.575"
      ]
     },
     "execution_count": 74,
     "metadata": {},
     "output_type": "execute_result"
    }
   ],
   "source": [
    "income_kp781.mean()"
   ]
  },
  {
   "cell_type": "code",
   "execution_count": 75,
   "id": "6bb86531",
   "metadata": {},
   "outputs": [
    {
     "data": {
      "text/plain": [
       "Ttest_indResult(statistic=-9.628009470104807, pvalue=7.770191623361293e-16)"
      ]
     },
     "execution_count": 75,
     "metadata": {},
     "output_type": "execute_result"
    }
   ],
   "source": [
    "ttest_ind(income_kp481, income_kp781)"
   ]
  },
  {
   "cell_type": "code",
   "execution_count": 76,
   "id": "82db50ef",
   "metadata": {},
   "outputs": [
    {
     "data": {
      "text/plain": [
       "Ttest_indResult(statistic=-1.6817688139914835, pvalue=0.09487529747264932)"
      ]
     },
     "execution_count": 76,
     "metadata": {},
     "output_type": "execute_result"
    }
   ],
   "source": [
    "ttest_ind(income_kp281, income_kp481)"
   ]
  },
  {
   "cell_type": "markdown",
   "id": "d4008f38",
   "metadata": {},
   "source": [
    "## ANOVA :"
   ]
  },
  {
   "cell_type": "code",
   "execution_count": null,
   "id": "0164a565",
   "metadata": {},
   "outputs": [],
   "source": [
    "# Analysis of Variance"
   ]
  },
  {
   "cell_type": "code",
   "execution_count": 79,
   "id": "6a704b8d",
   "metadata": {},
   "outputs": [
    {
     "data": {
      "text/plain": [
       "F_onewayResult(statistic=89.25903546601671, pvalue=1.5644991316342494e-27)"
      ]
     },
     "execution_count": 79,
     "metadata": {},
     "output_type": "execute_result"
    }
   ],
   "source": [
    "# H0 : All three have same mean\n",
    "# HA : At least one is diff. than other\n",
    "\n",
    "f_oneway(income_kp281, income_kp481, income_kp781)"
   ]
  },
  {
   "cell_type": "code",
   "execution_count": null,
   "id": "c89d05b5",
   "metadata": {},
   "outputs": [],
   "source": []
  },
  {
   "cell_type": "markdown",
   "id": "dab2bfb9",
   "metadata": {},
   "source": [
    "# Gender vs Product"
   ]
  },
  {
   "cell_type": "code",
   "execution_count": 90,
   "id": "9f985743",
   "metadata": {},
   "outputs": [],
   "source": [
    "gender_product = pd.crosstab(index=df_aerofit['Gender'],\n",
    "            columns=df_aerofit['Product'])"
   ]
  },
  {
   "cell_type": "code",
   "execution_count": 91,
   "id": "d014bea7",
   "metadata": {},
   "outputs": [
    {
     "data": {
      "text/html": [
       "<div>\n",
       "<style scoped>\n",
       "    .dataframe tbody tr th:only-of-type {\n",
       "        vertical-align: middle;\n",
       "    }\n",
       "\n",
       "    .dataframe tbody tr th {\n",
       "        vertical-align: top;\n",
       "    }\n",
       "\n",
       "    .dataframe thead th {\n",
       "        text-align: right;\n",
       "    }\n",
       "</style>\n",
       "<table border=\"1\" class=\"dataframe\">\n",
       "  <thead>\n",
       "    <tr style=\"text-align: right;\">\n",
       "      <th>Product</th>\n",
       "      <th>KP281</th>\n",
       "      <th>KP481</th>\n",
       "      <th>KP781</th>\n",
       "    </tr>\n",
       "    <tr>\n",
       "      <th>Gender</th>\n",
       "      <th></th>\n",
       "      <th></th>\n",
       "      <th></th>\n",
       "    </tr>\n",
       "  </thead>\n",
       "  <tbody>\n",
       "    <tr>\n",
       "      <th>Female</th>\n",
       "      <td>40</td>\n",
       "      <td>29</td>\n",
       "      <td>7</td>\n",
       "    </tr>\n",
       "    <tr>\n",
       "      <th>Male</th>\n",
       "      <td>40</td>\n",
       "      <td>31</td>\n",
       "      <td>33</td>\n",
       "    </tr>\n",
       "  </tbody>\n",
       "</table>\n",
       "</div>"
      ],
      "text/plain": [
       "Product  KP281  KP481  KP781\n",
       "Gender                      \n",
       "Female      40     29      7\n",
       "Male        40     31     33"
      ]
     },
     "execution_count": 91,
     "metadata": {},
     "output_type": "execute_result"
    }
   ],
   "source": [
    "gender_product"
   ]
  },
  {
   "cell_type": "code",
   "execution_count": 92,
   "id": "62bbe77d",
   "metadata": {},
   "outputs": [
    {
     "data": {
      "text/plain": [
       "(12.923836032388664,\n",
       " 0.0015617972833158714,\n",
       " 2,\n",
       " array([[33.77777778, 25.33333333, 16.88888889],\n",
       "        [46.22222222, 34.66666667, 23.11111111]]))"
      ]
     },
     "execution_count": 92,
     "metadata": {},
     "output_type": "execute_result"
    }
   ],
   "source": [
    "chi2_contingency(gender_product)"
   ]
  },
  {
   "cell_type": "markdown",
   "id": "0b45e1eb",
   "metadata": {},
   "source": [
    "## Gender vs Platform"
   ]
  },
  {
   "cell_type": "code",
   "execution_count": 84,
   "id": "dede3fde",
   "metadata": {},
   "outputs": [],
   "source": [
    "observed = [\n",
    "    [527, 72],\n",
    "    [206, 102]\n",
    "]"
   ]
  },
  {
   "cell_type": "code",
   "execution_count": 89,
   "id": "753b0b98",
   "metadata": {},
   "outputs": [
    {
     "name": "stdout",
     "output_type": "stream",
     "text": [
      "4.268230756875865e-14\n",
      "[[484.08710033 114.91289967]\n",
      " [248.91289967  59.08710033]]\n"
     ]
    }
   ],
   "source": [
    "# H0 : Gender has no effect on Platfom preference \n",
    "\n",
    "chi_stat, p_value, dof, exp_freq = chi2_contingency(observed)\n",
    "print(p_value)\n",
    "print(exp_freq)"
   ]
  },
  {
   "cell_type": "code",
   "execution_count": 93,
   "id": "18dc711b",
   "metadata": {},
   "outputs": [
    {
     "data": {
      "text/plain": [
       "(57.04098674049609,\n",
       " 4.268230756875865e-14,\n",
       " 1,\n",
       " array([[484.08710033, 114.91289967],\n",
       "        [248.91289967,  59.08710033]]))"
      ]
     },
     "execution_count": 93,
     "metadata": {},
     "output_type": "execute_result"
    }
   ],
   "source": [
    "chi2_contingency(observed)"
   ]
  },
  {
   "cell_type": "code",
   "execution_count": null,
   "id": "310ebbf7",
   "metadata": {},
   "outputs": [],
   "source": []
  },
  {
   "cell_type": "code",
   "execution_count": null,
   "id": "98fb7a37",
   "metadata": {},
   "outputs": [],
   "source": []
  },
  {
   "cell_type": "code",
   "execution_count": null,
   "id": "c78bf7df",
   "metadata": {},
   "outputs": [],
   "source": []
  },
  {
   "cell_type": "code",
   "execution_count": null,
   "id": "0d6f0a72",
   "metadata": {},
   "outputs": [],
   "source": []
  }
 ],
 "metadata": {
  "kernelspec": {
   "display_name": "Python 3 (ipykernel)",
   "language": "python",
   "name": "python3"
  },
  "language_info": {
   "codemirror_mode": {
    "name": "ipython",
    "version": 3
   },
   "file_extension": ".py",
   "mimetype": "text/x-python",
   "name": "python",
   "nbconvert_exporter": "python",
   "pygments_lexer": "ipython3",
   "version": "3.9.12"
  }
 },
 "nbformat": 4,
 "nbformat_minor": 5
}
