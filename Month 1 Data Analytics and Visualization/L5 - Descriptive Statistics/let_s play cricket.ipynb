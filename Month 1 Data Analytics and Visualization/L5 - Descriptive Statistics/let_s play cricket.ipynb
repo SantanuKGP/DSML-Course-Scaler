{
 "cells": [
  {
   "cell_type": "code",
   "execution_count": 1,
   "id": "79499dca",
   "metadata": {},
   "outputs": [
    {
     "data": {
      "text/html": [
       "<style>.container { width:100% !important; }</style>"
      ],
      "text/plain": [
       "<IPython.core.display.HTML object>"
      ]
     },
     "metadata": {},
     "output_type": "display_data"
    }
   ],
   "source": [
    "from IPython.display import display, HTML\n",
    "display(HTML(\"<style>.container { width:100% !important; }</style>\"))"
   ]
  },
  {
   "cell_type": "code",
   "execution_count": 4,
   "id": "eb650025",
   "metadata": {},
   "outputs": [],
   "source": [
    "import pandas as pd\n",
    "import numpy as np\n",
    "\n",
    "import seaborn as sns\n",
    "import matplotlib.pyplot as plt\n",
    "\n",
    "import statistics"
   ]
  },
  {
   "cell_type": "code",
   "execution_count": 5,
   "id": "6877cd8b",
   "metadata": {},
   "outputs": [],
   "source": [
    "sehwag = pd.read_csv(\"sehwag.csv\")\n",
    "dravid = pd.read_csv(\"dravid.csv\")"
   ]
  },
  {
   "cell_type": "code",
   "execution_count": 6,
   "id": "0f8b1580",
   "metadata": {},
   "outputs": [
    {
     "data": {
      "text/html": [
       "<div>\n",
       "<style scoped>\n",
       "    .dataframe tbody tr th:only-of-type {\n",
       "        vertical-align: middle;\n",
       "    }\n",
       "\n",
       "    .dataframe tbody tr th {\n",
       "        vertical-align: top;\n",
       "    }\n",
       "\n",
       "    .dataframe thead th {\n",
       "        text-align: right;\n",
       "    }\n",
       "</style>\n",
       "<table border=\"1\" class=\"dataframe\">\n",
       "  <thead>\n",
       "    <tr style=\"text-align: right;\">\n",
       "      <th></th>\n",
       "      <th>Runs</th>\n",
       "      <th>Mins</th>\n",
       "      <th>BF</th>\n",
       "      <th>4s</th>\n",
       "      <th>6s</th>\n",
       "      <th>SR</th>\n",
       "      <th>Pos</th>\n",
       "      <th>Dismissal</th>\n",
       "      <th>Inns</th>\n",
       "      <th>Unnamed: 9</th>\n",
       "      <th>Opposition</th>\n",
       "      <th>Ground</th>\n",
       "      <th>Start Date</th>\n",
       "      <th>Unnamed: 13</th>\n",
       "    </tr>\n",
       "  </thead>\n",
       "  <tbody>\n",
       "    <tr>\n",
       "      <th>0</th>\n",
       "      <td>1</td>\n",
       "      <td>5</td>\n",
       "      <td>2</td>\n",
       "      <td>0</td>\n",
       "      <td>0</td>\n",
       "      <td>50.00</td>\n",
       "      <td>7</td>\n",
       "      <td>lbw</td>\n",
       "      <td>1</td>\n",
       "      <td>NaN</td>\n",
       "      <td>v Pakistan</td>\n",
       "      <td>Mohali</td>\n",
       "      <td>1 Apr 1999</td>\n",
       "      <td>ODI # 1427</td>\n",
       "    </tr>\n",
       "    <tr>\n",
       "      <th>1</th>\n",
       "      <td>19</td>\n",
       "      <td>18</td>\n",
       "      <td>24</td>\n",
       "      <td>0</td>\n",
       "      <td>1</td>\n",
       "      <td>79.16</td>\n",
       "      <td>6</td>\n",
       "      <td>caught</td>\n",
       "      <td>1</td>\n",
       "      <td>NaN</td>\n",
       "      <td>v Zimbabwe</td>\n",
       "      <td>Rajkot</td>\n",
       "      <td>14 Dec 2000</td>\n",
       "      <td>ODI # 1660</td>\n",
       "    </tr>\n",
       "    <tr>\n",
       "      <th>2</th>\n",
       "      <td>58</td>\n",
       "      <td>62</td>\n",
       "      <td>54</td>\n",
       "      <td>8</td>\n",
       "      <td>0</td>\n",
       "      <td>107.40</td>\n",
       "      <td>6</td>\n",
       "      <td>bowled</td>\n",
       "      <td>1</td>\n",
       "      <td>NaN</td>\n",
       "      <td>v Australia</td>\n",
       "      <td>Bengaluru</td>\n",
       "      <td>25 Mar 2001</td>\n",
       "      <td>ODI # 1696</td>\n",
       "    </tr>\n",
       "    <tr>\n",
       "      <th>3</th>\n",
       "      <td>2</td>\n",
       "      <td>7</td>\n",
       "      <td>7</td>\n",
       "      <td>0</td>\n",
       "      <td>0</td>\n",
       "      <td>28.57</td>\n",
       "      <td>6</td>\n",
       "      <td>caught</td>\n",
       "      <td>2</td>\n",
       "      <td>NaN</td>\n",
       "      <td>v Zimbabwe</td>\n",
       "      <td>Bulawayo</td>\n",
       "      <td>27 Jun 2001</td>\n",
       "      <td>ODI # 1730</td>\n",
       "    </tr>\n",
       "    <tr>\n",
       "      <th>4</th>\n",
       "      <td>11</td>\n",
       "      <td>19</td>\n",
       "      <td>16</td>\n",
       "      <td>1</td>\n",
       "      <td>0</td>\n",
       "      <td>68.75</td>\n",
       "      <td>6</td>\n",
       "      <td>not out</td>\n",
       "      <td>2</td>\n",
       "      <td>NaN</td>\n",
       "      <td>v West Indies</td>\n",
       "      <td>Bulawayo</td>\n",
       "      <td>30 Jun 2001</td>\n",
       "      <td>ODI # 1731</td>\n",
       "    </tr>\n",
       "  </tbody>\n",
       "</table>\n",
       "</div>"
      ],
      "text/plain": [
       "   Runs Mins  BF  4s  6s      SR  Pos Dismissal  Inns  Unnamed: 9  \\\n",
       "0     1    5   2   0   0   50.00    7       lbw     1         NaN   \n",
       "1    19   18  24   0   1   79.16    6    caught     1         NaN   \n",
       "2    58   62  54   8   0  107.40    6    bowled     1         NaN   \n",
       "3     2    7   7   0   0   28.57    6    caught     2         NaN   \n",
       "4    11   19  16   1   0   68.75    6   not out     2         NaN   \n",
       "\n",
       "      Opposition     Ground   Start Date Unnamed: 13  \n",
       "0     v Pakistan     Mohali   1 Apr 1999  ODI # 1427  \n",
       "1     v Zimbabwe     Rajkot  14 Dec 2000  ODI # 1660  \n",
       "2    v Australia  Bengaluru  25 Mar 2001  ODI # 1696  \n",
       "3     v Zimbabwe   Bulawayo  27 Jun 2001  ODI # 1730  \n",
       "4  v West Indies   Bulawayo  30 Jun 2001  ODI # 1731  "
      ]
     },
     "execution_count": 6,
     "metadata": {},
     "output_type": "execute_result"
    }
   ],
   "source": [
    "sehwag.head()"
   ]
  },
  {
   "cell_type": "code",
   "execution_count": 7,
   "id": "69567d41",
   "metadata": {},
   "outputs": [
    {
     "data": {
      "text/plain": [
       "(245, 14)"
      ]
     },
     "execution_count": 7,
     "metadata": {},
     "output_type": "execute_result"
    }
   ],
   "source": [
    "sehwag.shape"
   ]
  },
  {
   "cell_type": "code",
   "execution_count": 9,
   "id": "e86e5044",
   "metadata": {},
   "outputs": [],
   "source": [
    "p_25 = sehwag[\"Runs\"].quantile(0.25) #Q1 or p_25\n",
    "p_50 = sehwag[\"Runs\"].quantile(0.50) #Q2 or p_50\n",
    "p_75 = sehwag[\"Runs\"].quantile(0.75) #Q3 or p_75\n"
   ]
  },
  {
   "cell_type": "code",
   "execution_count": 10,
   "id": "c6989969",
   "metadata": {},
   "outputs": [
    {
     "name": "stdout",
     "output_type": "stream",
     "text": [
      "8.0 23.0 46.0\n"
     ]
    }
   ],
   "source": [
    "print(p_25, p_50, p_75)"
   ]
  },
  {
   "cell_type": "code",
   "execution_count": 11,
   "id": "f55c7882",
   "metadata": {},
   "outputs": [
    {
     "data": {
      "text/plain": [
       "38.0"
      ]
     },
     "execution_count": 11,
     "metadata": {},
     "output_type": "execute_result"
    }
   ],
   "source": [
    "iqr = p_75 - p_25\n",
    "iqr"
   ]
  },
  {
   "cell_type": "code",
   "execution_count": 14,
   "id": "e83f1d4a",
   "metadata": {},
   "outputs": [],
   "source": [
    "lower = max(p_25 - 1.5*iqr, 0)\n",
    "\n",
    "upper = p_75 + 1.5*iqr"
   ]
  },
  {
   "cell_type": "code",
   "execution_count": 15,
   "id": "df36f4e6",
   "metadata": {},
   "outputs": [
    {
     "name": "stdout",
     "output_type": "stream",
     "text": [
      "0 103.0\n"
     ]
    }
   ],
   "source": [
    "print(lower, upper)"
   ]
  },
  {
   "cell_type": "code",
   "execution_count": 17,
   "id": "fc9ab689",
   "metadata": {},
   "outputs": [],
   "source": [
    "sehwag_typical = sehwag[(sehwag[\"Runs\"] >= lower) & (sehwag[\"Runs\"] <= upper)]\n",
    "sehwag_outliers = sehwag[(sehwag[\"Runs\"] < lower) | (sehwag[\"Runs\"] > upper)]"
   ]
  },
  {
   "cell_type": "code",
   "execution_count": 18,
   "id": "c4c2d39b",
   "metadata": {},
   "outputs": [
    {
     "data": {
      "text/plain": [
       "0.9428571428571428"
      ]
     },
     "execution_count": 18,
     "metadata": {},
     "output_type": "execute_result"
    }
   ],
   "source": [
    "len(sehwag_typical)/len(sehwag)"
   ]
  },
  {
   "cell_type": "code",
   "execution_count": 19,
   "id": "6f3d7bec",
   "metadata": {},
   "outputs": [
    {
     "data": {
      "text/plain": [
       "0.05714285714285714"
      ]
     },
     "execution_count": 19,
     "metadata": {},
     "output_type": "execute_result"
    }
   ],
   "source": [
    "len(sehwag_outliers)/len(sehwag)"
   ]
  },
  {
   "cell_type": "markdown",
   "id": "81d41a76",
   "metadata": {},
   "source": [
    "~ 6 % of the times sehwag is acting as an outlier"
   ]
  },
  {
   "cell_type": "code",
   "execution_count": 21,
   "id": "44d460ed",
   "metadata": {},
   "outputs": [
    {
     "data": {
      "text/plain": [
       "219"
      ]
     },
     "execution_count": 21,
     "metadata": {},
     "output_type": "execute_result"
    }
   ],
   "source": [
    "sehwag[\"Runs\"].max()"
   ]
  },
  {
   "cell_type": "code",
   "execution_count": null,
   "id": "d0221bce",
   "metadata": {},
   "outputs": [],
   "source": []
  },
  {
   "cell_type": "code",
   "execution_count": null,
   "id": "29559298",
   "metadata": {},
   "outputs": [],
   "source": []
  },
  {
   "cell_type": "code",
   "execution_count": null,
   "id": "75b1df18",
   "metadata": {},
   "outputs": [],
   "source": []
  },
  {
   "cell_type": "code",
   "execution_count": 22,
   "id": "aa7d1111",
   "metadata": {},
   "outputs": [
    {
     "data": {
      "text/html": [
       "<div>\n",
       "<style scoped>\n",
       "    .dataframe tbody tr th:only-of-type {\n",
       "        vertical-align: middle;\n",
       "    }\n",
       "\n",
       "    .dataframe tbody tr th {\n",
       "        vertical-align: top;\n",
       "    }\n",
       "\n",
       "    .dataframe thead th {\n",
       "        text-align: right;\n",
       "    }\n",
       "</style>\n",
       "<table border=\"1\" class=\"dataframe\">\n",
       "  <thead>\n",
       "    <tr style=\"text-align: right;\">\n",
       "      <th></th>\n",
       "      <th>Runs</th>\n",
       "      <th>Mins</th>\n",
       "      <th>BF</th>\n",
       "      <th>4s</th>\n",
       "      <th>6s</th>\n",
       "      <th>SR</th>\n",
       "      <th>Pos</th>\n",
       "      <th>Dismissal</th>\n",
       "      <th>Inns</th>\n",
       "      <th>Unnamed: 9</th>\n",
       "      <th>Opposition</th>\n",
       "      <th>Ground</th>\n",
       "      <th>Start Date</th>\n",
       "      <th>Unnamed: 13</th>\n",
       "    </tr>\n",
       "  </thead>\n",
       "  <tbody>\n",
       "    <tr>\n",
       "      <th>0</th>\n",
       "      <td>3</td>\n",
       "      <td>-</td>\n",
       "      <td>4</td>\n",
       "      <td>0</td>\n",
       "      <td>0</td>\n",
       "      <td>75.00</td>\n",
       "      <td>4</td>\n",
       "      <td>caught</td>\n",
       "      <td>1</td>\n",
       "      <td>NaN</td>\n",
       "      <td>v Sri Lanka</td>\n",
       "      <td>Singapore</td>\n",
       "      <td>3 Apr 1996</td>\n",
       "      <td>ODI # 1089</td>\n",
       "    </tr>\n",
       "    <tr>\n",
       "      <th>1</th>\n",
       "      <td>4</td>\n",
       "      <td>-</td>\n",
       "      <td>7</td>\n",
       "      <td>0</td>\n",
       "      <td>0</td>\n",
       "      <td>57.14</td>\n",
       "      <td>4</td>\n",
       "      <td>run out</td>\n",
       "      <td>1</td>\n",
       "      <td>NaN</td>\n",
       "      <td>v Pakistan</td>\n",
       "      <td>Singapore</td>\n",
       "      <td>5 Apr 1996</td>\n",
       "      <td>ODI # 1091</td>\n",
       "    </tr>\n",
       "    <tr>\n",
       "      <th>2</th>\n",
       "      <td>3</td>\n",
       "      <td>-</td>\n",
       "      <td>5</td>\n",
       "      <td>0</td>\n",
       "      <td>0</td>\n",
       "      <td>60.00</td>\n",
       "      <td>5</td>\n",
       "      <td>caught</td>\n",
       "      <td>2</td>\n",
       "      <td>NaN</td>\n",
       "      <td>v Pakistan</td>\n",
       "      <td>Sharjah</td>\n",
       "      <td>12 Apr 1996</td>\n",
       "      <td>ODI # 1094</td>\n",
       "    </tr>\n",
       "    <tr>\n",
       "      <th>3</th>\n",
       "      <td>11</td>\n",
       "      <td>28</td>\n",
       "      <td>21</td>\n",
       "      <td>0</td>\n",
       "      <td>0</td>\n",
       "      <td>52.38</td>\n",
       "      <td>8</td>\n",
       "      <td>caught</td>\n",
       "      <td>2</td>\n",
       "      <td>NaN</td>\n",
       "      <td>v South Africa</td>\n",
       "      <td>Sharjah</td>\n",
       "      <td>14 Apr 1996</td>\n",
       "      <td>ODI # 1097</td>\n",
       "    </tr>\n",
       "    <tr>\n",
       "      <th>4</th>\n",
       "      <td>22</td>\n",
       "      <td>21</td>\n",
       "      <td>15</td>\n",
       "      <td>3</td>\n",
       "      <td>0</td>\n",
       "      <td>146.66</td>\n",
       "      <td>6</td>\n",
       "      <td>not out</td>\n",
       "      <td>1</td>\n",
       "      <td>NaN</td>\n",
       "      <td>v England</td>\n",
       "      <td>Manchester</td>\n",
       "      <td>26 May 1996</td>\n",
       "      <td>ODI # 1104</td>\n",
       "    </tr>\n",
       "  </tbody>\n",
       "</table>\n",
       "</div>"
      ],
      "text/plain": [
       "   Runs Mins  BF  4s  6s      SR  Pos Dismissal  Inns  Unnamed: 9  \\\n",
       "0     3    -   4   0   0   75.00    4    caught     1         NaN   \n",
       "1     4    -   7   0   0   57.14    4   run out     1         NaN   \n",
       "2     3    -   5   0   0   60.00    5    caught     2         NaN   \n",
       "3    11   28  21   0   0   52.38    8    caught     2         NaN   \n",
       "4    22   21  15   3   0  146.66    6   not out     1         NaN   \n",
       "\n",
       "       Opposition      Ground   Start Date Unnamed: 13  \n",
       "0     v Sri Lanka   Singapore   3 Apr 1996  ODI # 1089  \n",
       "1      v Pakistan   Singapore   5 Apr 1996  ODI # 1091  \n",
       "2      v Pakistan     Sharjah  12 Apr 1996  ODI # 1094  \n",
       "3  v South Africa     Sharjah  14 Apr 1996  ODI # 1097  \n",
       "4       v England  Manchester  26 May 1996  ODI # 1104  "
      ]
     },
     "execution_count": 22,
     "metadata": {},
     "output_type": "execute_result"
    }
   ],
   "source": [
    "dravid.head()"
   ]
  },
  {
   "cell_type": "code",
   "execution_count": 23,
   "id": "ee447e9b",
   "metadata": {},
   "outputs": [
    {
     "data": {
      "text/plain": [
       "(318, 14)"
      ]
     },
     "execution_count": 23,
     "metadata": {},
     "output_type": "execute_result"
    }
   ],
   "source": [
    "dravid.shape"
   ]
  },
  {
   "cell_type": "code",
   "execution_count": 24,
   "id": "1fa838ee",
   "metadata": {},
   "outputs": [],
   "source": [
    "p_25 = dravid[\"Runs\"].quantile(0.25) #Q1 or p_25\n",
    "p_50 = dravid[\"Runs\"].quantile(0.50) #Q2 or p_50\n",
    "p_75 = dravid[\"Runs\"].quantile(0.75) #Q3 or p_75\n"
   ]
  },
  {
   "cell_type": "code",
   "execution_count": 25,
   "id": "f898879e",
   "metadata": {},
   "outputs": [
    {
     "name": "stdout",
     "output_type": "stream",
     "text": [
      "10.0 26.0 54.0\n"
     ]
    }
   ],
   "source": [
    "print(p_25, p_50, p_75)"
   ]
  },
  {
   "cell_type": "code",
   "execution_count": 26,
   "id": "be6649fc",
   "metadata": {},
   "outputs": [
    {
     "data": {
      "text/plain": [
       "44.0"
      ]
     },
     "execution_count": 26,
     "metadata": {},
     "output_type": "execute_result"
    }
   ],
   "source": [
    "iqr = p_75 - p_25\n",
    "iqr"
   ]
  },
  {
   "cell_type": "code",
   "execution_count": 27,
   "id": "18c327a5",
   "metadata": {},
   "outputs": [],
   "source": [
    "lower = max(p_25 - 1.5*iqr, 0)\n",
    "\n",
    "upper = p_75 + 1.5*iqr"
   ]
  },
  {
   "cell_type": "code",
   "execution_count": 28,
   "id": "b1031037",
   "metadata": {},
   "outputs": [
    {
     "name": "stdout",
     "output_type": "stream",
     "text": [
      "0 120.0\n"
     ]
    }
   ],
   "source": [
    "print(lower, upper)"
   ]
  },
  {
   "cell_type": "code",
   "execution_count": 29,
   "id": "a58f0a44",
   "metadata": {},
   "outputs": [],
   "source": [
    "dravid_typical = dravid[(dravid[\"Runs\"] >= lower) & (dravid[\"Runs\"] <= upper)]\n",
    "dravid_outliers = dravid[(dravid[\"Runs\"] < lower) | (dravid[\"Runs\"] > upper)]"
   ]
  },
  {
   "cell_type": "code",
   "execution_count": 30,
   "id": "96eb1a69",
   "metadata": {},
   "outputs": [
    {
     "data": {
      "text/plain": [
       "0.9905660377358491"
      ]
     },
     "execution_count": 30,
     "metadata": {},
     "output_type": "execute_result"
    }
   ],
   "source": [
    "len(dravid_typical)/len(dravid)"
   ]
  },
  {
   "cell_type": "code",
   "execution_count": 31,
   "id": "55c00012",
   "metadata": {},
   "outputs": [
    {
     "data": {
      "text/plain": [
       "0.009433962264150943"
      ]
     },
     "execution_count": 31,
     "metadata": {},
     "output_type": "execute_result"
    }
   ],
   "source": [
    "len(dravid_outliers)/len(dravid)"
   ]
  },
  {
   "cell_type": "markdown",
   "id": "4876478c",
   "metadata": {},
   "source": [
    "~ 1 % of the times dravid is acting as an outlier"
   ]
  },
  {
   "cell_type": "code",
   "execution_count": 32,
   "id": "ceafd7ca",
   "metadata": {},
   "outputs": [
    {
     "data": {
      "text/plain": [
       "153"
      ]
     },
     "execution_count": 32,
     "metadata": {},
     "output_type": "execute_result"
    }
   ],
   "source": [
    "dravid[\"Runs\"].max()"
   ]
  },
  {
   "cell_type": "code",
   "execution_count": 33,
   "id": "17b9c09f",
   "metadata": {},
   "outputs": [
    {
     "data": {
      "text/plain": [
       "<AxesSubplot:>"
      ]
     },
     "execution_count": 33,
     "metadata": {},
     "output_type": "execute_result"
    },
    {
     "data": {
      "image/png": "[encoded data removed]",
      "text/plain": [
       "<Figure size 432x288 with 1 Axes>"
      ]
     },
     "metadata": {
      "needs_background": "light"
     },
     "output_type": "display_data"
    }
   ],
   "source": [
    "sns.boxplot(data = sehwag[\"Runs\"], orient=\"h\")"
   ]
  },
  {
   "cell_type": "code",
   "execution_count": 34,
   "id": "77aadafe",
   "metadata": {},
   "outputs": [
    {
     "data": {
      "text/plain": [
       "<AxesSubplot:>"
      ]
     },
     "execution_count": 34,
     "metadata": {},
     "output_type": "execute_result"
    },
    {
     "data": {
      "image/png": "[encoded data removed]",
      "text/plain": [
       "<Figure size 432x288 with 1 Axes>"
      ]
     },
     "metadata": {
      "needs_background": "light"
     },
     "output_type": "display_data"
    }
   ],
   "source": [
    "sns.boxplot(data = dravid[\"Runs\"], orient=\"h\")"
   ]
  },
  {
   "cell_type": "code",
   "execution_count": null,
   "id": "df8758d6",
   "metadata": {},
   "outputs": [],
   "source": []
  },
  {
   "cell_type": "code",
   "execution_count": 39,
   "id": "e545cbb3",
   "metadata": {},
   "outputs": [
    {
     "data": {
      "text/plain": [
       "2.0"
      ]
     },
     "execution_count": 39,
     "metadata": {},
     "output_type": "execute_result"
    }
   ],
   "source": [
    "sehwag[\"Runs\"].quantile(0.10) # decile 0-10 , 10-20, 20-30, "
   ]
  },
  {
   "cell_type": "code",
   "execution_count": null,
   "id": "7a95393c",
   "metadata": {},
   "outputs": [],
   "source": []
  },
  {
   "cell_type": "markdown",
   "id": "5ba210ba",
   "metadata": {},
   "source": [
    "## Quiz"
   ]
  },
  {
   "cell_type": "code",
   "execution_count": 41,
   "id": "409ea78b",
   "metadata": {},
   "outputs": [],
   "source": [
    "salaries = pd.Series([30,32,35,35,38])\n",
    "\n",
    "def five_point_summary(x):\n",
    "    \n",
    "    mean = np.mean(x)\n",
    "    median = np.median(x)\n",
    "    mode = statistics.mode(x)\n",
    "    Range = np.max(x) - np.min(x)\n",
    "    IQR = np.percentile(x, 0.75) - np.percentile(x, 0.25)\n",
    "    \n",
    "    print(\"mean : \", mean)\n",
    "    print(\"median : \", median)\n",
    "    print(\"mode : \", mode)\n",
    "    print(\"range : \", Range)\n",
    "    print(\"iqr : \", IQR)"
   ]
  },
  {
   "cell_type": "code",
   "execution_count": 42,
   "id": "c32cbcbd",
   "metadata": {},
   "outputs": [
    {
     "name": "stdout",
     "output_type": "stream",
     "text": [
      "mean :  34.0\n",
      "median :  35.0\n",
      "mode :  35\n",
      "range :  8\n",
      "iqr :  0.03999999999999915\n"
     ]
    }
   ],
   "source": [
    "five_point_summary(salaries)"
   ]
  },
  {
   "cell_type": "code",
   "execution_count": 43,
   "id": "f4578a7a",
   "metadata": {},
   "outputs": [
    {
     "name": "stdout",
     "output_type": "stream",
     "text": [
      "mean :  39.0\n",
      "median :  40.0\n",
      "mode :  40\n",
      "range :  8\n",
      "iqr :  0.03999999999999915\n"
     ]
    }
   ],
   "source": [
    "five_point_summary(salaries + 5)"
   ]
  },
  {
   "cell_type": "code",
   "execution_count": 44,
   "id": "7adbd734",
   "metadata": {},
   "outputs": [
    {
     "name": "stdout",
     "output_type": "stream",
     "text": [
      "mean :  170.0\n",
      "median :  175.0\n",
      "mode :  175\n",
      "range :  40\n",
      "iqr :  0.20000000000001705\n"
     ]
    }
   ],
   "source": [
    "five_point_summary(salaries * 5)"
   ]
  },
  {
   "cell_type": "code",
   "execution_count": null,
   "id": "219c6587",
   "metadata": {},
   "outputs": [],
   "source": []
  },
  {
   "cell_type": "code",
   "execution_count": null,
   "id": "84963ac2",
   "metadata": {},
   "outputs": [],
   "source": []
  },
  {
   "cell_type": "code",
   "execution_count": null,
   "id": "5cdafc86",
   "metadata": {},
   "outputs": [],
   "source": []
  },
  {
   "cell_type": "code",
   "execution_count": null,
   "id": "95ec2c49",
   "metadata": {},
   "outputs": [],
   "source": []
  },
  {
   "cell_type": "code",
   "execution_count": null,
   "id": "170b2aa5",
   "metadata": {},
   "outputs": [],
   "source": []
  },
  {
   "cell_type": "code",
   "execution_count": null,
   "id": "f8e5473d",
   "metadata": {},
   "outputs": [],
   "source": []
  },
  {
   "cell_type": "code",
   "execution_count": null,
   "id": "3ce4996b",
   "metadata": {},
   "outputs": [],
   "source": []
  },
  {
   "cell_type": "code",
   "execution_count": null,
   "id": "eec92933",
   "metadata": {},
   "outputs": [],
   "source": []
  },
  {
   "cell_type": "code",
   "execution_count": null,
   "id": "03336a1a",
   "metadata": {},
   "outputs": [],
   "source": []
  },
  {
   "cell_type": "code",
   "execution_count": null,
   "id": "3548b839",
   "metadata": {},
   "outputs": [],
   "source": []
  },
  {
   "cell_type": "code",
   "execution_count": null,
   "id": "aa2ebf36",
   "metadata": {},
   "outputs": [],
   "source": []
  }
 ],
 "metadata": {
  "kernelspec": {
   "display_name": "Python 3 (ipykernel)",
   "language": "python",
   "name": "python3"
  },
  "language_info": {
   "codemirror_mode": {
    "name": "ipython",
    "version": 3
   },
   "file_extension": ".py",
   "mimetype": "text/x-python",
   "name": "python",
   "nbconvert_exporter": "python",
   "pygments_lexer": "ipython3",
   "version": "3.9.12"
  }
 },
 "nbformat": 4,
 "nbformat_minor": 5
}
