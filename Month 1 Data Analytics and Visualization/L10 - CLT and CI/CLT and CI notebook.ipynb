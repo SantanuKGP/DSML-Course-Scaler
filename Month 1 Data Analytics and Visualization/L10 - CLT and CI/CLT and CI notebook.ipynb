{
 "cells": [
  {
   "cell_type": "code",
   "execution_count": 3,
   "id": "afa676a9",
   "metadata": {},
   "outputs": [],
   "source": [
    "import numpy as np\n",
    "import pandas as pd\n",
    "import seaborn as sns\n",
    "import matplotlib.pyplot as plt"
   ]
  },
  {
   "cell_type": "code",
   "execution_count": 4,
   "id": "6d37936d",
   "metadata": {},
   "outputs": [
    {
     "data": {
      "text/html": [
       "<style>.container { width:100% !important; }</style>"
      ],
      "text/plain": [
       "<IPython.core.display.HTML object>"
      ]
     },
     "metadata": {},
     "output_type": "display_data"
    }
   ],
   "source": [
    "from IPython.display import display, HTML\n",
    "display(HTML(\"<style>.container { width:100% !important; }</style>\"))"
   ]
  },
  {
   "cell_type": "markdown",
   "id": "6a802a45",
   "metadata": {},
   "source": [
    "## SDE Salary : "
   ]
  },
  {
   "cell_type": "code",
   "execution_count": 7,
   "id": "d00833af",
   "metadata": {},
   "outputs": [
    {
     "data": {
      "text/plain": [
       "35.0"
      ]
     },
     "execution_count": 7,
     "metadata": {},
     "output_type": "execute_result"
    }
   ],
   "source": [
    "s1 = [35, 36, 33, 37, 34, 35]\n",
    "np.mean(s1)"
   ]
  },
  {
   "cell_type": "code",
   "execution_count": 8,
   "id": "be4e038a",
   "metadata": {},
   "outputs": [
    {
     "data": {
      "text/plain": [
       "35.0"
      ]
     },
     "execution_count": 8,
     "metadata": {},
     "output_type": "execute_result"
    }
   ],
   "source": [
    "s2 = [20, 37, 17, 50, 53, 33]\n",
    "np.mean(s2)"
   ]
  },
  {
   "cell_type": "code",
   "execution_count": null,
   "id": "f802c167",
   "metadata": {},
   "outputs": [],
   "source": [
    "n = 6"
   ]
  },
  {
   "cell_type": "code",
   "execution_count": 13,
   "id": "55572c63",
   "metadata": {},
   "outputs": [
    {
     "data": {
      "text/plain": [
       "array([35, 34, 33, 33, 34, 33])"
      ]
     },
     "execution_count": 13,
     "metadata": {},
     "output_type": "execute_result"
    }
   ],
   "source": [
    "np.random.choice(s1, size = 6) # sampling with relacement"
   ]
  },
  {
   "cell_type": "code",
   "execution_count": 14,
   "id": "4d0c8e85",
   "metadata": {},
   "outputs": [],
   "source": [
    "## Bootstrapping"
   ]
  },
  {
   "cell_type": "code",
   "execution_count": 28,
   "id": "39d11b01",
   "metadata": {},
   "outputs": [
    {
     "name": "stdout",
     "output_type": "stream",
     "text": [
      "[35 37 33 35 33 36]\n"
     ]
    },
    {
     "data": {
      "text/plain": [
       "34.833333333333336"
      ]
     },
     "execution_count": 28,
     "metadata": {},
     "output_type": "execute_result"
    }
   ],
   "source": [
    "bootstrapped_sample = np.random.choice(s1, size = 6)\n",
    "print(bootstrapped_sample)\n",
    "np.mean(bootstrapped_sample)"
   ]
  },
  {
   "cell_type": "code",
   "execution_count": 29,
   "id": "1ef8a33b",
   "metadata": {},
   "outputs": [
    {
     "data": {
      "text/plain": [
       "<AxesSubplot:ylabel='Count'>"
      ]
     },
     "execution_count": 29,
     "metadata": {},
     "output_type": "execute_result"
    },
    {
     "data": {
      "image/png": "[encoded data removed]",
      "text/plain": [
       "<Figure size 432x288 with 1 Axes>"
      ]
     },
     "metadata": {
      "needs_background": "light"
     },
     "output_type": "display_data"
    }
   ],
   "source": [
    "bootstrapped_means_survey_1 = []\n",
    "\n",
    "for reps in range(10000):\n",
    "    bootstrapped_sample = np.random.choice(s1, size = 6)\n",
    "    bootstrapped_mean = np.mean(bootstrapped_sample)\n",
    "    bootstrapped_means_survey_1.append(bootstrapped_mean)\n",
    "\n",
    "sns.histplot(bootstrapped_means_survey_1)"
   ]
  },
  {
   "cell_type": "code",
   "execution_count": 30,
   "id": "8c700f1a",
   "metadata": {},
   "outputs": [
    {
     "data": {
      "text/plain": [
       "<AxesSubplot:ylabel='Count'>"
      ]
     },
     "execution_count": 30,
     "metadata": {},
     "output_type": "execute_result"
    },
    {
     "data": {
      "image/png": "[encoded data removed]",
      "text/plain": [
       "<Figure size 432x288 with 1 Axes>"
      ]
     },
     "metadata": {
      "needs_background": "light"
     },
     "output_type": "display_data"
    }
   ],
   "source": [
    "bootstrapped_means_survey_2 = []\n",
    "\n",
    "for reps in range(10000):\n",
    "    bootstrapped_sample = np.random.choice(s2, size = 6)\n",
    "    bootstrapped_mean = np.mean(bootstrapped_sample)\n",
    "    bootstrapped_means_survey_2.append(bootstrapped_mean)\n",
    "\n",
    "sns.histplot(bootstrapped_means_survey_2)"
   ]
  },
  {
   "cell_type": "code",
   "execution_count": 40,
   "id": "b2ef2795",
   "metadata": {},
   "outputs": [
    {
     "name": "stdout",
     "output_type": "stream",
     "text": [
      "[37 33 34 33 35 36]\n"
     ]
    },
    {
     "data": {
      "text/plain": [
       "34.666666666666664"
      ]
     },
     "execution_count": 40,
     "metadata": {},
     "output_type": "execute_result"
    }
   ],
   "source": [
    "bootstrapped_sample  = np.random.choice(s1, size = 6)\n",
    "print(bootstrapped_sample)\n",
    "np.mean(bootstrapped_sample)"
   ]
  },
  {
   "cell_type": "code",
   "execution_count": null,
   "id": "1fb4acb8",
   "metadata": {},
   "outputs": [],
   "source": []
  },
  {
   "cell_type": "code",
   "execution_count": 51,
   "id": "b2446475",
   "metadata": {},
   "outputs": [
    {
     "name": "stdout",
     "output_type": "stream",
     "text": [
      "[33 37 33 50 37 33]\n"
     ]
    },
    {
     "data": {
      "text/plain": [
       "37.166666666666664"
      ]
     },
     "execution_count": 51,
     "metadata": {},
     "output_type": "execute_result"
    }
   ],
   "source": [
    "bootstrapped_sample  = np.random.choice(s2, size = 6)\n",
    "print(bootstrapped_sample)\n",
    "np.mean(bootstrapped_sample)"
   ]
  },
  {
   "cell_type": "code",
   "execution_count": 52,
   "id": "7e2450d7",
   "metadata": {},
   "outputs": [
    {
     "data": {
      "text/plain": [
       "[35.5,\n",
       " 34.833333333333336,\n",
       " 35.333333333333336,\n",
       " 34.666666666666664,\n",
       " 35.5,\n",
       " 35.166666666666664,\n",
       " 35.333333333333336,\n",
       " 35.0,\n",
       " 33.833333333333336,\n",
       " 34.166666666666664,\n",
       " 34.166666666666664,\n",
       " 35.166666666666664,\n",
       " 34.333333333333336,\n",
       " 33.666666666666664,\n",
       " 35.0,\n",
       " 34.833333333333336,\n",
       " 34.666666666666664,\n",
       " 35.833333333333336,\n",
       " 35.333333333333336,\n",
       " 34.166666666666664,\n",
       " 35.333333333333336,\n",
       " 34.166666666666664,\n",
       " 34.0,\n",
       " 34.333333333333336,\n",
       " 34.833333333333336,\n",
       " 36.0,\n",
       " 34.0,\n",
       " 34.833333333333336,\n",
       " 35.833333333333336,\n",
       " 34.833333333333336,\n",
       " 35.333333333333336,\n",
       " 35.0,\n",
       " 34.0,\n",
       " 35.833333333333336,\n",
       " 33.833333333333336,\n",
       " 34.666666666666664,\n",
       " 33.5,\n",
       " 34.333333333333336,\n",
       " 36.0,\n",
       " 35.333333333333336,\n",
       " 35.166666666666664,\n",
       " 35.333333333333336,\n",
       " 36.166666666666664,\n",
       " 34.666666666666664,\n",
       " 35.166666666666664,\n",
       " 35.333333333333336,\n",
       " 34.833333333333336,\n",
       " 34.833333333333336,\n",
       " 35.333333333333336,\n",
       " 35.0,\n",
       " 35.333333333333336,\n",
       " 34.166666666666664,\n",
       " 35.333333333333336,\n",
       " 34.5,\n",
       " 34.666666666666664,\n",
       " 34.5,\n",
       " 35.166666666666664,\n",
       " 35.333333333333336,\n",
       " 35.166666666666664,\n",
       " 35.5,\n",
       " 34.833333333333336,\n",
       " 35.333333333333336,\n",
       " 34.666666666666664,\n",
       " 34.166666666666664,\n",
       " 34.166666666666664,\n",
       " 35.0,\n",
       " 35.5,\n",
       " 35.0,\n",
       " 35.0,\n",
       " 34.666666666666664,\n",
       " 35.5,\n",
       " 35.0,\n",
       " 35.833333333333336,\n",
       " 35.333333333333336,\n",
       " 35.666666666666664,\n",
       " 34.333333333333336,\n",
       " 34.333333333333336,\n",
       " 35.166666666666664,\n",
       " 35.166666666666664,\n",
       " 34.5,\n",
       " 35.5,\n",
       " 35.166666666666664,\n",
       " 34.833333333333336,\n",
       " 35.333333333333336,\n",
       " 34.833333333333336,\n",
       " 34.166666666666664,\n",
       " 35.666666666666664,\n",
       " 35.166666666666664,\n",
       " 35.833333333333336,\n",
       " 35.666666666666664,\n",
       " 35.333333333333336,\n",
       " 34.333333333333336,\n",
       " 35.5,\n",
       " 36.0,\n",
       " 34.666666666666664,\n",
       " 35.666666666666664,\n",
       " 34.0,\n",
       " 35.833333333333336,\n",
       " 35.0,\n",
       " 34.333333333333336,\n",
       " 35.5,\n",
       " 35.5,\n",
       " 34.5,\n",
       " 35.166666666666664,\n",
       " 34.666666666666664,\n",
       " 35.666666666666664,\n",
       " 35.166666666666664,\n",
       " 35.666666666666664,\n",
       " 34.5,\n",
       " 34.166666666666664,\n",
       " 34.5,\n",
       " 34.0,\n",
       " 34.666666666666664,\n",
       " 35.333333333333336,\n",
       " 34.833333333333336,\n",
       " 35.666666666666664,\n",
       " 35.166666666666664,\n",
       " 34.0,\n",
       " 35.333333333333336,\n",
       " 33.833333333333336,\n",
       " 35.0,\n",
       " 34.333333333333336,\n",
       " 36.0,\n",
       " 34.5,\n",
       " 35.0,\n",
       " 35.5,\n",
       " 35.166666666666664,\n",
       " 36.0,\n",
       " 35.666666666666664,\n",
       " 35.166666666666664,\n",
       " 36.0,\n",
       " 35.0,\n",
       " 35.333333333333336,\n",
       " 34.5,\n",
       " 35.333333333333336,\n",
       " 36.5,\n",
       " 34.333333333333336,\n",
       " 35.666666666666664,\n",
       " 35.0,\n",
       " 34.166666666666664,\n",
       " 35.0,\n",
       " 35.666666666666664,\n",
       " 35.333333333333336,\n",
       " 35.166666666666664,\n",
       " 35.333333333333336,\n",
       " 35.333333333333336,\n",
       " 36.0,\n",
       " 35.5,\n",
       " 34.0,\n",
       " 35.0,\n",
       " 34.5,\n",
       " 35.0,\n",
       " 35.0,\n",
       " 34.666666666666664,\n",
       " 35.0,\n",
       " 35.166666666666664,\n",
       " 34.833333333333336,\n",
       " 35.166666666666664,\n",
       " 34.333333333333336,\n",
       " 34.833333333333336,\n",
       " 35.333333333333336,\n",
       " 35.166666666666664,\n",
       " 35.0,\n",
       " 36.166666666666664,\n",
       " 35.333333333333336,\n",
       " 35.333333333333336,\n",
       " 35.666666666666664,\n",
       " 34.5,\n",
       " 35.0,\n",
       " 35.166666666666664,\n",
       " 34.333333333333336,\n",
       " 35.833333333333336,\n",
       " 35.0,\n",
       " 35.166666666666664,\n",
       " 34.333333333333336,\n",
       " 35.666666666666664,\n",
       " 35.0,\n",
       " 35.0,\n",
       " 34.666666666666664,\n",
       " 34.833333333333336,\n",
       " 35.333333333333336,\n",
       " 34.833333333333336,\n",
       " 35.666666666666664,\n",
       " 35.833333333333336,\n",
       " 35.0,\n",
       " 35.5,\n",
       " 35.0,\n",
       " 35.333333333333336,\n",
       " 34.833333333333336,\n",
       " 35.833333333333336,\n",
       " 34.0,\n",
       " 35.5,\n",
       " 35.666666666666664,\n",
       " 34.666666666666664,\n",
       " 33.666666666666664,\n",
       " 34.666666666666664,\n",
       " 33.666666666666664,\n",
       " 34.666666666666664,\n",
       " 35.166666666666664,\n",
       " 34.833333333333336,\n",
       " 34.833333333333336,\n",
       " 34.833333333333336,\n",
       " 35.0,\n",
       " 35.0,\n",
       " 34.333333333333336,\n",
       " 34.333333333333336,\n",
       " 34.666666666666664,\n",
       " 35.5,\n",
       " 35.0,\n",
       " 34.833333333333336,\n",
       " 35.0,\n",
       " 34.666666666666664,\n",
       " 34.333333333333336,\n",
       " 34.333333333333336,\n",
       " 35.166666666666664,\n",
       " 35.166666666666664,\n",
       " 35.333333333333336,\n",
       " 34.5,\n",
       " 34.833333333333336,\n",
       " 35.0,\n",
       " 35.333333333333336,\n",
       " 34.5,\n",
       " 35.333333333333336,\n",
       " 34.333333333333336,\n",
       " 35.0,\n",
       " 35.666666666666664,\n",
       " 36.5,\n",
       " 35.166666666666664,\n",
       " 34.166666666666664,\n",
       " 34.333333333333336,\n",
       " 35.333333333333336,\n",
       " 34.666666666666664,\n",
       " 35.0,\n",
       " 35.0,\n",
       " 35.0,\n",
       " 34.833333333333336,\n",
       " 35.666666666666664,\n",
       " 36.333333333333336,\n",
       " 34.5,\n",
       " 35.166666666666664,\n",
       " 34.666666666666664,\n",
       " 35.166666666666664,\n",
       " 35.333333333333336,\n",
       " 36.0,\n",
       " 34.833333333333336,\n",
       " 35.666666666666664,\n",
       " 35.166666666666664,\n",
       " 35.0,\n",
       " 34.0,\n",
       " 34.666666666666664,\n",
       " 35.5,\n",
       " 35.166666666666664,\n",
       " 35.5,\n",
       " 34.666666666666664,\n",
       " 35.0,\n",
       " 34.5,\n",
       " 34.666666666666664,\n",
       " 35.333333333333336,\n",
       " 35.833333333333336,\n",
       " 34.166666666666664,\n",
       " 35.166666666666664,\n",
       " 35.5,\n",
       " 35.333333333333336,\n",
       " 35.5,\n",
       " 35.0,\n",
       " 35.166666666666664,\n",
       " 34.833333333333336,\n",
       " 35.833333333333336,\n",
       " 35.0,\n",
       " 35.166666666666664,\n",
       " 35.666666666666664,\n",
       " 35.5,\n",
       " 34.0,\n",
       " 35.166666666666664,\n",
       " 35.333333333333336,\n",
       " 35.833333333333336,\n",
       " 34.833333333333336,\n",
       " 35.166666666666664,\n",
       " 34.833333333333336,\n",
       " 34.333333333333336,\n",
       " 34.833333333333336,\n",
       " 34.666666666666664,\n",
       " 34.833333333333336,\n",
       " 35.5,\n",
       " 34.833333333333336,\n",
       " 34.333333333333336,\n",
       " 34.833333333333336,\n",
       " 34.333333333333336,\n",
       " 34.166666666666664,\n",
       " 34.0,\n",
       " 34.5,\n",
       " 34.333333333333336,\n",
       " 35.166666666666664,\n",
       " 35.5,\n",
       " 34.5,\n",
       " 34.5,\n",
       " 34.5,\n",
       " 35.0,\n",
       " 34.333333333333336,\n",
       " 34.833333333333336,\n",
       " 35.166666666666664,\n",
       " 34.333333333333336,\n",
       " 34.333333333333336,\n",
       " 34.5,\n",
       " 34.5,\n",
       " 34.666666666666664,\n",
       " 34.333333333333336,\n",
       " 34.5,\n",
       " 34.5,\n",
       " 35.0,\n",
       " 34.166666666666664,\n",
       " 35.0,\n",
       " 35.5,\n",
       " 35.5,\n",
       " 34.833333333333336,\n",
       " 35.333333333333336,\n",
       " 35.833333333333336,\n",
       " 35.0,\n",
       " 34.833333333333336,\n",
       " 34.666666666666664,\n",
       " 35.666666666666664,\n",
       " 35.833333333333336,\n",
       " 34.666666666666664,\n",
       " 34.666666666666664,\n",
       " 34.666666666666664,\n",
       " 35.666666666666664,\n",
       " 34.166666666666664,\n",
       " 35.5,\n",
       " 35.333333333333336,\n",
       " 34.833333333333336,\n",
       " 34.833333333333336,\n",
       " 34.333333333333336,\n",
       " 34.833333333333336,\n",
       " 34.0,\n",
       " 34.666666666666664,\n",
       " 34.833333333333336,\n",
       " 35.833333333333336,\n",
       " 34.833333333333336,\n",
       " 34.666666666666664,\n",
       " 35.5,\n",
       " 35.166666666666664,\n",
       " 34.666666666666664,\n",
       " 34.0,\n",
       " 35.5,\n",
       " 35.166666666666664,\n",
       " 35.333333333333336,\n",
       " 34.166666666666664,\n",
       " 35.333333333333336,\n",
       " 36.166666666666664,\n",
       " 35.5,\n",
       " 33.833333333333336,\n",
       " 34.666666666666664,\n",
       " 34.5,\n",
       " 35.5,\n",
       " 35.166666666666664,\n",
       " 35.5,\n",
       " 35.333333333333336,\n",
       " 34.833333333333336,\n",
       " 35.666666666666664,\n",
       " 35.833333333333336,\n",
       " 34.5,\n",
       " 35.5,\n",
       " 34.333333333333336,\n",
       " 35.333333333333336,\n",
       " 35.166666666666664,\n",
       " 35.833333333333336,\n",
       " 34.5,\n",
       " 34.666666666666664,\n",
       " 34.5,\n",
       " 35.166666666666664,\n",
       " 35.0,\n",
       " 36.0,\n",
       " 34.833333333333336,\n",
       " 35.0,\n",
       " 34.833333333333336,\n",
       " 35.666666666666664,\n",
       " 35.5,\n",
       " 35.166666666666664,\n",
       " 35.5,\n",
       " 35.166666666666664,\n",
       " 34.333333333333336,\n",
       " 34.5,\n",
       " 35.5,\n",
       " 34.333333333333336,\n",
       " 34.166666666666664,\n",
       " 35.0,\n",
       " 35.666666666666664,\n",
       " 35.666666666666664,\n",
       " 34.5,\n",
       " 35.5,\n",
       " 35.166666666666664,\n",
       " 35.5,\n",
       " 34.333333333333336,\n",
       " 35.0,\n",
       " 35.666666666666664,\n",
       " 34.833333333333336,\n",
       " 34.666666666666664,\n",
       " 35.666666666666664,\n",
       " 35.166666666666664,\n",
       " 35.5,\n",
       " 35.333333333333336,\n",
       " 34.833333333333336,\n",
       " 34.833333333333336,\n",
       " 35.666666666666664,\n",
       " 35.666666666666664,\n",
       " 35.333333333333336,\n",
       " 34.5,\n",
       " 35.833333333333336,\n",
       " 34.833333333333336,\n",
       " 35.5,\n",
       " 34.5,\n",
       " 34.666666666666664,\n",
       " 35.666666666666664,\n",
       " 35.0,\n",
       " 35.166666666666664,\n",
       " 35.333333333333336,\n",
       " 35.833333333333336,\n",
       " 35.666666666666664,\n",
       " 34.5,\n",
       " 35.333333333333336,\n",
       " 35.166666666666664,\n",
       " 35.166666666666664,\n",
       " 35.166666666666664,\n",
       " 34.0,\n",
       " 35.166666666666664,\n",
       " 34.5,\n",
       " 34.666666666666664,\n",
       " 35.666666666666664,\n",
       " 35.333333333333336,\n",
       " 35.0,\n",
       " 33.833333333333336,\n",
       " 35.5,\n",
       " 35.0,\n",
       " 35.166666666666664,\n",
       " 34.166666666666664,\n",
       " 35.166666666666664,\n",
       " 34.833333333333336,\n",
       " 34.333333333333336,\n",
       " 35.833333333333336,\n",
       " 35.333333333333336,\n",
       " 35.5,\n",
       " 35.333333333333336,\n",
       " 35.333333333333336,\n",
       " 35.5,\n",
       " 35.166666666666664,\n",
       " 34.333333333333336,\n",
       " 35.0,\n",
       " 35.833333333333336,\n",
       " 34.833333333333336,\n",
       " 35.666666666666664,\n",
       " 35.666666666666664,\n",
       " 35.166666666666664,\n",
       " 34.833333333333336,\n",
       " 36.333333333333336,\n",
       " 35.0,\n",
       " 34.333333333333336,\n",
       " 35.5,\n",
       " 34.5,\n",
       " 34.666666666666664,\n",
       " 35.0,\n",
       " 34.333333333333336,\n",
       " 34.833333333333336,\n",
       " 35.333333333333336,\n",
       " 34.833333333333336,\n",
       " 34.166666666666664,\n",
       " 34.666666666666664,\n",
       " 34.833333333333336,\n",
       " 34.833333333333336,\n",
       " 34.5,\n",
       " 35.166666666666664,\n",
       " 34.5,\n",
       " 34.0,\n",
       " 34.666666666666664,\n",
       " 33.833333333333336,\n",
       " 35.0,\n",
       " 35.0,\n",
       " 35.166666666666664,\n",
       " 35.333333333333336,\n",
       " 34.666666666666664,\n",
       " 34.833333333333336,\n",
       " 35.0,\n",
       " 35.833333333333336,\n",
       " 34.833333333333336,\n",
       " 35.333333333333336,\n",
       " 35.5,\n",
       " 34.666666666666664,\n",
       " 35.833333333333336,\n",
       " 34.666666666666664,\n",
       " 35.333333333333336,\n",
       " 35.333333333333336,\n",
       " 35.5,\n",
       " 35.333333333333336,\n",
       " 35.0,\n",
       " 35.5,\n",
       " 35.5,\n",
       " 35.833333333333336,\n",
       " 35.333333333333336,\n",
       " 34.333333333333336,\n",
       " 35.166666666666664,\n",
       " 35.333333333333336,\n",
       " 35.666666666666664,\n",
       " 35.0,\n",
       " 35.0,\n",
       " 35.0,\n",
       " 34.833333333333336,\n",
       " 34.833333333333336,\n",
       " 34.666666666666664,\n",
       " 35.166666666666664,\n",
       " 33.666666666666664,\n",
       " 35.666666666666664,\n",
       " 35.0,\n",
       " 36.0,\n",
       " 35.666666666666664,\n",
       " 34.833333333333336,\n",
       " 35.333333333333336,\n",
       " 35.166666666666664,\n",
       " 35.666666666666664,\n",
       " 34.166666666666664,\n",
       " 35.0,\n",
       " 35.333333333333336,\n",
       " 34.666666666666664,\n",
       " 35.666666666666664,\n",
       " 35.0,\n",
       " 35.0,\n",
       " 34.166666666666664,\n",
       " 34.666666666666664,\n",
       " 34.833333333333336,\n",
       " 35.5,\n",
       " 35.166666666666664,\n",
       " 34.5,\n",
       " 34.833333333333336,\n",
       " 34.833333333333336,\n",
       " 34.833333333333336,\n",
       " 34.666666666666664,\n",
       " 34.666666666666664,\n",
       " 34.5,\n",
       " 34.5,\n",
       " 34.5,\n",
       " 34.833333333333336,\n",
       " 35.5,\n",
       " 34.166666666666664,\n",
       " 35.833333333333336,\n",
       " 35.333333333333336,\n",
       " 34.833333333333336,\n",
       " 34.666666666666664,\n",
       " 34.833333333333336,\n",
       " 35.833333333333336,\n",
       " 36.0,\n",
       " 34.833333333333336,\n",
       " 34.333333333333336,\n",
       " 35.166666666666664,\n",
       " 33.666666666666664,\n",
       " 34.5,\n",
       " 34.666666666666664,\n",
       " 35.166666666666664,\n",
       " 35.166666666666664,\n",
       " 34.5,\n",
       " 34.833333333333336,\n",
       " 34.333333333333336,\n",
       " 36.166666666666664,\n",
       " 34.5,\n",
       " 35.333333333333336,\n",
       " 34.666666666666664,\n",
       " 35.0,\n",
       " 35.5,\n",
       " 35.666666666666664,\n",
       " 35.666666666666664,\n",
       " 35.333333333333336,\n",
       " 35.5,\n",
       " 34.0,\n",
       " 35.0,\n",
       " 34.5,\n",
       " 34.833333333333336,\n",
       " 34.333333333333336,\n",
       " 35.0,\n",
       " 35.5,\n",
       " 33.333333333333336,\n",
       " 35.166666666666664,\n",
       " 35.833333333333336,\n",
       " 34.833333333333336,\n",
       " 35.166666666666664,\n",
       " 35.5,\n",
       " 34.333333333333336,\n",
       " 34.333333333333336,\n",
       " 35.333333333333336,\n",
       " 35.5,\n",
       " 34.666666666666664,\n",
       " 35.166666666666664,\n",
       " 34.5,\n",
       " 35.5,\n",
       " 35.666666666666664,\n",
       " 36.333333333333336,\n",
       " 35.0,\n",
       " 35.333333333333336,\n",
       " 34.333333333333336,\n",
       " 34.333333333333336,\n",
       " 34.166666666666664,\n",
       " 34.0,\n",
       " 34.5,\n",
       " 35.0,\n",
       " 35.0,\n",
       " 36.333333333333336,\n",
       " 34.833333333333336,\n",
       " 34.666666666666664,\n",
       " 35.666666666666664,\n",
       " 35.666666666666664,\n",
       " 34.5,\n",
       " 34.333333333333336,\n",
       " 34.5,\n",
       " 34.5,\n",
       " 35.166666666666664,\n",
       " 34.166666666666664,\n",
       " 35.333333333333336,\n",
       " 34.333333333333336,\n",
       " 35.0,\n",
       " 34.5,\n",
       " 35.333333333333336,\n",
       " 35.666666666666664,\n",
       " 35.666666666666664,\n",
       " 34.666666666666664,\n",
       " 35.0,\n",
       " 35.333333333333336,\n",
       " 36.0,\n",
       " 35.0,\n",
       " 35.333333333333336,\n",
       " 35.166666666666664,\n",
       " 34.5,\n",
       " 34.5,\n",
       " 34.5,\n",
       " 35.0,\n",
       " 35.5,\n",
       " 35.666666666666664,\n",
       " 35.0,\n",
       " 35.333333333333336,\n",
       " 34.833333333333336,\n",
       " 35.0,\n",
       " 35.0,\n",
       " 34.666666666666664,\n",
       " 34.166666666666664,\n",
       " 35.5,\n",
       " 34.333333333333336,\n",
       " 34.333333333333336,\n",
       " 35.166666666666664,\n",
       " 34.833333333333336,\n",
       " 36.5,\n",
       " 34.833333333333336,\n",
       " 35.0,\n",
       " 34.166666666666664,\n",
       " 35.333333333333336,\n",
       " 35.833333333333336,\n",
       " 34.0,\n",
       " 35.5,\n",
       " 34.166666666666664,\n",
       " 34.166666666666664,\n",
       " 36.166666666666664,\n",
       " 35.166666666666664,\n",
       " 34.333333333333336,\n",
       " 35.166666666666664,\n",
       " 35.166666666666664,\n",
       " 35.166666666666664,\n",
       " 35.333333333333336,\n",
       " 35.333333333333336,\n",
       " 34.833333333333336,\n",
       " 35.0,\n",
       " 35.333333333333336,\n",
       " 34.666666666666664,\n",
       " 34.833333333333336,\n",
       " 35.166666666666664,\n",
       " 35.833333333333336,\n",
       " 34.333333333333336,\n",
       " 35.333333333333336,\n",
       " 34.666666666666664,\n",
       " 35.833333333333336,\n",
       " 36.0,\n",
       " 35.5,\n",
       " 34.833333333333336,\n",
       " 35.833333333333336,\n",
       " 35.333333333333336,\n",
       " 35.166666666666664,\n",
       " 34.833333333333336,\n",
       " 34.166666666666664,\n",
       " 34.666666666666664,\n",
       " 34.666666666666664,\n",
       " 35.5,\n",
       " 34.0,\n",
       " 35.666666666666664,\n",
       " 34.666666666666664,\n",
       " 34.666666666666664,\n",
       " 34.833333333333336,\n",
       " 34.5,\n",
       " 35.333333333333336,\n",
       " 35.166666666666664,\n",
       " 35.833333333333336,\n",
       " 34.666666666666664,\n",
       " 34.5,\n",
       " 35.166666666666664,\n",
       " 35.0,\n",
       " 34.166666666666664,\n",
       " 35.5,\n",
       " 35.666666666666664,\n",
       " 34.5,\n",
       " 33.666666666666664,\n",
       " 35.333333333333336,\n",
       " 35.0,\n",
       " 34.833333333333336,\n",
       " 34.833333333333336,\n",
       " 34.5,\n",
       " 35.666666666666664,\n",
       " 34.5,\n",
       " 35.666666666666664,\n",
       " 35.5,\n",
       " 35.166666666666664,\n",
       " 35.5,\n",
       " 35.666666666666664,\n",
       " 35.5,\n",
       " 35.0,\n",
       " 34.666666666666664,\n",
       " 34.5,\n",
       " 34.666666666666664,\n",
       " 34.666666666666664,\n",
       " 34.5,\n",
       " 35.166666666666664,\n",
       " 34.0,\n",
       " 35.0,\n",
       " 34.5,\n",
       " 34.833333333333336,\n",
       " 35.166666666666664,\n",
       " 34.666666666666664,\n",
       " 35.0,\n",
       " 34.833333333333336,\n",
       " 35.166666666666664,\n",
       " 34.5,\n",
       " 36.333333333333336,\n",
       " 35.166666666666664,\n",
       " 34.166666666666664,\n",
       " 34.5,\n",
       " 34.833333333333336,\n",
       " 35.166666666666664,\n",
       " 35.333333333333336,\n",
       " 35.333333333333336,\n",
       " 34.0,\n",
       " 34.333333333333336,\n",
       " 34.666666666666664,\n",
       " 34.833333333333336,\n",
       " 35.333333333333336,\n",
       " 35.0,\n",
       " 35.166666666666664,\n",
       " 35.5,\n",
       " 35.0,\n",
       " 35.0,\n",
       " 35.0,\n",
       " 35.0,\n",
       " 34.833333333333336,\n",
       " 34.833333333333336,\n",
       " 35.333333333333336,\n",
       " 35.0,\n",
       " 34.833333333333336,\n",
       " 36.0,\n",
       " 35.333333333333336,\n",
       " 34.333333333333336,\n",
       " 35.333333333333336,\n",
       " 35.166666666666664,\n",
       " 35.666666666666664,\n",
       " 35.166666666666664,\n",
       " 35.166666666666664,\n",
       " 34.833333333333336,\n",
       " 34.666666666666664,\n",
       " 34.666666666666664,\n",
       " 35.333333333333336,\n",
       " 34.833333333333336,\n",
       " 35.166666666666664,\n",
       " 35.666666666666664,\n",
       " 35.333333333333336,\n",
       " 36.0,\n",
       " 35.0,\n",
       " 34.666666666666664,\n",
       " 35.166666666666664,\n",
       " 35.166666666666664,\n",
       " 35.333333333333336,\n",
       " 35.166666666666664,\n",
       " 35.166666666666664,\n",
       " 35.166666666666664,\n",
       " 35.0,\n",
       " 35.5,\n",
       " 35.0,\n",
       " 35.5,\n",
       " 35.166666666666664,\n",
       " 34.0,\n",
       " 35.833333333333336,\n",
       " 35.5,\n",
       " 35.666666666666664,\n",
       " 36.333333333333336,\n",
       " 34.166666666666664,\n",
       " 35.166666666666664,\n",
       " 34.333333333333336,\n",
       " 35.166666666666664,\n",
       " 35.666666666666664,\n",
       " 35.333333333333336,\n",
       " 35.5,\n",
       " 35.0,\n",
       " 34.166666666666664,\n",
       " 34.666666666666664,\n",
       " 34.333333333333336,\n",
       " 35.333333333333336,\n",
       " 34.166666666666664,\n",
       " 35.0,\n",
       " 35.166666666666664,\n",
       " 34.0,\n",
       " 34.833333333333336,\n",
       " 34.833333333333336,\n",
       " 34.666666666666664,\n",
       " 35.0,\n",
       " 34.833333333333336,\n",
       " 35.166666666666664,\n",
       " 34.333333333333336,\n",
       " 34.833333333333336,\n",
       " 35.666666666666664,\n",
       " 35.333333333333336,\n",
       " 35.0,\n",
       " 35.333333333333336,\n",
       " 35.5,\n",
       " 35.0,\n",
       " 34.833333333333336,\n",
       " 35.0,\n",
       " 35.166666666666664,\n",
       " 34.0,\n",
       " 33.833333333333336,\n",
       " 35.833333333333336,\n",
       " 34.166666666666664,\n",
       " 35.5,\n",
       " 35.833333333333336,\n",
       " 35.5,\n",
       " 36.0,\n",
       " 35.666666666666664,\n",
       " 34.833333333333336,\n",
       " 35.0,\n",
       " 35.333333333333336,\n",
       " 34.833333333333336,\n",
       " 35.5,\n",
       " 34.5,\n",
       " 34.833333333333336,\n",
       " 34.666666666666664,\n",
       " 35.666666666666664,\n",
       " 34.666666666666664,\n",
       " 34.833333333333336,\n",
       " 34.833333333333336,\n",
       " 34.833333333333336,\n",
       " 35.0,\n",
       " 34.833333333333336,\n",
       " 35.666666666666664,\n",
       " 35.166666666666664,\n",
       " 34.666666666666664,\n",
       " 34.833333333333336,\n",
       " 34.333333333333336,\n",
       " 35.166666666666664,\n",
       " 35.333333333333336,\n",
       " 35.166666666666664,\n",
       " 35.166666666666664,\n",
       " 34.833333333333336,\n",
       " 35.166666666666664,\n",
       " 34.833333333333336,\n",
       " 35.666666666666664,\n",
       " 35.333333333333336,\n",
       " 34.833333333333336,\n",
       " 35.333333333333336,\n",
       " 35.0,\n",
       " 34.5,\n",
       " 34.5,\n",
       " 35.0,\n",
       " 34.166666666666664,\n",
       " 35.666666666666664,\n",
       " 35.0,\n",
       " 34.5,\n",
       " 34.333333333333336,\n",
       " 35.166666666666664,\n",
       " 34.833333333333336,\n",
       " 35.166666666666664,\n",
       " 35.0,\n",
       " 34.166666666666664,\n",
       " 34.666666666666664,\n",
       " 35.166666666666664,\n",
       " 35.333333333333336,\n",
       " 35.0,\n",
       " 35.166666666666664,\n",
       " 35.166666666666664,\n",
       " 35.333333333333336,\n",
       " 34.833333333333336,\n",
       " 35.833333333333336,\n",
       " 35.833333333333336,\n",
       " 35.166666666666664,\n",
       " 34.666666666666664,\n",
       " 34.666666666666664,\n",
       " 34.833333333333336,\n",
       " 34.833333333333336,\n",
       " 34.5,\n",
       " 35.333333333333336,\n",
       " 34.0,\n",
       " 35.166666666666664,\n",
       " 34.833333333333336,\n",
       " 35.0,\n",
       " 35.333333333333336,\n",
       " 35.166666666666664,\n",
       " 35.5,\n",
       " 34.5,\n",
       " 34.166666666666664,\n",
       " 35.166666666666664,\n",
       " 35.166666666666664,\n",
       " 35.5,\n",
       " 34.5,\n",
       " 34.833333333333336,\n",
       " 35.666666666666664,\n",
       " 34.166666666666664,\n",
       " 35.833333333333336,\n",
       " 35.5,\n",
       " 35.166666666666664,\n",
       " 34.0,\n",
       " 35.0,\n",
       " 35.166666666666664,\n",
       " 35.333333333333336,\n",
       " 34.5,\n",
       " 35.833333333333336,\n",
       " 34.166666666666664,\n",
       " 35.166666666666664,\n",
       " 34.5,\n",
       " 34.333333333333336,\n",
       " 34.166666666666664,\n",
       " 34.166666666666664,\n",
       " 35.333333333333336,\n",
       " 35.0,\n",
       " 34.333333333333336,\n",
       " 35.0,\n",
       " 34.5,\n",
       " 35.5,\n",
       " 34.5,\n",
       " 34.666666666666664,\n",
       " 35.0,\n",
       " 35.833333333333336,\n",
       " 35.0,\n",
       " 35.166666666666664,\n",
       " 35.0,\n",
       " 35.166666666666664,\n",
       " 35.166666666666664,\n",
       " 35.666666666666664,\n",
       " 35.166666666666664,\n",
       " 34.833333333333336,\n",
       " 35.166666666666664,\n",
       " 35.0,\n",
       " 35.833333333333336,\n",
       " 35.833333333333336,\n",
       " 34.666666666666664,\n",
       " 36.333333333333336,\n",
       " 35.5,\n",
       " 34.833333333333336,\n",
       " 35.166666666666664,\n",
       " 35.333333333333336,\n",
       " 33.666666666666664,\n",
       " 34.833333333333336,\n",
       " 35.166666666666664,\n",
       " 35.333333333333336,\n",
       " 35.166666666666664,\n",
       " 35.0,\n",
       " 35.166666666666664,\n",
       " 35.166666666666664,\n",
       " 34.0,\n",
       " 35.333333333333336,\n",
       " 35.333333333333336,\n",
       " 34.666666666666664,\n",
       " 34.666666666666664,\n",
       " 34.833333333333336,\n",
       " 34.166666666666664,\n",
       " 35.0,\n",
       " 35.0,\n",
       " 34.5,\n",
       " 34.166666666666664,\n",
       " 35.333333333333336,\n",
       " 34.833333333333336,\n",
       " 34.666666666666664,\n",
       " 35.333333333333336,\n",
       " 34.666666666666664,\n",
       " 35.333333333333336,\n",
       " 34.0,\n",
       " 35.666666666666664,\n",
       " 35.333333333333336,\n",
       " 35.333333333333336,\n",
       " 34.0,\n",
       " 34.5,\n",
       " 34.166666666666664,\n",
       " 35.0,\n",
       " 35.0,\n",
       " 35.666666666666664,\n",
       " 35.333333333333336,\n",
       " 34.333333333333336,\n",
       " 34.5,\n",
       " 35.666666666666664,\n",
       " 34.166666666666664,\n",
       " 35.166666666666664,\n",
       " 35.333333333333336,\n",
       " 34.333333333333336,\n",
       " 34.5,\n",
       " 35.5,\n",
       " ...]"
      ]
     },
     "execution_count": 52,
     "metadata": {},
     "output_type": "execute_result"
    }
   ],
   "source": [
    "bootstrapped_means_survey_1"
   ]
  },
  {
   "cell_type": "code",
   "execution_count": 56,
   "id": "b83ff02a",
   "metadata": {},
   "outputs": [
    {
     "data": {
      "text/plain": [
       "array([34., 36.])"
      ]
     },
     "execution_count": 56,
     "metadata": {},
     "output_type": "execute_result"
    }
   ],
   "source": [
    "np.percentile(bootstrapped_means_survey_1, [2.5,97.5])"
   ]
  },
  {
   "cell_type": "code",
   "execution_count": 57,
   "id": "9dafae4e",
   "metadata": {},
   "outputs": [],
   "source": [
    "# np.percentile(bootstrapped_means_survey_1, 97.5)"
   ]
  },
  {
   "cell_type": "code",
   "execution_count": 58,
   "id": "334c9fe3",
   "metadata": {},
   "outputs": [
    {
     "data": {
      "text/plain": [
       "array([24., 46.])"
      ]
     },
     "execution_count": 58,
     "metadata": {},
     "output_type": "execute_result"
    }
   ],
   "source": [
    "np.percentile(bootstrapped_means_survey_2, [2.5,97.5])"
   ]
  },
  {
   "cell_type": "markdown",
   "id": "65c60562",
   "metadata": {},
   "source": [
    "### 95% CI"
   ]
  },
  {
   "cell_type": "code",
   "execution_count": 61,
   "id": "e4495160",
   "metadata": {},
   "outputs": [],
   "source": [
    "### For Survey 1 : Actual population mean lies in [34, 36] interval with 95% percent confidence"
   ]
  },
  {
   "cell_type": "code",
   "execution_count": 62,
   "id": "13353d94",
   "metadata": {},
   "outputs": [],
   "source": [
    "### For Survey 2 : Actual population mean lies in [24, 46] interval with 95% percent confidence"
   ]
  },
  {
   "cell_type": "markdown",
   "id": "292fce8b",
   "metadata": {},
   "source": [
    "## 99% CI"
   ]
  },
  {
   "cell_type": "code",
   "execution_count": 64,
   "id": "a00d662a",
   "metadata": {},
   "outputs": [
    {
     "data": {
      "text/plain": [
       "array([33.66666667, 36.33333333])"
      ]
     },
     "execution_count": 64,
     "metadata": {},
     "output_type": "execute_result"
    }
   ],
   "source": [
    "np.percentile(bootstrapped_means_survey_1, [0.5,99.5])"
   ]
  },
  {
   "cell_type": "code",
   "execution_count": 65,
   "id": "dbd3b29a",
   "metadata": {},
   "outputs": [
    {
     "data": {
      "text/plain": [
       "array([21.165     , 49.16666667])"
      ]
     },
     "execution_count": 65,
     "metadata": {},
     "output_type": "execute_result"
    }
   ],
   "source": [
    "np.percentile(bootstrapped_means_survey_2, [0.5,99.5])"
   ]
  },
  {
   "cell_type": "code",
   "execution_count": null,
   "id": "c6b3e52c",
   "metadata": {},
   "outputs": [],
   "source": []
  },
  {
   "cell_type": "markdown",
   "id": "7a8324ae",
   "metadata": {},
   "source": [
    "# CENTRAL LIMIT THEOREM"
   ]
  },
  {
   "cell_type": "code",
   "execution_count": 67,
   "id": "952e2b42",
   "metadata": {},
   "outputs": [],
   "source": [
    "sehwag = pd.read_csv(\"sehwag.csv\")"
   ]
  },
  {
   "cell_type": "code",
   "execution_count": 68,
   "id": "fcf7b091",
   "metadata": {},
   "outputs": [
    {
     "data": {
      "text/html": [
       "<div>\n",
       "<style scoped>\n",
       "    .dataframe tbody tr th:only-of-type {\n",
       "        vertical-align: middle;\n",
       "    }\n",
       "\n",
       "    .dataframe tbody tr th {\n",
       "        vertical-align: top;\n",
       "    }\n",
       "\n",
       "    .dataframe thead th {\n",
       "        text-align: right;\n",
       "    }\n",
       "</style>\n",
       "<table border=\"1\" class=\"dataframe\">\n",
       "  <thead>\n",
       "    <tr style=\"text-align: right;\">\n",
       "      <th></th>\n",
       "      <th>Runs</th>\n",
       "      <th>Mins</th>\n",
       "      <th>BF</th>\n",
       "      <th>4s</th>\n",
       "      <th>6s</th>\n",
       "      <th>SR</th>\n",
       "      <th>Pos</th>\n",
       "      <th>Dismissal</th>\n",
       "      <th>Inns</th>\n",
       "      <th>Unnamed: 9</th>\n",
       "      <th>Opposition</th>\n",
       "      <th>Ground</th>\n",
       "      <th>Start Date</th>\n",
       "      <th>Unnamed: 13</th>\n",
       "    </tr>\n",
       "  </thead>\n",
       "  <tbody>\n",
       "    <tr>\n",
       "      <th>0</th>\n",
       "      <td>1</td>\n",
       "      <td>5</td>\n",
       "      <td>2</td>\n",
       "      <td>0</td>\n",
       "      <td>0</td>\n",
       "      <td>50.00</td>\n",
       "      <td>7</td>\n",
       "      <td>lbw</td>\n",
       "      <td>1</td>\n",
       "      <td>NaN</td>\n",
       "      <td>v Pakistan</td>\n",
       "      <td>Mohali</td>\n",
       "      <td>1 Apr 1999</td>\n",
       "      <td>ODI # 1427</td>\n",
       "    </tr>\n",
       "    <tr>\n",
       "      <th>1</th>\n",
       "      <td>19</td>\n",
       "      <td>18</td>\n",
       "      <td>24</td>\n",
       "      <td>0</td>\n",
       "      <td>1</td>\n",
       "      <td>79.16</td>\n",
       "      <td>6</td>\n",
       "      <td>caught</td>\n",
       "      <td>1</td>\n",
       "      <td>NaN</td>\n",
       "      <td>v Zimbabwe</td>\n",
       "      <td>Rajkot</td>\n",
       "      <td>14 Dec 2000</td>\n",
       "      <td>ODI # 1660</td>\n",
       "    </tr>\n",
       "    <tr>\n",
       "      <th>2</th>\n",
       "      <td>58</td>\n",
       "      <td>62</td>\n",
       "      <td>54</td>\n",
       "      <td>8</td>\n",
       "      <td>0</td>\n",
       "      <td>107.40</td>\n",
       "      <td>6</td>\n",
       "      <td>bowled</td>\n",
       "      <td>1</td>\n",
       "      <td>NaN</td>\n",
       "      <td>v Australia</td>\n",
       "      <td>Bengaluru</td>\n",
       "      <td>25 Mar 2001</td>\n",
       "      <td>ODI # 1696</td>\n",
       "    </tr>\n",
       "    <tr>\n",
       "      <th>3</th>\n",
       "      <td>2</td>\n",
       "      <td>7</td>\n",
       "      <td>7</td>\n",
       "      <td>0</td>\n",
       "      <td>0</td>\n",
       "      <td>28.57</td>\n",
       "      <td>6</td>\n",
       "      <td>caught</td>\n",
       "      <td>2</td>\n",
       "      <td>NaN</td>\n",
       "      <td>v Zimbabwe</td>\n",
       "      <td>Bulawayo</td>\n",
       "      <td>27 Jun 2001</td>\n",
       "      <td>ODI # 1730</td>\n",
       "    </tr>\n",
       "    <tr>\n",
       "      <th>4</th>\n",
       "      <td>11</td>\n",
       "      <td>19</td>\n",
       "      <td>16</td>\n",
       "      <td>1</td>\n",
       "      <td>0</td>\n",
       "      <td>68.75</td>\n",
       "      <td>6</td>\n",
       "      <td>not out</td>\n",
       "      <td>2</td>\n",
       "      <td>NaN</td>\n",
       "      <td>v West Indies</td>\n",
       "      <td>Bulawayo</td>\n",
       "      <td>30 Jun 2001</td>\n",
       "      <td>ODI # 1731</td>\n",
       "    </tr>\n",
       "  </tbody>\n",
       "</table>\n",
       "</div>"
      ],
      "text/plain": [
       "   Runs Mins  BF  4s  6s      SR  Pos Dismissal  Inns  Unnamed: 9  \\\n",
       "0     1    5   2   0   0   50.00    7       lbw     1         NaN   \n",
       "1    19   18  24   0   1   79.16    6    caught     1         NaN   \n",
       "2    58   62  54   8   0  107.40    6    bowled     1         NaN   \n",
       "3     2    7   7   0   0   28.57    6    caught     2         NaN   \n",
       "4    11   19  16   1   0   68.75    6   not out     2         NaN   \n",
       "\n",
       "      Opposition     Ground   Start Date Unnamed: 13  \n",
       "0     v Pakistan     Mohali   1 Apr 1999  ODI # 1427  \n",
       "1     v Zimbabwe     Rajkot  14 Dec 2000  ODI # 1660  \n",
       "2    v Australia  Bengaluru  25 Mar 2001  ODI # 1696  \n",
       "3     v Zimbabwe   Bulawayo  27 Jun 2001  ODI # 1730  \n",
       "4  v West Indies   Bulawayo  30 Jun 2001  ODI # 1731  "
      ]
     },
     "execution_count": 68,
     "metadata": {},
     "output_type": "execute_result"
    }
   ],
   "source": [
    "sehwag.head()"
   ]
  },
  {
   "cell_type": "code",
   "execution_count": 69,
   "id": "2bb1a9db",
   "metadata": {},
   "outputs": [
    {
     "data": {
      "text/plain": [
       "245"
      ]
     },
     "execution_count": 69,
     "metadata": {},
     "output_type": "execute_result"
    }
   ],
   "source": [
    "len(sehwag)"
   ]
  },
  {
   "cell_type": "code",
   "execution_count": 70,
   "id": "e2db31e5",
   "metadata": {},
   "outputs": [
    {
     "data": {
      "text/plain": [
       "33.77"
      ]
     },
     "execution_count": 70,
     "metadata": {},
     "output_type": "execute_result"
    }
   ],
   "source": [
    "mu_sehwag = sehwag[\"Runs\"].mean() # True/Population Mean\n",
    "np.round(mu_sehwag,2)"
   ]
  },
  {
   "cell_type": "code",
   "execution_count": 84,
   "id": "b921e338",
   "metadata": {},
   "outputs": [
    {
     "data": {
      "text/plain": [
       "33.2"
      ]
     },
     "execution_count": 84,
     "metadata": {},
     "output_type": "execute_result"
    }
   ],
   "source": [
    "np.mean(sehwag[\"Runs\"].sample(5))"
   ]
  },
  {
   "cell_type": "code",
   "execution_count": 158,
   "id": "1009305a",
   "metadata": {},
   "outputs": [
    {
     "data": {
      "text/plain": [
       "34.81"
      ]
     },
     "execution_count": 158,
     "metadata": {},
     "output_type": "execute_result"
    }
   ],
   "source": [
    "std_sehwag = sehwag[\"Runs\"].std() # True/Population Mean\n",
    "np.round(std_sehwag,2)"
   ]
  },
  {
   "cell_type": "markdown",
   "id": "fe83b5e0",
   "metadata": {},
   "source": [
    "## Sample Mean"
   ]
  },
  {
   "cell_type": "code",
   "execution_count": 128,
   "id": "04fe4ad1",
   "metadata": {},
   "outputs": [
    {
     "data": {
      "text/plain": [
       "23.3"
      ]
     },
     "execution_count": 128,
     "metadata": {},
     "output_type": "execute_result"
    }
   ],
   "source": [
    "sample_size = 10\n",
    "np.mean(sehwag[\"Runs\"].sample(sample_size))"
   ]
  },
  {
   "cell_type": "code",
   "execution_count": 135,
   "id": "d217a4dd",
   "metadata": {},
   "outputs": [
    {
     "data": {
      "text/plain": [
       "33.19"
      ]
     },
     "execution_count": 135,
     "metadata": {},
     "output_type": "execute_result"
    }
   ],
   "source": [
    "sample_size = 100\n",
    "np.mean(sehwag[\"Runs\"].sample(sample_size))"
   ]
  },
  {
   "cell_type": "code",
   "execution_count": null,
   "id": "8bd99beb",
   "metadata": {},
   "outputs": [],
   "source": [
    "# 1) As \"sample_size\" increases, we expect lesser variation\n",
    "# 2) As \"sample_size\" increases, we are moving closer to population mean"
   ]
  },
  {
   "cell_type": "markdown",
   "id": "c6326b41",
   "metadata": {},
   "source": [
    "## Sample Mean Trend"
   ]
  },
  {
   "cell_type": "code",
   "execution_count": 145,
   "id": "68e68204",
   "metadata": {},
   "outputs": [
    {
     "data": {
      "text/plain": [
       "<matplotlib.lines.Line2D at 0x7fba984fbd90>"
      ]
     },
     "execution_count": 145,
     "metadata": {},
     "output_type": "execute_result"
    },
    {
     "data": {
      "image/png": "[encoded data removed]",
      "text/plain": [
       "<Figure size 432x288 with 1 Axes>"
      ]
     },
     "metadata": {
      "needs_background": "light"
     },
     "output_type": "display_data"
    }
   ],
   "source": [
    "sample_mean_trend = []\n",
    "\n",
    "for sample_size in range(5, len(sehwag)):\n",
    "    sample = sehwag[\"Runs\"].sample(sample_size)\n",
    "    sample_mean = np.mean(sample)\n",
    "    sample_mean_trend.append(sample_mean)\n",
    "\n",
    "plt.plot(sample_mean_trend)\n",
    "\n",
    "plt.xlabel(\"Sample Size\")\n",
    "plt.ylabel(\"Sample mean\")\n",
    "plt.axhline(y = mu_sehwag, linestyle = '--', color = 'black')"
   ]
  },
  {
   "cell_type": "code",
   "execution_count": 146,
   "id": "cb91523e",
   "metadata": {},
   "outputs": [
    {
     "data": {
      "text/plain": [
       "<matplotlib.lines.Line2D at 0x7fba98465ee0>"
      ]
     },
     "execution_count": 146,
     "metadata": {},
     "output_type": "execute_result"
    },
    {
     "data": {
      "image/png": "[encoded data removed]",
      "text/plain": [
       "<Figure size 432x288 with 1 Axes>"
      ]
     },
     "metadata": {
      "needs_background": "light"
     },
     "output_type": "display_data"
    }
   ],
   "source": [
    "for person in range(20):    \n",
    "    sample_mean_trend = []\n",
    "    \n",
    "    for num_samples in range(5, len(sehwag)):\n",
    "        sample = sehwag[\"Runs\"].sample(num_samples)\n",
    "        sample_mean = np.mean(sample)\n",
    "        sample_mean_trend.append(sample_mean)\n",
    "    plt.plot(sample_mean_trend)\n",
    "    \n",
    "\n",
    "plt.xlabel(\"Sample Size\") \n",
    "plt.ylabel(\"Sample mean\")\n",
    "plt.axhline(y = mu_sehwag, linestyle = '--', color = 'black')"
   ]
  },
  {
   "cell_type": "code",
   "execution_count": 148,
   "id": "9cd3fe99",
   "metadata": {},
   "outputs": [
    {
     "data": {
      "text/plain": [
       "<AxesSubplot:ylabel='Count'>"
      ]
     },
     "execution_count": 148,
     "metadata": {},
     "output_type": "execute_result"
    },
    {
     "data": {
      "image/png": "[encoded data removed]",
      "text/plain": [
       "<Figure size 432x288 with 1 Axes>"
      ]
     },
     "metadata": {
      "needs_background": "light"
     },
     "output_type": "display_data"
    }
   ],
   "source": [
    "sample_size = 10\n",
    "\n",
    "collect_sample_means = []\n",
    "\n",
    "for person in range(2000):\n",
    "    sample_mean = sehwag[\"Runs\"].sample(sample_size).mean()\n",
    "    collect_sample_means.append(sample_mean)\n",
    "    \n",
    "sns.histplot(collect_sample_means)"
   ]
  },
  {
   "cell_type": "code",
   "execution_count": 149,
   "id": "4c4db6c7",
   "metadata": {},
   "outputs": [
    {
     "data": {
      "text/plain": [
       "<AxesSubplot:ylabel='Count'>"
      ]
     },
     "execution_count": 149,
     "metadata": {},
     "output_type": "execute_result"
    },
    {
     "data": {
      "image/png": "[encoded data removed]",
      "text/plain": [
       "<Figure size 432x288 with 1 Axes>"
      ]
     },
     "metadata": {
      "needs_background": "light"
     },
     "output_type": "display_data"
    }
   ],
   "source": [
    "sample_size = 20\n",
    "\n",
    "collect_sample_means = []\n",
    "\n",
    "for person in range(2000):\n",
    "    sample_mean = sehwag[\"Runs\"].sample(sample_size).mean()\n",
    "    collect_sample_means.append(sample_mean)\n",
    "\n",
    "sns.histplot(collect_sample_means)"
   ]
  },
  {
   "cell_type": "code",
   "execution_count": 150,
   "id": "d3505012",
   "metadata": {},
   "outputs": [
    {
     "data": {
      "text/plain": [
       "<AxesSubplot:ylabel='Count'>"
      ]
     },
     "execution_count": 150,
     "metadata": {},
     "output_type": "execute_result"
    },
    {
     "data": {
      "image/png": "[encoded data removed]",
      "text/plain": [
       "<Figure size 432x288 with 1 Axes>"
      ]
     },
     "metadata": {
      "needs_background": "light"
     },
     "output_type": "display_data"
    }
   ],
   "source": [
    "sample_size = 30\n",
    "\n",
    "collect_sample_means = []\n",
    "\n",
    "for person in range(2000):\n",
    "    sample_mean = sehwag[\"Runs\"].sample(sample_size).mean()\n",
    "    collect_sample_means.append(sample_mean)\n",
    "\n",
    "sns.histplot(collect_sample_means)"
   ]
  },
  {
   "cell_type": "code",
   "execution_count": 151,
   "id": "438929c0",
   "metadata": {},
   "outputs": [
    {
     "data": {
      "text/plain": [
       "<AxesSubplot:ylabel='Count'>"
      ]
     },
     "execution_count": 151,
     "metadata": {},
     "output_type": "execute_result"
    },
    {
     "data": {
      "image/png": "[encoded data removed]",
      "text/plain": [
       "<Figure size 432x288 with 1 Axes>"
      ]
     },
     "metadata": {
      "needs_background": "light"
     },
     "output_type": "display_data"
    }
   ],
   "source": [
    "sample_size = 40\n",
    "\n",
    "collect_sample_means = []\n",
    "\n",
    "for person in range(2000):\n",
    "    sample_mean = sehwag[\"Runs\"].sample(sample_size).mean()\n",
    "    collect_sample_means.append(sample_mean)\n",
    "\n",
    "sns.histplot(collect_sample_means)"
   ]
  },
  {
   "cell_type": "code",
   "execution_count": 152,
   "id": "78118c18",
   "metadata": {},
   "outputs": [
    {
     "data": {
      "text/plain": [
       "<AxesSubplot:ylabel='Count'>"
      ]
     },
     "execution_count": 152,
     "metadata": {},
     "output_type": "execute_result"
    },
    {
     "data": {
      "image/png": "[encoded data removed]",
      "text/plain": [
       "<Figure size 432x288 with 1 Axes>"
      ]
     },
     "metadata": {
      "needs_background": "light"
     },
     "output_type": "display_data"
    }
   ],
   "source": [
    "sample_size = 50\n",
    "\n",
    "collect_sample_means = []\n",
    "\n",
    "for person in range(2000):\n",
    "    sample_mean = sehwag[\"Runs\"].sample(sample_size).mean()\n",
    "    collect_sample_means.append(sample_mean)\n",
    "\n",
    "sns.histplot(collect_sample_means)"
   ]
  },
  {
   "cell_type": "code",
   "execution_count": 153,
   "id": "b0309f4f",
   "metadata": {},
   "outputs": [
    {
     "data": {
      "text/plain": [
       "<AxesSubplot:ylabel='Count'>"
      ]
     },
     "execution_count": 153,
     "metadata": {},
     "output_type": "execute_result"
    },
    {
     "data": {
      "image/png": "[encoded data removed]",
      "text/plain": [
       "<Figure size 432x288 with 1 Axes>"
      ]
     },
     "metadata": {
      "needs_background": "light"
     },
     "output_type": "display_data"
    }
   ],
   "source": [
    "sample_size = 60\n",
    "\n",
    "collect_sample_means = []\n",
    "\n",
    "for person in range(2000):\n",
    "    sample_mean = sehwag[\"Runs\"].sample(sample_size).mean()\n",
    "    collect_sample_means.append(sample_mean)\n",
    "\n",
    "sns.histplot(collect_sample_means)"
   ]
  },
  {
   "cell_type": "code",
   "execution_count": 154,
   "id": "09352ffc",
   "metadata": {},
   "outputs": [
    {
     "data": {
      "text/plain": [
       "<AxesSubplot:ylabel='Count'>"
      ]
     },
     "execution_count": 154,
     "metadata": {},
     "output_type": "execute_result"
    },
    {
     "data": {
      "image/png": "[encoded data removed]",
      "text/plain": [
       "<Figure size 432x288 with 1 Axes>"
      ]
     },
     "metadata": {
      "needs_background": "light"
     },
     "output_type": "display_data"
    }
   ],
   "source": [
    "sample_size = 70\n",
    "\n",
    "collect_sample_means = []\n",
    "\n",
    "for person in range(2000):\n",
    "    sample_mean = sehwag[\"Runs\"].sample(sample_size).mean()\n",
    "    collect_sample_means.append(sample_mean)\n",
    "\n",
    "sns.histplot(collect_sample_means)"
   ]
  },
  {
   "cell_type": "code",
   "execution_count": 156,
   "id": "e39c8c0e",
   "metadata": {},
   "outputs": [
    {
     "data": {
      "text/plain": [
       "33.76734693877551"
      ]
     },
     "execution_count": 156,
     "metadata": {},
     "output_type": "execute_result"
    }
   ],
   "source": [
    "mu_sehwag"
   ]
  },
  {
   "cell_type": "code",
   "execution_count": 155,
   "id": "9905c52b",
   "metadata": {},
   "outputs": [
    {
     "data": {
      "text/plain": [
       "33.64710000000001"
      ]
     },
     "execution_count": 155,
     "metadata": {},
     "output_type": "execute_result"
    }
   ],
   "source": [
    "n = 70, num_samples = 2000\n",
    "\n",
    "np.mean(collect_sample_means) ## Mean of the sample means"
   ]
  },
  {
   "cell_type": "code",
   "execution_count": null,
   "id": "4c792ec2",
   "metadata": {},
   "outputs": [],
   "source": []
  },
  {
   "cell_type": "code",
   "execution_count": null,
   "id": "1876a4d9",
   "metadata": {},
   "outputs": [],
   "source": []
  },
  {
   "cell_type": "code",
   "execution_count": null,
   "id": "0b61e40f",
   "metadata": {},
   "outputs": [],
   "source": []
  },
  {
   "cell_type": "code",
   "execution_count": null,
   "id": "dee2a783",
   "metadata": {},
   "outputs": [],
   "source": []
  },
  {
   "cell_type": "code",
   "execution_count": null,
   "id": "0b94cd98",
   "metadata": {},
   "outputs": [],
   "source": []
  },
  {
   "cell_type": "code",
   "execution_count": null,
   "id": "93fcaf69",
   "metadata": {},
   "outputs": [],
   "source": []
  }
 ],
 "metadata": {
  "kernelspec": {
   "display_name": "Python 3 (ipykernel)",
   "language": "python",
   "name": "python3"
  },
  "language_info": {
   "codemirror_mode": {
    "name": "ipython",
    "version": 3
   },
   "file_extension": ".py",
   "mimetype": "text/x-python",
   "name": "python",
   "nbconvert_exporter": "python",
   "pygments_lexer": "ipython3",
   "version": "3.9.12"
  }
 },
 "nbformat": 4,
 "nbformat_minor": 5
}
