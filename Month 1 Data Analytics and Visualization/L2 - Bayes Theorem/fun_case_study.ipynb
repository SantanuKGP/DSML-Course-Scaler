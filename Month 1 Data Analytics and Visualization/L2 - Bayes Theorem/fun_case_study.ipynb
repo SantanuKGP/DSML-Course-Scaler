{
 "cells": [
  {
   "cell_type": "code",
   "execution_count": 3,
   "id": "dc6e4ee3",
   "metadata": {},
   "outputs": [],
   "source": [
    "import numpy as np\n",
    "import pandas as pd"
   ]
  },
  {
   "cell_type": "code",
   "execution_count": 4,
   "id": "deba3c40",
   "metadata": {},
   "outputs": [],
   "source": [
    "df_sachin = pd.read_csv(\"sachin_odi.csv\")"
   ]
  },
  {
   "cell_type": "code",
   "execution_count": 5,
   "id": "882e8156",
   "metadata": {},
   "outputs": [
    {
     "data": {
      "text/html": [
       "<div>\n",
       "<style scoped>\n",
       "    .dataframe tbody tr th:only-of-type {\n",
       "        vertical-align: middle;\n",
       "    }\n",
       "\n",
       "    .dataframe tbody tr th {\n",
       "        vertical-align: top;\n",
       "    }\n",
       "\n",
       "    .dataframe thead th {\n",
       "        text-align: right;\n",
       "    }\n",
       "</style>\n",
       "<table border=\"1\" class=\"dataframe\">\n",
       "  <thead>\n",
       "    <tr style=\"text-align: right;\">\n",
       "      <th></th>\n",
       "      <th>runs</th>\n",
       "      <th>NotOut</th>\n",
       "      <th>mins</th>\n",
       "      <th>bf</th>\n",
       "      <th>fours</th>\n",
       "      <th>sixes</th>\n",
       "      <th>sr</th>\n",
       "      <th>Inns</th>\n",
       "      <th>Opp</th>\n",
       "      <th>Ground</th>\n",
       "      <th>Date</th>\n",
       "      <th>Winner</th>\n",
       "      <th>Century</th>\n",
       "      <th>Won</th>\n",
       "    </tr>\n",
       "  </thead>\n",
       "  <tbody>\n",
       "    <tr>\n",
       "      <th>0</th>\n",
       "      <td>13</td>\n",
       "      <td>0</td>\n",
       "      <td>30</td>\n",
       "      <td>15</td>\n",
       "      <td>3</td>\n",
       "      <td>0</td>\n",
       "      <td>86.66</td>\n",
       "      <td>1</td>\n",
       "      <td>New Zealand</td>\n",
       "      <td>Napier</td>\n",
       "      <td>1995-02-16</td>\n",
       "      <td>New Zealand</td>\n",
       "      <td>No</td>\n",
       "      <td>No</td>\n",
       "    </tr>\n",
       "    <tr>\n",
       "      <th>1</th>\n",
       "      <td>37</td>\n",
       "      <td>0</td>\n",
       "      <td>75</td>\n",
       "      <td>51</td>\n",
       "      <td>3</td>\n",
       "      <td>1</td>\n",
       "      <td>72.54</td>\n",
       "      <td>2</td>\n",
       "      <td>South Africa</td>\n",
       "      <td>Hamilton</td>\n",
       "      <td>1995-02-18</td>\n",
       "      <td>South Africa</td>\n",
       "      <td>No</td>\n",
       "      <td>No</td>\n",
       "    </tr>\n",
       "    <tr>\n",
       "      <th>2</th>\n",
       "      <td>47</td>\n",
       "      <td>0</td>\n",
       "      <td>65</td>\n",
       "      <td>40</td>\n",
       "      <td>7</td>\n",
       "      <td>0</td>\n",
       "      <td>117.50</td>\n",
       "      <td>2</td>\n",
       "      <td>Australia</td>\n",
       "      <td>Dunedin</td>\n",
       "      <td>1995-02-22</td>\n",
       "      <td>India</td>\n",
       "      <td>No</td>\n",
       "      <td>Yes</td>\n",
       "    </tr>\n",
       "    <tr>\n",
       "      <th>3</th>\n",
       "      <td>48</td>\n",
       "      <td>0</td>\n",
       "      <td>37</td>\n",
       "      <td>30</td>\n",
       "      <td>9</td>\n",
       "      <td>1</td>\n",
       "      <td>160.00</td>\n",
       "      <td>2</td>\n",
       "      <td>Bangladesh</td>\n",
       "      <td>Sharjah</td>\n",
       "      <td>1995-04-05</td>\n",
       "      <td>India</td>\n",
       "      <td>No</td>\n",
       "      <td>Yes</td>\n",
       "    </tr>\n",
       "    <tr>\n",
       "      <th>4</th>\n",
       "      <td>4</td>\n",
       "      <td>0</td>\n",
       "      <td>13</td>\n",
       "      <td>9</td>\n",
       "      <td>1</td>\n",
       "      <td>0</td>\n",
       "      <td>44.44</td>\n",
       "      <td>2</td>\n",
       "      <td>Pakistan</td>\n",
       "      <td>Sharjah</td>\n",
       "      <td>1995-04-07</td>\n",
       "      <td>Pakistan</td>\n",
       "      <td>No</td>\n",
       "      <td>No</td>\n",
       "    </tr>\n",
       "  </tbody>\n",
       "</table>\n",
       "</div>"
      ],
      "text/plain": [
       "   runs  NotOut mins  bf  fours  sixes      sr  Inns           Opp    Ground  \\\n",
       "0    13       0   30  15      3      0   86.66     1   New Zealand    Napier   \n",
       "1    37       0   75  51      3      1   72.54     2  South Africa  Hamilton   \n",
       "2    47       0   65  40      7      0  117.50     2     Australia   Dunedin   \n",
       "3    48       0   37  30      9      1  160.00     2    Bangladesh   Sharjah   \n",
       "4     4       0   13   9      1      0   44.44     2      Pakistan   Sharjah   \n",
       "\n",
       "         Date        Winner Century  Won  \n",
       "0  1995-02-16   New Zealand      No   No  \n",
       "1  1995-02-18  South Africa      No   No  \n",
       "2  1995-02-22         India      No  Yes  \n",
       "3  1995-04-05         India      No  Yes  \n",
       "4  1995-04-07      Pakistan      No   No  "
      ]
     },
     "execution_count": 5,
     "metadata": {},
     "output_type": "execute_result"
    }
   ],
   "source": [
    "df_sachin.head()"
   ]
  },
  {
   "cell_type": "code",
   "execution_count": 6,
   "id": "39a93940",
   "metadata": {},
   "outputs": [
    {
     "data": {
      "text/plain": [
       "(360, 14)"
      ]
     },
     "execution_count": 6,
     "metadata": {},
     "output_type": "execute_result"
    }
   ],
   "source": [
    "df_sachin.shape"
   ]
  },
  {
   "cell_type": "markdown",
   "id": "0d3acf28",
   "metadata": {},
   "source": [
    "## What is the probability of winning? $P[W]$"
   ]
  },
  {
   "cell_type": "markdown",
   "id": "432b6139",
   "metadata": {},
   "source": [
    "There are 360 matches, in how many has India won?"
   ]
  },
  {
   "cell_type": "code",
   "execution_count": 7,
   "id": "14c44c58",
   "metadata": {},
   "outputs": [
    {
     "data": {
      "text/plain": [
       "Yes    184\n",
       "No     176\n",
       "Name: Won, dtype: int64"
      ]
     },
     "execution_count": 7,
     "metadata": {},
     "output_type": "execute_result"
    }
   ],
   "source": [
    "df_sachin[\"Won\"].value_counts()"
   ]
  },
  {
   "cell_type": "markdown",
   "id": "469d9fed",
   "metadata": {},
   "source": [
    "Prob of winning is 184/(184 + 176)"
   ]
  },
  {
   "cell_type": "code",
   "execution_count": 8,
   "id": "2c84dbbd",
   "metadata": {},
   "outputs": [
    {
     "data": {
      "text/plain": [
       "0.5111111111111111"
      ]
     },
     "execution_count": 8,
     "metadata": {},
     "output_type": "execute_result"
    }
   ],
   "source": [
    "184/(184 + 176)"
   ]
  },
  {
   "cell_type": "code",
   "execution_count": 9,
   "id": "73a8c85a",
   "metadata": {},
   "outputs": [],
   "source": [
    "df_won = df_sachin[df_sachin[\"Won\"]==\"Yes\"]"
   ]
  },
  {
   "cell_type": "code",
   "execution_count": 10,
   "id": "63d84c1f",
   "metadata": {},
   "outputs": [
    {
     "data": {
      "text/plain": [
       "184"
      ]
     },
     "execution_count": 10,
     "metadata": {},
     "output_type": "execute_result"
    }
   ],
   "source": [
    "len(df_won)"
   ]
  },
  {
   "cell_type": "code",
   "execution_count": 11,
   "id": "94ce36af",
   "metadata": {},
   "outputs": [
    {
     "data": {
      "text/plain": [
       "0.5111111111111111"
      ]
     },
     "execution_count": 11,
     "metadata": {},
     "output_type": "execute_result"
    }
   ],
   "source": [
    "prob_winning = len(df_won) / len(df_sachin)\n",
    "prob_winning"
   ]
  },
  {
   "cell_type": "markdown",
   "id": "70e4bfc2",
   "metadata": {},
   "source": [
    "## What is the probability of Sachin scoring century? $P[C]$"
   ]
  },
  {
   "cell_type": "code",
   "execution_count": 12,
   "id": "7b69f108",
   "metadata": {},
   "outputs": [
    {
     "data": {
      "text/plain": [
       "No     314\n",
       "Yes     46\n",
       "Name: Century, dtype: int64"
      ]
     },
     "execution_count": 12,
     "metadata": {},
     "output_type": "execute_result"
    }
   ],
   "source": [
    "df_sachin[\"Century\"].value_counts()"
   ]
  },
  {
   "cell_type": "markdown",
   "id": "dd5eb079",
   "metadata": {},
   "source": [
    "Probability of scoring a century is 46 / ( 314 + 46)"
   ]
  },
  {
   "cell_type": "code",
   "execution_count": 13,
   "id": "cffe93cb",
   "metadata": {},
   "outputs": [
    {
     "data": {
      "text/plain": [
       "0.12777777777777777"
      ]
     },
     "execution_count": 13,
     "metadata": {},
     "output_type": "execute_result"
    }
   ],
   "source": [
    "46 / (314 + 46)"
   ]
  },
  {
   "cell_type": "code",
   "execution_count": 14,
   "id": "c166f401",
   "metadata": {},
   "outputs": [
    {
     "data": {
      "text/plain": [
       "46"
      ]
     },
     "execution_count": 14,
     "metadata": {},
     "output_type": "execute_result"
    }
   ],
   "source": [
    "df_century = df_sachin[df_sachin[\"Century\"]==\"Yes\"]\n",
    "len(df_century)"
   ]
  },
  {
   "cell_type": "code",
   "execution_count": 15,
   "id": "5fb8db97",
   "metadata": {},
   "outputs": [
    {
     "data": {
      "text/plain": [
       "0.12777777777777777"
      ]
     },
     "execution_count": 15,
     "metadata": {},
     "output_type": "execute_result"
    }
   ],
   "source": [
    "prob_century = len(df_century) / len(df_sachin)\n",
    "prob_century"
   ]
  },
  {
   "cell_type": "markdown",
   "id": "24370555",
   "metadata": {},
   "source": [
    "## Winning AND Century $P[W \\cap C]$"
   ]
  },
  {
   "cell_type": "markdown",
   "id": "0f3c98c6",
   "metadata": {},
   "source": [
    "We want to compute the probability of Sachin scoring a century AND India winning.\n",
    "This is called **Joint** probability. Another important terminology is **Intersection**."
   ]
  },
  {
   "cell_type": "markdown",
   "id": "91fde345",
   "metadata": {},
   "source": [
    "Let us see the `value_counts` of the columns \"Won\" and \"century\""
   ]
  },
  {
   "cell_type": "code",
   "execution_count": 16,
   "id": "906bffe6",
   "metadata": {},
   "outputs": [
    {
     "data": {
      "text/plain": [
       "Century  Won\n",
       "No       No     160\n",
       "         Yes    154\n",
       "Yes      Yes     30\n",
       "         No      16\n",
       "dtype: int64"
      ]
     },
     "execution_count": 16,
     "metadata": {},
     "output_type": "execute_result"
    }
   ],
   "source": [
    "df_sachin[[\"Century\", \"Won\"]].value_counts()"
   ]
  },
  {
   "cell_type": "code",
   "execution_count": 17,
   "id": "3d595aaf",
   "metadata": {},
   "outputs": [
    {
     "data": {
      "text/html": [
       "<div>\n",
       "<style scoped>\n",
       "    .dataframe tbody tr th:only-of-type {\n",
       "        vertical-align: middle;\n",
       "    }\n",
       "\n",
       "    .dataframe tbody tr th {\n",
       "        vertical-align: top;\n",
       "    }\n",
       "\n",
       "    .dataframe thead th {\n",
       "        text-align: right;\n",
       "    }\n",
       "</style>\n",
       "<table border=\"1\" class=\"dataframe\">\n",
       "  <thead>\n",
       "    <tr style=\"text-align: right;\">\n",
       "      <th>Won</th>\n",
       "      <th>No</th>\n",
       "      <th>Yes</th>\n",
       "    </tr>\n",
       "    <tr>\n",
       "      <th>Century</th>\n",
       "      <th></th>\n",
       "      <th></th>\n",
       "    </tr>\n",
       "  </thead>\n",
       "  <tbody>\n",
       "    <tr>\n",
       "      <th>No</th>\n",
       "      <td>160</td>\n",
       "      <td>154</td>\n",
       "    </tr>\n",
       "    <tr>\n",
       "      <th>Yes</th>\n",
       "      <td>16</td>\n",
       "      <td>30</td>\n",
       "    </tr>\n",
       "  </tbody>\n",
       "</table>\n",
       "</div>"
      ],
      "text/plain": [
       "Won       No  Yes\n",
       "Century          \n",
       "No       160  154\n",
       "Yes       16   30"
      ]
     },
     "execution_count": 17,
     "metadata": {},
     "output_type": "execute_result"
    }
   ],
   "source": [
    "pd.crosstab(index=df_sachin[\"Century\"], columns=df_sachin[\"Won\"])"
   ]
  },
  {
   "cell_type": "code",
   "execution_count": 18,
   "id": "e7cf51c0",
   "metadata": {},
   "outputs": [],
   "source": [
    "# pd.crosstab(index = df_sachin[\"Century\"], columns = df_sachin[\"Won\"], margins = True)"
   ]
  },
  {
   "cell_type": "markdown",
   "id": "16e70777",
   "metadata": {},
   "source": [
    "This table is called the **contingency table**"
   ]
  },
  {
   "cell_type": "markdown",
   "id": "55707185",
   "metadata": {},
   "source": [
    "The `crosstab` method also allows us to see the total in each row and column using the key word argument *margins*"
   ]
  },
  {
   "cell_type": "code",
   "execution_count": 19,
   "id": "6cca8e8a",
   "metadata": {},
   "outputs": [
    {
     "data": {
      "text/html": [
       "<div>\n",
       "<style scoped>\n",
       "    .dataframe tbody tr th:only-of-type {\n",
       "        vertical-align: middle;\n",
       "    }\n",
       "\n",
       "    .dataframe tbody tr th {\n",
       "        vertical-align: top;\n",
       "    }\n",
       "\n",
       "    .dataframe thead th {\n",
       "        text-align: right;\n",
       "    }\n",
       "</style>\n",
       "<table border=\"1\" class=\"dataframe\">\n",
       "  <thead>\n",
       "    <tr style=\"text-align: right;\">\n",
       "      <th>Won</th>\n",
       "      <th>No</th>\n",
       "      <th>Yes</th>\n",
       "      <th>All</th>\n",
       "    </tr>\n",
       "    <tr>\n",
       "      <th>Century</th>\n",
       "      <th></th>\n",
       "      <th></th>\n",
       "      <th></th>\n",
       "    </tr>\n",
       "  </thead>\n",
       "  <tbody>\n",
       "    <tr>\n",
       "      <th>No</th>\n",
       "      <td>160</td>\n",
       "      <td>154</td>\n",
       "      <td>314</td>\n",
       "    </tr>\n",
       "    <tr>\n",
       "      <th>Yes</th>\n",
       "      <td>16</td>\n",
       "      <td>30</td>\n",
       "      <td>46</td>\n",
       "    </tr>\n",
       "    <tr>\n",
       "      <th>All</th>\n",
       "      <td>176</td>\n",
       "      <td>184</td>\n",
       "      <td>360</td>\n",
       "    </tr>\n",
       "  </tbody>\n",
       "</table>\n",
       "</div>"
      ],
      "text/plain": [
       "Won       No  Yes  All\n",
       "Century               \n",
       "No       160  154  314\n",
       "Yes       16   30   46\n",
       "All      176  184  360"
      ]
     },
     "execution_count": 19,
     "metadata": {},
     "output_type": "execute_result"
    }
   ],
   "source": [
    "pd.crosstab(index=df_sachin[\"Century\"], columns=df_sachin[\"Won\"], margins=True)"
   ]
  },
  {
   "cell_type": "markdown",
   "id": "6721521d",
   "metadata": {},
   "source": [
    "From the contingency table, we see that there are 30 matches where Sachin has scored a century and India has won. So the probability of century AND winning is 30/360"
   ]
  },
  {
   "cell_type": "code",
   "execution_count": 20,
   "id": "bf4fc197",
   "metadata": {},
   "outputs": [
    {
     "data": {
      "text/plain": [
       "0.08333333333333333"
      ]
     },
     "execution_count": 20,
     "metadata": {},
     "output_type": "execute_result"
    }
   ],
   "source": [
    "30 / 360"
   ]
  },
  {
   "cell_type": "markdown",
   "id": "61e9e178",
   "metadata": {},
   "source": [
    "Let us do the same using Pandas"
   ]
  },
  {
   "cell_type": "code",
   "execution_count": 21,
   "id": "acc31008",
   "metadata": {},
   "outputs": [
    {
     "data": {
      "text/plain": [
       "30"
      ]
     },
     "execution_count": 21,
     "metadata": {},
     "output_type": "execute_result"
    }
   ],
   "source": [
    "df_win_and_century = df_sachin[(df_sachin[\"Century\"] == \"Yes\") & (df_sachin[\"Won\"] == \"Yes\")]\n",
    "len(df_win_and_century)"
   ]
  },
  {
   "cell_type": "markdown",
   "id": "52777475",
   "metadata": {},
   "source": [
    "Finally, to compute the probability, we divide by total number of matches"
   ]
  },
  {
   "cell_type": "code",
   "execution_count": 22,
   "id": "c456b9df",
   "metadata": {},
   "outputs": [
    {
     "data": {
      "text/plain": [
       "0.08333333333333333"
      ]
     },
     "execution_count": 22,
     "metadata": {},
     "output_type": "execute_result"
    }
   ],
   "source": [
    "prob_win_and_century = len(df_win_and_century) / len(df_sachin)\n",
    "prob_win_and_century"
   ]
  },
  {
   "cell_type": "markdown",
   "id": "169ef53a",
   "metadata": {},
   "source": [
    "Mathematically, we write this as \n",
    "\\begin{align}\n",
    "P[W \\cap C] = \\frac{30}{360}\n",
    "\\end{align}\n",
    "\n",
    "This is known as **intersection** or **joint probability**"
   ]
  },
  {
   "cell_type": "code",
   "execution_count": 23,
   "id": "834e64f5",
   "metadata": {},
   "outputs": [
    {
     "data": {
      "text/html": [
       "<div>\n",
       "<style scoped>\n",
       "    .dataframe tbody tr th:only-of-type {\n",
       "        vertical-align: middle;\n",
       "    }\n",
       "\n",
       "    .dataframe tbody tr th {\n",
       "        vertical-align: top;\n",
       "    }\n",
       "\n",
       "    .dataframe thead th {\n",
       "        text-align: right;\n",
       "    }\n",
       "</style>\n",
       "<table border=\"1\" class=\"dataframe\">\n",
       "  <thead>\n",
       "    <tr style=\"text-align: right;\">\n",
       "      <th>Won</th>\n",
       "      <th>No</th>\n",
       "      <th>Yes</th>\n",
       "      <th>All</th>\n",
       "    </tr>\n",
       "    <tr>\n",
       "      <th>Century</th>\n",
       "      <th></th>\n",
       "      <th></th>\n",
       "      <th></th>\n",
       "    </tr>\n",
       "  </thead>\n",
       "  <tbody>\n",
       "    <tr>\n",
       "      <th>No</th>\n",
       "      <td>160</td>\n",
       "      <td>154</td>\n",
       "      <td>314</td>\n",
       "    </tr>\n",
       "    <tr>\n",
       "      <th>Yes</th>\n",
       "      <td>16</td>\n",
       "      <td>30</td>\n",
       "      <td>46</td>\n",
       "    </tr>\n",
       "    <tr>\n",
       "      <th>All</th>\n",
       "      <td>176</td>\n",
       "      <td>184</td>\n",
       "      <td>360</td>\n",
       "    </tr>\n",
       "  </tbody>\n",
       "</table>\n",
       "</div>"
      ],
      "text/plain": [
       "Won       No  Yes  All\n",
       "Century               \n",
       "No       160  154  314\n",
       "Yes       16   30   46\n",
       "All      176  184  360"
      ]
     },
     "execution_count": 23,
     "metadata": {},
     "output_type": "execute_result"
    }
   ],
   "source": [
    "pd.crosstab(index=df_sachin[\"Century\"], columns=df_sachin[\"Won\"], margins=True)"
   ]
  },
  {
   "attachments": {
    "intersection_win_century.png": {
     "image/png": "[encoded data removed]"
    }
   },
   "cell_type": "markdown",
   "id": "59da3ff7",
   "metadata": {},
   "source": [
    "![intersection_win_century.png](attachment:intersection_win_century.png)"
   ]
  },
  {
   "cell_type": "markdown",
   "id": "8f2bde9c",
   "metadata": {},
   "source": [
    "We can also compute the probability of winning and Sachin not scoring century"
   ]
  },
  {
   "cell_type": "code",
   "execution_count": 24,
   "id": "6c8ef2f9",
   "metadata": {},
   "outputs": [
    {
     "data": {
      "text/plain": [
       "16"
      ]
     },
     "execution_count": 24,
     "metadata": {},
     "output_type": "execute_result"
    }
   ],
   "source": [
    "df_win_and_not_century = df_sachin[(df_sachin[\"Century\"] == \"Yes\") & (df_sachin[\"Won\"] == \"No\")]\n",
    "len(df_win_and_not_century)"
   ]
  },
  {
   "cell_type": "code",
   "execution_count": 25,
   "id": "9cb7f8d9",
   "metadata": {},
   "outputs": [
    {
     "data": {
      "text/plain": [
       "0.044444444444444446"
      ]
     },
     "execution_count": 25,
     "metadata": {},
     "output_type": "execute_result"
    }
   ],
   "source": [
    "len(df_win_and_not_century)/len(df_sachin)"
   ]
  },
  {
   "cell_type": "markdown",
   "id": "7fbe7fa2",
   "metadata": {},
   "source": [
    "## Winning given that Sachin scored a century: $P[W|C]$"
   ]
  },
  {
   "cell_type": "markdown",
   "id": "9fa9e5b7",
   "metadata": {},
   "source": [
    "Among the matches in which Sachin has scored century, what is the probability of India winning?"
   ]
  },
  {
   "cell_type": "code",
   "execution_count": 30,
   "id": "34e90e53",
   "metadata": {},
   "outputs": [
    {
     "data": {
      "text/plain": [
       "46"
      ]
     },
     "execution_count": 30,
     "metadata": {},
     "output_type": "execute_result"
    }
   ],
   "source": [
    "df_century = df_sachin[df_sachin[\"Century\"]==\"Yes\"]\n",
    "len(df_century)"
   ]
  },
  {
   "cell_type": "markdown",
   "id": "7428a75c",
   "metadata": {},
   "source": [
    "Among the 46 matches that Sachin has scored century, in how many have india won?"
   ]
  },
  {
   "cell_type": "code",
   "execution_count": 32,
   "id": "382ce33b",
   "metadata": {},
   "outputs": [
    {
     "data": {
      "text/plain": [
       "30"
      ]
     },
     "execution_count": 32,
     "metadata": {},
     "output_type": "execute_result"
    }
   ],
   "source": [
    "df_win_given_century = df_century[df_century['Won']==\"Yes\"] # Courtesy Ashish Rathore\n",
    "len(df_win_given_century)"
   ]
  },
  {
   "cell_type": "code",
   "execution_count": 33,
   "id": "a322f009",
   "metadata": {},
   "outputs": [
    {
     "data": {
      "text/plain": [
       "0.6521739130434783"
      ]
     },
     "execution_count": 33,
     "metadata": {},
     "output_type": "execute_result"
    }
   ],
   "source": [
    "prob_winning_given_century = len(df_win_given_century) / len(df_century)\n",
    "prob_winning_given_century"
   ]
  },
  {
   "cell_type": "code",
   "execution_count": 34,
   "id": "07577aa8",
   "metadata": {},
   "outputs": [
    {
     "data": {
      "text/plain": [
       "0.6521739130434783"
      ]
     },
     "execution_count": 34,
     "metadata": {},
     "output_type": "execute_result"
    }
   ],
   "source": [
    "30 / 46"
   ]
  },
  {
   "cell_type": "markdown",
   "id": "116ca99a",
   "metadata": {},
   "source": [
    "##### Verify using intersection:"
   ]
  },
  {
   "cell_type": "markdown",
   "id": "2b428fb5",
   "metadata": {},
   "source": [
    "P(A|B) = P(A^B)/P(A)"
   ]
  },
  {
   "cell_type": "code",
   "execution_count": 48,
   "id": "c2aa6ce3",
   "metadata": {},
   "outputs": [
    {
     "data": {
      "text/plain": [
       "0.6521739130434783"
      ]
     },
     "execution_count": 48,
     "metadata": {},
     "output_type": "execute_result"
    }
   ],
   "source": [
    "prob_win_and_century / prob_century"
   ]
  },
  {
   "cell_type": "markdown",
   "id": "f62feec3",
   "metadata": {},
   "source": [
    "**Conditional Probability**"
   ]
  },
  {
   "cell_type": "markdown",
   "id": "21e840a7",
   "metadata": {},
   "source": [
    "P(win | century)\n",
    "\n",
    "The event after the vertical bar (century) has happened. Now, what is the probability of winning"
   ]
  },
  {
   "cell_type": "markdown",
   "id": "47f3d60f",
   "metadata": {},
   "source": [
    "## Probability of century given that India won: $P[C|W]$\n"
   ]
  },
  {
   "cell_type": "code",
   "execution_count": 37,
   "id": "8a6ab5a7",
   "metadata": {},
   "outputs": [
    {
     "data": {
      "text/html": [
       "<div>\n",
       "<style scoped>\n",
       "    .dataframe tbody tr th:only-of-type {\n",
       "        vertical-align: middle;\n",
       "    }\n",
       "\n",
       "    .dataframe tbody tr th {\n",
       "        vertical-align: top;\n",
       "    }\n",
       "\n",
       "    .dataframe thead th {\n",
       "        text-align: right;\n",
       "    }\n",
       "</style>\n",
       "<table border=\"1\" class=\"dataframe\">\n",
       "  <thead>\n",
       "    <tr style=\"text-align: right;\">\n",
       "      <th>Won</th>\n",
       "      <th>No</th>\n",
       "      <th>Yes</th>\n",
       "      <th>All</th>\n",
       "    </tr>\n",
       "    <tr>\n",
       "      <th>Century</th>\n",
       "      <th></th>\n",
       "      <th></th>\n",
       "      <th></th>\n",
       "    </tr>\n",
       "  </thead>\n",
       "  <tbody>\n",
       "    <tr>\n",
       "      <th>No</th>\n",
       "      <td>160</td>\n",
       "      <td>154</td>\n",
       "      <td>314</td>\n",
       "    </tr>\n",
       "    <tr>\n",
       "      <th>Yes</th>\n",
       "      <td>16</td>\n",
       "      <td>30</td>\n",
       "      <td>46</td>\n",
       "    </tr>\n",
       "    <tr>\n",
       "      <th>All</th>\n",
       "      <td>176</td>\n",
       "      <td>184</td>\n",
       "      <td>360</td>\n",
       "    </tr>\n",
       "  </tbody>\n",
       "</table>\n",
       "</div>"
      ],
      "text/plain": [
       "Won       No  Yes  All\n",
       "Century               \n",
       "No       160  154  314\n",
       "Yes       16   30   46\n",
       "All      176  184  360"
      ]
     },
     "execution_count": 37,
     "metadata": {},
     "output_type": "execute_result"
    }
   ],
   "source": [
    "pd.crosstab(index=df_sachin[\"Century\"], columns=df_sachin[\"Won\"], margins=True)"
   ]
  },
  {
   "cell_type": "markdown",
   "id": "c997f446",
   "metadata": {},
   "source": [
    "Among the matches that India has won, in how many matches has Sachin scored century"
   ]
  },
  {
   "cell_type": "markdown",
   "id": "8e212314",
   "metadata": {},
   "source": [
    "P(century | win)"
   ]
  },
  {
   "cell_type": "code",
   "execution_count": 42,
   "id": "364d95fe",
   "metadata": {},
   "outputs": [],
   "source": [
    "df_century_given_win = df_won[df_won[\"Century\"]==\"Yes\"]"
   ]
  },
  {
   "cell_type": "code",
   "execution_count": 43,
   "id": "f7afa2bf",
   "metadata": {},
   "outputs": [
    {
     "data": {
      "text/plain": [
       "0.16304347826086957"
      ]
     },
     "execution_count": 43,
     "metadata": {},
     "output_type": "execute_result"
    }
   ],
   "source": [
    "prob_century_given_win = len(df_century_given_win) / len(df_won)\n",
    "prob_century_given_win"
   ]
  },
  {
   "cell_type": "code",
   "execution_count": 44,
   "id": "7333da00",
   "metadata": {},
   "outputs": [
    {
     "data": {
      "text/plain": [
       "0.16304347826086957"
      ]
     },
     "execution_count": 44,
     "metadata": {},
     "output_type": "execute_result"
    }
   ],
   "source": [
    "30 / 184"
   ]
  },
  {
   "cell_type": "code",
   "execution_count": null,
   "id": "fb681c8d",
   "metadata": {},
   "outputs": [],
   "source": []
  },
  {
   "cell_type": "code",
   "execution_count": null,
   "id": "9d9abd9a",
   "metadata": {},
   "outputs": [],
   "source": []
  },
  {
   "cell_type": "code",
   "execution_count": null,
   "id": "40fc9bfc",
   "metadata": {},
   "outputs": [],
   "source": []
  },
  {
   "cell_type": "code",
   "execution_count": null,
   "id": "5c7d9c4c",
   "metadata": {},
   "outputs": [],
   "source": []
  },
  {
   "cell_type": "code",
   "execution_count": null,
   "id": "ef4326bc",
   "metadata": {},
   "outputs": [],
   "source": []
  },
  {
   "cell_type": "code",
   "execution_count": null,
   "id": "f8ab9c95",
   "metadata": {},
   "outputs": [],
   "source": []
  }
 ],
 "metadata": {
  "kernelspec": {
   "display_name": "Python 3 (ipykernel)",
   "language": "python",
   "name": "python3"
  },
  "language_info": {
   "codemirror_mode": {
    "name": "ipython",
    "version": 3
   },
   "file_extension": ".py",
   "mimetype": "text/x-python",
   "name": "python",
   "nbconvert_exporter": "python",
   "pygments_lexer": "ipython3",
   "version": "3.9.12"
  }
 },
 "nbformat": 4,
 "nbformat_minor": 5
}
