{
 "cells": [
  {
   "cell_type": "code",
   "execution_count": 125,
   "id": "62ea7645",
   "metadata": {},
   "outputs": [],
   "source": [
    "import numpy as np\n",
    "import pandas as pd\n",
    "import seaborn as sns\n",
    "import matplotlib.pyplot as plt\n",
    "\n",
    "from scipy.stats import chisquare"
   ]
  },
  {
   "cell_type": "code",
   "execution_count": 79,
   "id": "42aec8fd",
   "metadata": {},
   "outputs": [
    {
     "data": {
      "text/plain": [
       "'T'"
      ]
     },
     "execution_count": 79,
     "metadata": {},
     "output_type": "execute_result"
    }
   ],
   "source": [
    "np.random.choice([\"H\", \"T\"], p = [0.7, 0.3])"
   ]
  },
  {
   "cell_type": "code",
   "execution_count": 81,
   "id": "2646672a",
   "metadata": {},
   "outputs": [],
   "source": [
    "def biased_coin():\n",
    "    return np.random.choice([\"H\", \"T\"], \n",
    "                            p = [0.7, 0.3])"
   ]
  },
  {
   "cell_type": "code",
   "execution_count": 101,
   "id": "a4cce013",
   "metadata": {},
   "outputs": [
    {
     "data": {
      "text/plain": [
       "['H', 'H', 'H', 'H', 'T', 'T', 'H', 'T', 'T', 'H']"
      ]
     },
     "execution_count": 101,
     "metadata": {},
     "output_type": "execute_result"
    }
   ],
   "source": [
    "[biased_coin() for i in range(10)]"
   ]
  },
  {
   "cell_type": "code",
   "execution_count": 102,
   "id": "f042c721",
   "metadata": {},
   "outputs": [],
   "source": [
    "## let's do it for 10k times\n",
    "\n",
    "biased_coin_tosses = [biased_coin() for i in range(10000)]\n"
   ]
  },
  {
   "cell_type": "code",
   "execution_count": 103,
   "id": "21ead12a",
   "metadata": {},
   "outputs": [
    {
     "data": {
      "text/plain": [
       "H    6940\n",
       "T    3060\n",
       "dtype: int64"
      ]
     },
     "execution_count": 103,
     "metadata": {},
     "output_type": "execute_result"
    }
   ],
   "source": [
    "biased_coin_freq = pd.value_counts(biased_coin_tosses)\n",
    "biased_coin_freq"
   ]
  },
  {
   "cell_type": "code",
   "execution_count": 104,
   "id": "fe0d2508",
   "metadata": {},
   "outputs": [],
   "source": [
    "## AIM --> to get fair coin out of this"
   ]
  },
  {
   "cell_type": "code",
   "execution_count": 105,
   "id": "7a5290b6",
   "metadata": {},
   "outputs": [
    {
     "name": "stdout",
     "output_type": "stream",
     "text": [
      "T H\n"
     ]
    }
   ],
   "source": [
    "t1, t2 = \"H\", \"H\"\n",
    "\n",
    "while t1 == t2:\n",
    "    t1 = biased_coin()\n",
    "    t2 = biased_coin()\n",
    "    \n",
    "print(t1, t2)"
   ]
  },
  {
   "cell_type": "code",
   "execution_count": 106,
   "id": "79b9135b",
   "metadata": {},
   "outputs": [],
   "source": [
    "def fair_coin():\n",
    "    \n",
    "    t1, t2 = \"H\", \"H\"\n",
    "\n",
    "    while t1 == t2:\n",
    "        t1 = biased_coin()\n",
    "        t2 = biased_coin()\n",
    "    \n",
    "    return(t1)"
   ]
  },
  {
   "cell_type": "code",
   "execution_count": 123,
   "id": "5c3c14de",
   "metadata": {},
   "outputs": [
    {
     "data": {
      "text/plain": [
       "'T'"
      ]
     },
     "execution_count": 123,
     "metadata": {},
     "output_type": "execute_result"
    }
   ],
   "source": [
    "fair_coin()"
   ]
  },
  {
   "cell_type": "code",
   "execution_count": 124,
   "id": "500732da",
   "metadata": {},
   "outputs": [
    {
     "data": {
      "text/plain": [
       "H    5015\n",
       "T    4985\n",
       "dtype: int64"
      ]
     },
     "execution_count": 124,
     "metadata": {},
     "output_type": "execute_result"
    }
   ],
   "source": [
    "fair_coin_tosses = [fair_coin() for i in range(10000)]\n",
    "pd.value_counts(fair_coin_tosses)"
   ]
  },
  {
   "cell_type": "code",
   "execution_count": null,
   "id": "1c4435ad",
   "metadata": {},
   "outputs": [],
   "source": [
    "## 95% Confidence --> alpha = 0.05"
   ]
  },
  {
   "cell_type": "code",
   "execution_count": 126,
   "id": "70bbb41b",
   "metadata": {},
   "outputs": [],
   "source": [
    "obs_freq = [5015, 4985]\n",
    "expected_feq = [5000, 5000]"
   ]
  },
  {
   "cell_type": "code",
   "execution_count": 127,
   "id": "ad12f577",
   "metadata": {},
   "outputs": [
    {
     "data": {
      "text/plain": [
       "Power_divergenceResult(statistic=0.09, pvalue=0.7641771556220947)"
      ]
     },
     "execution_count": 127,
     "metadata": {},
     "output_type": "execute_result"
    }
   ],
   "source": [
    "# H0 : fair coin\n",
    "# HA : biased\n",
    "\n",
    "chisquare(obs_freq, expected_feq)"
   ]
  },
  {
   "cell_type": "code",
   "execution_count": 128,
   "id": "2168a84a",
   "metadata": {},
   "outputs": [
    {
     "data": {
      "text/plain": [
       "Power_divergenceResult(statistic=1876.297619047619, pvalue=0.0)"
      ]
     },
     "execution_count": 128,
     "metadata": {},
     "output_type": "execute_result"
    }
   ],
   "source": [
    "obs_freq = [5015, 4985]\n",
    "expected_feq = [7000, 3000]\n",
    "\n",
    "# H0 : bias\n",
    "# HA : fair\n",
    "\n",
    "chisquare(obs_freq, expected_feq)"
   ]
  },
  {
   "cell_type": "code",
   "execution_count": null,
   "id": "b50690b5",
   "metadata": {},
   "outputs": [],
   "source": []
  },
  {
   "cell_type": "markdown",
   "id": "7503461f",
   "metadata": {},
   "source": [
    "## 2. Simulate dice from a fair coin"
   ]
  },
  {
   "cell_type": "markdown",
   "id": "a19b58e9",
   "metadata": {},
   "source": [
    "## Home Work\n",
    "- toss a coin three times (8 elements)\n",
    "- disregard any two sequences of your choice"
   ]
  },
  {
   "cell_type": "code",
   "execution_count": null,
   "id": "ce449115",
   "metadata": {},
   "outputs": [],
   "source": []
  },
  {
   "cell_type": "code",
   "execution_count": null,
   "id": "38fe3409",
   "metadata": {},
   "outputs": [],
   "source": [
    "## 3. "
   ]
  },
  {
   "cell_type": "code",
   "execution_count": null,
   "id": "141ba840",
   "metadata": {},
   "outputs": [],
   "source": []
  },
  {
   "cell_type": "code",
   "execution_count": null,
   "id": "d7dc475e",
   "metadata": {},
   "outputs": [],
   "source": []
  },
  {
   "cell_type": "code",
   "execution_count": null,
   "id": "5fc01c51",
   "metadata": {},
   "outputs": [],
   "source": []
  },
  {
   "cell_type": "code",
   "execution_count": null,
   "id": "50cd8ba5",
   "metadata": {},
   "outputs": [],
   "source": []
  },
  {
   "cell_type": "code",
   "execution_count": null,
   "id": "1548078e",
   "metadata": {},
   "outputs": [],
   "source": []
  },
  {
   "cell_type": "code",
   "execution_count": null,
   "id": "c1617325",
   "metadata": {},
   "outputs": [],
   "source": []
  },
  {
   "cell_type": "code",
   "execution_count": null,
   "id": "cb9bf543",
   "metadata": {},
   "outputs": [],
   "source": []
  },
  {
   "cell_type": "code",
   "execution_count": null,
   "id": "9143bf90",
   "metadata": {},
   "outputs": [],
   "source": []
  },
  {
   "cell_type": "code",
   "execution_count": null,
   "id": "d8a2550f",
   "metadata": {},
   "outputs": [],
   "source": []
  },
  {
   "cell_type": "code",
   "execution_count": null,
   "id": "285c17e4",
   "metadata": {},
   "outputs": [],
   "source": []
  },
  {
   "cell_type": "code",
   "execution_count": null,
   "id": "4114fcba",
   "metadata": {},
   "outputs": [],
   "source": []
  }
 ],
 "metadata": {
  "kernelspec": {
   "display_name": "Python 3 (ipykernel)",
   "language": "python",
   "name": "python3"
  },
  "language_info": {
   "codemirror_mode": {
    "name": "ipython",
    "version": 3
   },
   "file_extension": ".py",
   "mimetype": "text/x-python",
   "name": "python",
   "nbconvert_exporter": "python",
   "pygments_lexer": "ipython3",
   "version": "3.9.12"
  }
 },
 "nbformat": 4,
 "nbformat_minor": 5
}
