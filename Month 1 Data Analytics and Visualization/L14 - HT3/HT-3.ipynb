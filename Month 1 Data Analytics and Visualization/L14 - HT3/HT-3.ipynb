{
 "cells": [
  {
   "cell_type": "code",
   "execution_count": 46,
   "id": "dd09291c",
   "metadata": {},
   "outputs": [],
   "source": [
    "import numpy as np\n",
    "import pandas as pd\n",
    "import seaborn as sns\n",
    "import matplotlib.pyplot as plt\n",
    "\n",
    "from scipy.stats import norm, ttest_ind\n",
    "\n",
    "from statsmodels.stats.weightstats import ztest"
   ]
  },
  {
   "cell_type": "code",
   "execution_count": null,
   "id": "4d715bcb",
   "metadata": {},
   "outputs": [],
   "source": []
  },
  {
   "cell_type": "code",
   "execution_count": 4,
   "id": "9b09f019",
   "metadata": {},
   "outputs": [
    {
     "data": {
      "text/html": [
       "<div>\n",
       "<style scoped>\n",
       "    .dataframe tbody tr th:only-of-type {\n",
       "        vertical-align: middle;\n",
       "    }\n",
       "\n",
       "    .dataframe tbody tr th {\n",
       "        vertical-align: top;\n",
       "    }\n",
       "\n",
       "    .dataframe thead th {\n",
       "        text-align: right;\n",
       "    }\n",
       "</style>\n",
       "<table border=\"1\" class=\"dataframe\">\n",
       "  <thead>\n",
       "    <tr style=\"text-align: right;\">\n",
       "      <th></th>\n",
       "      <th>sales</th>\n",
       "    </tr>\n",
       "  </thead>\n",
       "  <tbody>\n",
       "    <tr>\n",
       "      <th>0</th>\n",
       "      <td>1853</td>\n",
       "    </tr>\n",
       "    <tr>\n",
       "      <th>1</th>\n",
       "      <td>1956</td>\n",
       "    </tr>\n",
       "    <tr>\n",
       "      <th>2</th>\n",
       "      <td>1837</td>\n",
       "    </tr>\n",
       "    <tr>\n",
       "      <th>3</th>\n",
       "      <td>1885</td>\n",
       "    </tr>\n",
       "    <tr>\n",
       "      <th>4</th>\n",
       "      <td>1755</td>\n",
       "    </tr>\n",
       "  </tbody>\n",
       "</table>\n",
       "</div>"
      ],
      "text/plain": [
       "   sales\n",
       "0   1853\n",
       "1   1956\n",
       "2   1837\n",
       "3   1885\n",
       "4   1755"
      ]
     },
     "execution_count": 4,
     "metadata": {},
     "output_type": "execute_result"
    }
   ],
   "source": [
    "df_team_1 = pd.read_csv(\"team_1.csv\")\n",
    "df_team_1.head()"
   ]
  },
  {
   "cell_type": "code",
   "execution_count": 5,
   "id": "b4707634",
   "metadata": {},
   "outputs": [
    {
     "data": {
      "text/plain": [
       "(50, 1)"
      ]
     },
     "execution_count": 5,
     "metadata": {},
     "output_type": "execute_result"
    }
   ],
   "source": [
    "df_team_1.shape"
   ]
  },
  {
   "cell_type": "code",
   "execution_count": 6,
   "id": "e8521d89",
   "metadata": {},
   "outputs": [
    {
     "data": {
      "text/plain": [
       "sales    1850.02\n",
       "dtype: float64"
      ]
     },
     "execution_count": 6,
     "metadata": {},
     "output_type": "execute_result"
    }
   ],
   "source": [
    "df_team_1.mean()"
   ]
  },
  {
   "cell_type": "code",
   "execution_count": 7,
   "id": "4faa621f",
   "metadata": {},
   "outputs": [
    {
     "data": {
      "text/plain": [
       "sales    86.283465\n",
       "dtype: float64"
      ]
     },
     "execution_count": 7,
     "metadata": {},
     "output_type": "execute_result"
    }
   ],
   "source": [
    "df_team_1.std()"
   ]
  },
  {
   "cell_type": "code",
   "execution_count": null,
   "id": "1e07bc30",
   "metadata": {},
   "outputs": [],
   "source": []
  },
  {
   "cell_type": "markdown",
   "id": "51610d78",
   "metadata": {},
   "source": [
    "##### H0: mu = 1800 \n",
    "##### H1: mu > 1800"
   ]
  },
  {
   "cell_type": "code",
   "execution_count": 8,
   "id": "98daf923",
   "metadata": {},
   "outputs": [],
   "source": [
    "sales = df_team_1[\"sales\"]"
   ]
  },
  {
   "cell_type": "code",
   "execution_count": 9,
   "id": "4070f4a9",
   "metadata": {},
   "outputs": [
    {
     "data": {
      "text/plain": [
       "(4.099218918585183, 2.0727339284021037e-05)"
      ]
     },
     "execution_count": 9,
     "metadata": {},
     "output_type": "execute_result"
    }
   ],
   "source": [
    "ztest(sales, value = 1800, alternative = \"larger\") # right tail test"
   ]
  },
  {
   "cell_type": "code",
   "execution_count": 10,
   "id": "2d732a1d",
   "metadata": {},
   "outputs": [],
   "source": [
    "# (test statistic, p_value)"
   ]
  },
  {
   "cell_type": "code",
   "execution_count": 11,
   "id": "41a1c69d",
   "metadata": {},
   "outputs": [
    {
     "data": {
      "text/plain": [
       "4.099218918585183"
      ]
     },
     "execution_count": 11,
     "metadata": {},
     "output_type": "execute_result"
    }
   ],
   "source": [
    "z_stat = (sales.mean() - 1800)/(sales.std() / np.sqrt(50))\n",
    "z_stat"
   ]
  },
  {
   "cell_type": "code",
   "execution_count": 12,
   "id": "f8d896c7",
   "metadata": {},
   "outputs": [
    {
     "data": {
      "text/plain": [
       "2.0727339284043467e-05"
      ]
     },
     "execution_count": 12,
     "metadata": {},
     "output_type": "execute_result"
    }
   ],
   "source": [
    "1 - norm.cdf(z_stat)"
   ]
  },
  {
   "cell_type": "code",
   "execution_count": null,
   "id": "4ba140c5",
   "metadata": {},
   "outputs": [],
   "source": []
  },
  {
   "cell_type": "markdown",
   "id": "89a1c55b",
   "metadata": {},
   "source": [
    "### Two drug example:"
   ]
  },
  {
   "cell_type": "code",
   "execution_count": 14,
   "id": "40e0005a",
   "metadata": {},
   "outputs": [],
   "source": [
    "d1 = pd.read_csv(\"drug_1_recovery.csv\")\n",
    "d2 = pd.read_csv(\"drug_2_recovery.csv\")"
   ]
  },
  {
   "cell_type": "code",
   "execution_count": 15,
   "id": "142868cb",
   "metadata": {},
   "outputs": [
    {
     "data": {
      "text/html": [
       "<div>\n",
       "<style scoped>\n",
       "    .dataframe tbody tr th:only-of-type {\n",
       "        vertical-align: middle;\n",
       "    }\n",
       "\n",
       "    .dataframe tbody tr th {\n",
       "        vertical-align: top;\n",
       "    }\n",
       "\n",
       "    .dataframe thead th {\n",
       "        text-align: right;\n",
       "    }\n",
       "</style>\n",
       "<table border=\"1\" class=\"dataframe\">\n",
       "  <thead>\n",
       "    <tr style=\"text-align: right;\">\n",
       "      <th></th>\n",
       "      <th>drug_1</th>\n",
       "    </tr>\n",
       "  </thead>\n",
       "  <tbody>\n",
       "    <tr>\n",
       "      <th>0</th>\n",
       "      <td>8.824208</td>\n",
       "    </tr>\n",
       "    <tr>\n",
       "      <th>1</th>\n",
       "      <td>7.477745</td>\n",
       "    </tr>\n",
       "    <tr>\n",
       "      <th>2</th>\n",
       "      <td>7.557121</td>\n",
       "    </tr>\n",
       "    <tr>\n",
       "      <th>3</th>\n",
       "      <td>7.981314</td>\n",
       "    </tr>\n",
       "    <tr>\n",
       "      <th>4</th>\n",
       "      <td>6.827716</td>\n",
       "    </tr>\n",
       "    <tr>\n",
       "      <th>...</th>\n",
       "      <td>...</td>\n",
       "    </tr>\n",
       "    <tr>\n",
       "      <th>95</th>\n",
       "      <td>6.890506</td>\n",
       "    </tr>\n",
       "    <tr>\n",
       "      <th>96</th>\n",
       "      <td>7.725759</td>\n",
       "    </tr>\n",
       "    <tr>\n",
       "      <th>97</th>\n",
       "      <td>6.848016</td>\n",
       "    </tr>\n",
       "    <tr>\n",
       "      <th>98</th>\n",
       "      <td>7.969997</td>\n",
       "    </tr>\n",
       "    <tr>\n",
       "      <th>99</th>\n",
       "      <td>7.104209</td>\n",
       "    </tr>\n",
       "  </tbody>\n",
       "</table>\n",
       "<p>100 rows × 1 columns</p>\n",
       "</div>"
      ],
      "text/plain": [
       "      drug_1\n",
       "0   8.824208\n",
       "1   7.477745\n",
       "2   7.557121\n",
       "3   7.981314\n",
       "4   6.827716\n",
       "..       ...\n",
       "95  6.890506\n",
       "96  7.725759\n",
       "97  6.848016\n",
       "98  7.969997\n",
       "99  7.104209\n",
       "\n",
       "[100 rows x 1 columns]"
      ]
     },
     "execution_count": 15,
     "metadata": {},
     "output_type": "execute_result"
    }
   ],
   "source": [
    "d1"
   ]
  },
  {
   "cell_type": "code",
   "execution_count": 16,
   "id": "5dfdf0d9",
   "metadata": {},
   "outputs": [
    {
     "data": {
      "text/html": [
       "<div>\n",
       "<style scoped>\n",
       "    .dataframe tbody tr th:only-of-type {\n",
       "        vertical-align: middle;\n",
       "    }\n",
       "\n",
       "    .dataframe tbody tr th {\n",
       "        vertical-align: top;\n",
       "    }\n",
       "\n",
       "    .dataframe thead th {\n",
       "        text-align: right;\n",
       "    }\n",
       "</style>\n",
       "<table border=\"1\" class=\"dataframe\">\n",
       "  <thead>\n",
       "    <tr style=\"text-align: right;\">\n",
       "      <th></th>\n",
       "      <th>drug_2</th>\n",
       "    </tr>\n",
       "  </thead>\n",
       "  <tbody>\n",
       "    <tr>\n",
       "      <th>0</th>\n",
       "      <td>9.565974</td>\n",
       "    </tr>\n",
       "    <tr>\n",
       "      <th>1</th>\n",
       "      <td>7.492915</td>\n",
       "    </tr>\n",
       "    <tr>\n",
       "      <th>2</th>\n",
       "      <td>8.738418</td>\n",
       "    </tr>\n",
       "    <tr>\n",
       "      <th>3</th>\n",
       "      <td>7.635235</td>\n",
       "    </tr>\n",
       "    <tr>\n",
       "      <th>4</th>\n",
       "      <td>4.125593</td>\n",
       "    </tr>\n",
       "    <tr>\n",
       "      <th>...</th>\n",
       "      <td>...</td>\n",
       "    </tr>\n",
       "    <tr>\n",
       "      <th>115</th>\n",
       "      <td>7.861993</td>\n",
       "    </tr>\n",
       "    <tr>\n",
       "      <th>116</th>\n",
       "      <td>8.233510</td>\n",
       "    </tr>\n",
       "    <tr>\n",
       "      <th>117</th>\n",
       "      <td>5.876257</td>\n",
       "    </tr>\n",
       "    <tr>\n",
       "      <th>118</th>\n",
       "      <td>7.789454</td>\n",
       "    </tr>\n",
       "    <tr>\n",
       "      <th>119</th>\n",
       "      <td>8.836125</td>\n",
       "    </tr>\n",
       "  </tbody>\n",
       "</table>\n",
       "<p>120 rows × 1 columns</p>\n",
       "</div>"
      ],
      "text/plain": [
       "       drug_2\n",
       "0    9.565974\n",
       "1    7.492915\n",
       "2    8.738418\n",
       "3    7.635235\n",
       "4    4.125593\n",
       "..        ...\n",
       "115  7.861993\n",
       "116  8.233510\n",
       "117  5.876257\n",
       "118  7.789454\n",
       "119  8.836125\n",
       "\n",
       "[120 rows x 1 columns]"
      ]
     },
     "execution_count": 16,
     "metadata": {},
     "output_type": "execute_result"
    }
   ],
   "source": [
    "d2"
   ]
  },
  {
   "cell_type": "code",
   "execution_count": 17,
   "id": "52e39f46",
   "metadata": {},
   "outputs": [
    {
     "data": {
      "text/plain": [
       "drug_1    7.104917\n",
       "dtype: float64"
      ]
     },
     "execution_count": 17,
     "metadata": {},
     "output_type": "execute_result"
    }
   ],
   "source": [
    "d1.mean()"
   ]
  },
  {
   "cell_type": "code",
   "execution_count": 18,
   "id": "09388487",
   "metadata": {},
   "outputs": [
    {
     "data": {
      "text/plain": [
       "drug_2    8.073423\n",
       "dtype: float64"
      ]
     },
     "execution_count": 18,
     "metadata": {},
     "output_type": "execute_result"
    }
   ],
   "source": [
    "d2.mean()"
   ]
  },
  {
   "cell_type": "code",
   "execution_count": 19,
   "id": "3bf7ed65",
   "metadata": {},
   "outputs": [
    {
     "data": {
      "text/plain": [
       "(array([-5.32112438]), array([1.03127863e-07]))"
      ]
     },
     "execution_count": 19,
     "metadata": {},
     "output_type": "execute_result"
    }
   ],
   "source": [
    "# H0 : m1 = m2\n",
    "# HA : m1 != m2\n",
    "\n",
    "ztest(d1, d2, value = 0) # two tail test"
   ]
  },
  {
   "cell_type": "code",
   "execution_count": 20,
   "id": "38a37c10",
   "metadata": {},
   "outputs": [
    {
     "data": {
      "text/plain": [
       "(array([-5.32112438]), array([5.15639315e-08]))"
      ]
     },
     "execution_count": 20,
     "metadata": {},
     "output_type": "execute_result"
    }
   ],
   "source": [
    "# H0 : m1 = m2\n",
    "# HA : m1 < m2 \n",
    "    \n",
    "ztest(d1, d2, value = 0, alternative= \"smaller\") # left tail test"
   ]
  },
  {
   "cell_type": "code",
   "execution_count": 21,
   "id": "f84991fc",
   "metadata": {},
   "outputs": [
    {
     "data": {
      "text/plain": [
       "(array([-5.32112438]), array([0.99999995]))"
      ]
     },
     "execution_count": 21,
     "metadata": {},
     "output_type": "execute_result"
    }
   ],
   "source": [
    "# H0 : m1 = m2  - not able to reject False H0\n",
    "# HA : m1 > m2\n",
    "\n",
    "ztest(d1, d2, value = 0, alternative= \"larger\")"
   ]
  },
  {
   "cell_type": "code",
   "execution_count": null,
   "id": "c201f0cb",
   "metadata": {},
   "outputs": [],
   "source": []
  },
  {
   "cell_type": "markdown",
   "id": "6e1576f8",
   "metadata": {},
   "source": [
    "### Youtube Test data"
   ]
  },
  {
   "cell_type": "code",
   "execution_count": 23,
   "id": "e9677376",
   "metadata": {},
   "outputs": [
    {
     "data": {
      "text/html": [
       "<div>\n",
       "<style scoped>\n",
       "    .dataframe tbody tr th:only-of-type {\n",
       "        vertical-align: middle;\n",
       "    }\n",
       "\n",
       "    .dataframe tbody tr th {\n",
       "        vertical-align: top;\n",
       "    }\n",
       "\n",
       "    .dataframe thead th {\n",
       "        text-align: right;\n",
       "    }\n",
       "</style>\n",
       "<table border=\"1\" class=\"dataframe\">\n",
       "  <thead>\n",
       "    <tr style=\"text-align: right;\">\n",
       "      <th></th>\n",
       "      <th>date</th>\n",
       "      <th>customer_id</th>\n",
       "      <th>premium</th>\n",
       "      <th>watch_time_hrs</th>\n",
       "      <th>customer_segmnt</th>\n",
       "    </tr>\n",
       "  </thead>\n",
       "  <tbody>\n",
       "    <tr>\n",
       "      <th>6178</th>\n",
       "      <td>2018-10-18</td>\n",
       "      <td>550</td>\n",
       "      <td>1</td>\n",
       "      <td>2.867761</td>\n",
       "      <td>treatment</td>\n",
       "    </tr>\n",
       "    <tr>\n",
       "      <th>15172</th>\n",
       "      <td>2018-09-01</td>\n",
       "      <td>527</td>\n",
       "      <td>0</td>\n",
       "      <td>3.165855</td>\n",
       "      <td>treatment</td>\n",
       "    </tr>\n",
       "    <tr>\n",
       "      <th>10354</th>\n",
       "      <td>2018-06-08</td>\n",
       "      <td>508</td>\n",
       "      <td>0</td>\n",
       "      <td>3.305207</td>\n",
       "      <td>treatment</td>\n",
       "    </tr>\n",
       "    <tr>\n",
       "      <th>15973</th>\n",
       "      <td>2018-12-27</td>\n",
       "      <td>484</td>\n",
       "      <td>0</td>\n",
       "      <td>1.963448</td>\n",
       "      <td>control</td>\n",
       "    </tr>\n",
       "    <tr>\n",
       "      <th>5227</th>\n",
       "      <td>2018-07-20</td>\n",
       "      <td>537</td>\n",
       "      <td>0</td>\n",
       "      <td>3.592499</td>\n",
       "      <td>treatment</td>\n",
       "    </tr>\n",
       "    <tr>\n",
       "      <th>...</th>\n",
       "      <td>...</td>\n",
       "      <td>...</td>\n",
       "      <td>...</td>\n",
       "      <td>...</td>\n",
       "      <td>...</td>\n",
       "    </tr>\n",
       "    <tr>\n",
       "      <th>19545</th>\n",
       "      <td>2018-01-19</td>\n",
       "      <td>967</td>\n",
       "      <td>0</td>\n",
       "      <td>1.454415</td>\n",
       "      <td>treatment</td>\n",
       "    </tr>\n",
       "    <tr>\n",
       "      <th>9134</th>\n",
       "      <td>2018-02-18</td>\n",
       "      <td>30</td>\n",
       "      <td>0</td>\n",
       "      <td>1.150701</td>\n",
       "      <td>control</td>\n",
       "    </tr>\n",
       "    <tr>\n",
       "      <th>1871</th>\n",
       "      <td>2018-12-02</td>\n",
       "      <td>578</td>\n",
       "      <td>1</td>\n",
       "      <td>2.252185</td>\n",
       "      <td>treatment</td>\n",
       "    </tr>\n",
       "    <tr>\n",
       "      <th>7000</th>\n",
       "      <td>2018-10-20</td>\n",
       "      <td>466</td>\n",
       "      <td>0</td>\n",
       "      <td>2.421825</td>\n",
       "      <td>control</td>\n",
       "    </tr>\n",
       "    <tr>\n",
       "      <th>17039</th>\n",
       "      <td>2018-06-04</td>\n",
       "      <td>116</td>\n",
       "      <td>0</td>\n",
       "      <td>6.241765</td>\n",
       "      <td>control</td>\n",
       "    </tr>\n",
       "  </tbody>\n",
       "</table>\n",
       "<p>100 rows × 5 columns</p>\n",
       "</div>"
      ],
      "text/plain": [
       "             date  customer_id  premium  watch_time_hrs customer_segmnt\n",
       "6178   2018-10-18          550        1        2.867761       treatment\n",
       "15172  2018-09-01          527        0        3.165855       treatment\n",
       "10354  2018-06-08          508        0        3.305207       treatment\n",
       "15973  2018-12-27          484        0        1.963448         control\n",
       "5227   2018-07-20          537        0        3.592499       treatment\n",
       "...           ...          ...      ...             ...             ...\n",
       "19545  2018-01-19          967        0        1.454415       treatment\n",
       "9134   2018-02-18           30        0        1.150701         control\n",
       "1871   2018-12-02          578        1        2.252185       treatment\n",
       "7000   2018-10-20          466        0        2.421825         control\n",
       "17039  2018-06-04          116        0        6.241765         control\n",
       "\n",
       "[100 rows x 5 columns]"
      ]
     },
     "execution_count": 23,
     "metadata": {},
     "output_type": "execute_result"
    }
   ],
   "source": [
    "youtube_data = pd.read_csv(\"youtube.csv\")\n",
    "youtube_data.sample(100)"
   ]
  },
  {
   "cell_type": "code",
   "execution_count": 24,
   "id": "5b566505",
   "metadata": {},
   "outputs": [
    {
     "data": {
      "text/plain": [
       "(20000, 5)"
      ]
     },
     "execution_count": 24,
     "metadata": {},
     "output_type": "execute_result"
    }
   ],
   "source": [
    "youtube_data.shape"
   ]
  },
  {
   "cell_type": "code",
   "execution_count": 25,
   "id": "3d118fb3",
   "metadata": {},
   "outputs": [
    {
     "data": {
      "text/plain": [
       "control      10000\n",
       "treatment    10000\n",
       "Name: customer_segmnt, dtype: int64"
      ]
     },
     "execution_count": 25,
     "metadata": {},
     "output_type": "execute_result"
    }
   ],
   "source": [
    "youtube_data.customer_segmnt.value_counts()"
   ]
  },
  {
   "cell_type": "code",
   "execution_count": 27,
   "id": "af98fad9",
   "metadata": {},
   "outputs": [
    {
     "data": {
      "text/plain": [
       "count    20000.000000\n",
       "mean         9.362542\n",
       "std        244.884839\n",
       "min          0.160268\n",
       "25%          1.678066\n",
       "50%          2.670953\n",
       "75%          4.204673\n",
       "max      10007.648185\n",
       "Name: watch_time_hrs, dtype: float64"
      ]
     },
     "execution_count": 27,
     "metadata": {},
     "output_type": "execute_result"
    }
   ],
   "source": [
    "youtube_data[\"watch_time_hrs\"].describe()"
   ]
  },
  {
   "cell_type": "code",
   "execution_count": 31,
   "id": "de581244",
   "metadata": {},
   "outputs": [
    {
     "data": {
      "text/plain": [
       "21.356607722117484"
      ]
     },
     "execution_count": 31,
     "metadata": {},
     "output_type": "execute_result"
    }
   ],
   "source": [
    "q_998 = youtube_data[\"watch_time_hrs\"].quantile(0.998)\n",
    "q_998"
   ]
  },
  {
   "cell_type": "code",
   "execution_count": 33,
   "id": "b59eb14d",
   "metadata": {},
   "outputs": [],
   "source": [
    "youtube_data_no_out = youtube_data[youtube_data[\"watch_time_hrs\"] < q_998]"
   ]
  },
  {
   "cell_type": "code",
   "execution_count": 35,
   "id": "295d665a",
   "metadata": {},
   "outputs": [
    {
     "data": {
      "text/plain": [
       "(19960, 5)"
      ]
     },
     "execution_count": 35,
     "metadata": {},
     "output_type": "execute_result"
    }
   ],
   "source": [
    "youtube_data_no_out.shape"
   ]
  },
  {
   "cell_type": "code",
   "execution_count": 36,
   "id": "46e5ee31",
   "metadata": {},
   "outputs": [
    {
     "data": {
      "text/plain": [
       "count    19960.000000\n",
       "mean         3.331932\n",
       "std          2.474943\n",
       "min          0.160268\n",
       "25%          1.676373\n",
       "50%          2.664286\n",
       "75%          4.186733\n",
       "max         21.356119\n",
       "Name: watch_time_hrs, dtype: float64"
      ]
     },
     "execution_count": 36,
     "metadata": {},
     "output_type": "execute_result"
    }
   ],
   "source": [
    "youtube_data_no_out[\"watch_time_hrs\"].describe()"
   ]
  },
  {
   "cell_type": "code",
   "execution_count": 37,
   "id": "a0e33ed2",
   "metadata": {},
   "outputs": [],
   "source": [
    "control_data = youtube_data_no_out[youtube_data_no_out[\"customer_segmnt\"] == \"control\"]\n",
    "treatment_data = youtube_data_no_out[youtube_data_no_out[\"customer_segmnt\"] == \"treatment\"]"
   ]
  },
  {
   "cell_type": "code",
   "execution_count": 38,
   "id": "5b711760",
   "metadata": {},
   "outputs": [
    {
     "data": {
      "text/plain": [
       "(9973, 5)"
      ]
     },
     "execution_count": 38,
     "metadata": {},
     "output_type": "execute_result"
    }
   ],
   "source": [
    "control_data.shape"
   ]
  },
  {
   "cell_type": "code",
   "execution_count": 40,
   "id": "63634f96",
   "metadata": {},
   "outputs": [
    {
     "data": {
      "text/plain": [
       "(9987, 5)"
      ]
     },
     "execution_count": 40,
     "metadata": {},
     "output_type": "execute_result"
    }
   ],
   "source": [
    "treatment_data.shape"
   ]
  },
  {
   "cell_type": "code",
   "execution_count": 42,
   "id": "525879b3",
   "metadata": {},
   "outputs": [
    {
     "data": {
      "text/plain": [
       "3.6099602285795642"
      ]
     },
     "execution_count": 42,
     "metadata": {},
     "output_type": "execute_result"
    }
   ],
   "source": [
    "control_data['watch_time_hrs'].mean()"
   ]
  },
  {
   "cell_type": "code",
   "execution_count": 43,
   "id": "566017d8",
   "metadata": {},
   "outputs": [
    {
     "data": {
      "text/plain": [
       "3.054293679735035"
      ]
     },
     "execution_count": 43,
     "metadata": {},
     "output_type": "execute_result"
    }
   ],
   "source": [
    "treatment_data['watch_time_hrs'].mean()"
   ]
  },
  {
   "cell_type": "code",
   "execution_count": 44,
   "id": "8b5a2ec1",
   "metadata": {},
   "outputs": [
    {
     "data": {
      "text/plain": [
       "(15.96034913022092, 2.4137738128170024e-57)"
      ]
     },
     "execution_count": 44,
     "metadata": {},
     "output_type": "execute_result"
    }
   ],
   "source": [
    "## Two tail test\n",
    "# H0 : m1 = m2\n",
    "# HA : m1 != m2\n",
    "\n",
    "ztest(control_data[\"watch_time_hrs\"], treatment_data[\"watch_time_hrs\"])\n",
    "\n",
    "# SS diff, reject H0"
   ]
  },
  {
   "cell_type": "code",
   "execution_count": 47,
   "id": "607a944a",
   "metadata": {},
   "outputs": [
    {
     "data": {
      "text/plain": [
       "Ttest_indResult(statistic=15.96034913022092, pvalue=5.438408586231319e-57)"
      ]
     },
     "execution_count": 47,
     "metadata": {},
     "output_type": "execute_result"
    }
   ],
   "source": [
    "# This is called T-test. But since \"n1\" and \"n2\" are large, we get similar results\n",
    "ttest_ind(control_data[\"watch_time_hrs\"], treatment_data[\"watch_time_hrs\"])"
   ]
  },
  {
   "cell_type": "code",
   "execution_count": 45,
   "id": "bc1bec06",
   "metadata": {},
   "outputs": [
    {
     "data": {
      "text/plain": [
       "(15.96034913022092, 1.2068869064085012e-57)"
      ]
     },
     "execution_count": 45,
     "metadata": {},
     "output_type": "execute_result"
    }
   ],
   "source": [
    "## Right tail test\n",
    "# H0 : m1 = m2\n",
    "# HA : m1 > m2 \n",
    "\n",
    "ztest(control_data[\"watch_time_hrs\"],\n",
    "      treatment_data[\"watch_time_hrs\"],\n",
    "     alternative=\"larger\")\n",
    "\n",
    "# Statistically Signifance result diff, avg watch time is declining \n",
    "# reject H0 "
   ]
  },
  {
   "cell_type": "code",
   "execution_count": null,
   "id": "07f72709",
   "metadata": {},
   "outputs": [],
   "source": []
  },
  {
   "cell_type": "code",
   "execution_count": null,
   "id": "864efd1f",
   "metadata": {},
   "outputs": [],
   "source": []
  },
  {
   "cell_type": "code",
   "execution_count": null,
   "id": "35a46fe8",
   "metadata": {},
   "outputs": [],
   "source": []
  },
  {
   "cell_type": "code",
   "execution_count": null,
   "id": "ea08018c",
   "metadata": {},
   "outputs": [],
   "source": []
  },
  {
   "cell_type": "code",
   "execution_count": null,
   "id": "c660d691",
   "metadata": {},
   "outputs": [],
   "source": []
  },
  {
   "cell_type": "code",
   "execution_count": null,
   "id": "abb482fd",
   "metadata": {},
   "outputs": [],
   "source": []
  },
  {
   "cell_type": "code",
   "execution_count": null,
   "id": "496d6913",
   "metadata": {},
   "outputs": [],
   "source": []
  },
  {
   "cell_type": "code",
   "execution_count": null,
   "id": "2347dbb6",
   "metadata": {},
   "outputs": [],
   "source": []
  },
  {
   "cell_type": "code",
   "execution_count": null,
   "id": "a8ddee01",
   "metadata": {},
   "outputs": [],
   "source": []
  }
 ],
 "metadata": {
  "kernelspec": {
   "display_name": "Python 3 (ipykernel)",
   "language": "python",
   "name": "python3"
  },
  "language_info": {
   "codemirror_mode": {
    "name": "ipython",
    "version": 3
   },
   "file_extension": ".py",
   "mimetype": "text/x-python",
   "name": "python",
   "nbconvert_exporter": "python",
   "pygments_lexer": "ipython3",
   "version": "3.9.12"
  }
 },
 "nbformat": 4,
 "nbformat_minor": 5
}
