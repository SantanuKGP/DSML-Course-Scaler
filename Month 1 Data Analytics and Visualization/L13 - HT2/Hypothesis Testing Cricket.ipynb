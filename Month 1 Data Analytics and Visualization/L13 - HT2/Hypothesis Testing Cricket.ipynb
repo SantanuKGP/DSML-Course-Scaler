{
 "cells": [
  {
   "cell_type": "code",
   "execution_count": 1,
   "id": "1d05a7d6",
   "metadata": {},
   "outputs": [],
   "source": [
    "from scipy.stats import norm"
   ]
  },
  {
   "cell_type": "code",
   "execution_count": 5,
   "id": "c0f57a8c",
   "metadata": {},
   "outputs": [],
   "source": [
    "import numpy as np"
   ]
  },
  {
   "cell_type": "code",
   "execution_count": 7,
   "id": "86676c68",
   "metadata": {},
   "outputs": [
    {
     "data": {
      "text/plain": [
       "3.5355339059327378"
      ]
     },
     "execution_count": 7,
     "metadata": {},
     "output_type": "execute_result"
    }
   ],
   "source": [
    "(1850-1800)/(100/np.sqrt(50))"
   ]
  },
  {
   "cell_type": "code",
   "execution_count": 2,
   "id": "36d30608",
   "metadata": {},
   "outputs": [
    {
     "data": {
      "text/plain": [
       "0.0002077798334806369"
      ]
     },
     "execution_count": 2,
     "metadata": {},
     "output_type": "execute_result"
    }
   ],
   "source": [
    "1-norm.cdf(3.53)"
   ]
  },
  {
   "cell_type": "code",
   "execution_count": 3,
   "id": "adcf4da7",
   "metadata": {},
   "outputs": [
    {
     "data": {
      "text/plain": [
       "0.11702319602310873"
      ]
     },
     "execution_count": 3,
     "metadata": {},
     "output_type": "execute_result"
    }
   ],
   "source": [
    "1-norm.cdf(1.19)"
   ]
  },
  {
   "cell_type": "code",
   "execution_count": 2,
   "id": "6ced2091",
   "metadata": {},
   "outputs": [],
   "source": [
    "import numpy as np\n",
    "import pandas as pd\n",
    "import seaborn as sns\n",
    "import matplotlib.pyplot as plt\n",
    "\n",
    "from scipy.stats import norm"
   ]
  },
  {
   "cell_type": "markdown",
   "id": "d280fdb6",
   "metadata": {
    "code_folding": []
   },
   "source": [
    "## ..."
   ]
  },
  {
   "cell_type": "code",
   "execution_count": 3,
   "id": "19c4d1a8",
   "metadata": {},
   "outputs": [],
   "source": [
    "df = pd.read_csv(\"Sachin_ODI.csv\")"
   ]
  },
  {
   "cell_type": "code",
   "execution_count": 12,
   "id": "cf78c621",
   "metadata": {},
   "outputs": [
    {
     "data": {
      "text/html": [
       "<div>\n",
       "<style scoped>\n",
       "    .dataframe tbody tr th:only-of-type {\n",
       "        vertical-align: middle;\n",
       "    }\n",
       "\n",
       "    .dataframe tbody tr th {\n",
       "        vertical-align: top;\n",
       "    }\n",
       "\n",
       "    .dataframe thead th {\n",
       "        text-align: right;\n",
       "    }\n",
       "</style>\n",
       "<table border=\"1\" class=\"dataframe\">\n",
       "  <thead>\n",
       "    <tr style=\"text-align: right;\">\n",
       "      <th></th>\n",
       "      <th>runs</th>\n",
       "      <th>NotOut</th>\n",
       "      <th>mins</th>\n",
       "      <th>bf</th>\n",
       "      <th>fours</th>\n",
       "      <th>sixes</th>\n",
       "      <th>sr</th>\n",
       "      <th>Inns</th>\n",
       "      <th>Opp</th>\n",
       "      <th>Ground</th>\n",
       "      <th>Date</th>\n",
       "      <th>Winner</th>\n",
       "      <th>Won</th>\n",
       "      <th>century</th>\n",
       "    </tr>\n",
       "  </thead>\n",
       "  <tbody>\n",
       "    <tr>\n",
       "      <th>0</th>\n",
       "      <td>13</td>\n",
       "      <td>0</td>\n",
       "      <td>30</td>\n",
       "      <td>15</td>\n",
       "      <td>3</td>\n",
       "      <td>0</td>\n",
       "      <td>86.66</td>\n",
       "      <td>1</td>\n",
       "      <td>New Zealand</td>\n",
       "      <td>Napier</td>\n",
       "      <td>1995-02-16</td>\n",
       "      <td>New Zealand</td>\n",
       "      <td>False</td>\n",
       "      <td>False</td>\n",
       "    </tr>\n",
       "    <tr>\n",
       "      <th>1</th>\n",
       "      <td>37</td>\n",
       "      <td>0</td>\n",
       "      <td>75</td>\n",
       "      <td>51</td>\n",
       "      <td>3</td>\n",
       "      <td>1</td>\n",
       "      <td>72.54</td>\n",
       "      <td>2</td>\n",
       "      <td>South Africa</td>\n",
       "      <td>Hamilton</td>\n",
       "      <td>1995-02-18</td>\n",
       "      <td>South Africa</td>\n",
       "      <td>False</td>\n",
       "      <td>False</td>\n",
       "    </tr>\n",
       "    <tr>\n",
       "      <th>2</th>\n",
       "      <td>47</td>\n",
       "      <td>0</td>\n",
       "      <td>65</td>\n",
       "      <td>40</td>\n",
       "      <td>7</td>\n",
       "      <td>0</td>\n",
       "      <td>117.50</td>\n",
       "      <td>2</td>\n",
       "      <td>Australia</td>\n",
       "      <td>Dunedin</td>\n",
       "      <td>1995-02-22</td>\n",
       "      <td>India</td>\n",
       "      <td>True</td>\n",
       "      <td>False</td>\n",
       "    </tr>\n",
       "    <tr>\n",
       "      <th>3</th>\n",
       "      <td>48</td>\n",
       "      <td>0</td>\n",
       "      <td>37</td>\n",
       "      <td>30</td>\n",
       "      <td>9</td>\n",
       "      <td>1</td>\n",
       "      <td>160.00</td>\n",
       "      <td>2</td>\n",
       "      <td>Bangladesh</td>\n",
       "      <td>Sharjah</td>\n",
       "      <td>1995-04-05</td>\n",
       "      <td>India</td>\n",
       "      <td>True</td>\n",
       "      <td>False</td>\n",
       "    </tr>\n",
       "    <tr>\n",
       "      <th>4</th>\n",
       "      <td>4</td>\n",
       "      <td>0</td>\n",
       "      <td>13</td>\n",
       "      <td>9</td>\n",
       "      <td>1</td>\n",
       "      <td>0</td>\n",
       "      <td>44.44</td>\n",
       "      <td>2</td>\n",
       "      <td>Pakistan</td>\n",
       "      <td>Sharjah</td>\n",
       "      <td>1995-04-07</td>\n",
       "      <td>Pakistan</td>\n",
       "      <td>False</td>\n",
       "      <td>False</td>\n",
       "    </tr>\n",
       "  </tbody>\n",
       "</table>\n",
       "</div>"
      ],
      "text/plain": [
       "   runs  NotOut mins  bf  fours  sixes      sr  Inns           Opp    Ground  \\\n",
       "0    13       0   30  15      3      0   86.66     1   New Zealand    Napier   \n",
       "1    37       0   75  51      3      1   72.54     2  South Africa  Hamilton   \n",
       "2    47       0   65  40      7      0  117.50     2     Australia   Dunedin   \n",
       "3    48       0   37  30      9      1  160.00     2    Bangladesh   Sharjah   \n",
       "4     4       0   13   9      1      0   44.44     2      Pakistan   Sharjah   \n",
       "\n",
       "         Date        Winner    Won  century  \n",
       "0  1995-02-16   New Zealand  False    False  \n",
       "1  1995-02-18  South Africa  False    False  \n",
       "2  1995-02-22         India   True    False  \n",
       "3  1995-04-05         India   True    False  \n",
       "4  1995-04-07      Pakistan  False    False  "
      ]
     },
     "execution_count": 12,
     "metadata": {},
     "output_type": "execute_result"
    }
   ],
   "source": [
    "df.head()"
   ]
  },
  {
   "cell_type": "code",
   "execution_count": 4,
   "id": "77813cd0",
   "metadata": {},
   "outputs": [
    {
     "data": {
      "text/plain": [
       "(360, 14)"
      ]
     },
     "execution_count": 4,
     "metadata": {},
     "output_type": "execute_result"
    }
   ],
   "source": [
    "df.shape"
   ]
  },
  {
   "cell_type": "markdown",
   "id": "e09d5f90",
   "metadata": {},
   "source": [
    "## ."
   ]
  },
  {
   "cell_type": "code",
   "execution_count": 15,
   "id": "333354e2",
   "metadata": {},
   "outputs": [
    {
     "data": {
      "text/plain": [
       "43.24166666666667"
      ]
     },
     "execution_count": 15,
     "metadata": {},
     "output_type": "execute_result"
    }
   ],
   "source": [
    "mu = df[\"runs\"].mean()\n",
    "mu"
   ]
  },
  {
   "cell_type": "code",
   "execution_count": 16,
   "id": "ccc98886",
   "metadata": {},
   "outputs": [
    {
     "data": {
      "text/plain": [
       "42.18245206052442"
      ]
     },
     "execution_count": 16,
     "metadata": {},
     "output_type": "execute_result"
    }
   ],
   "source": [
    "sigma = df[\"runs\"].std()\n",
    "sigma"
   ]
  },
  {
   "cell_type": "markdown",
   "id": "5413bd2c",
   "metadata": {},
   "source": [
    "## First Inning"
   ]
  },
  {
   "cell_type": "markdown",
   "id": "1fe9984a",
   "metadata": {},
   "source": [
    "H0 : avg runs in first innning = 43.24 <br>\n",
    "HA : avg runs in first innning > 43.24"
   ]
  },
  {
   "cell_type": "code",
   "execution_count": 17,
   "id": "5dc973c0",
   "metadata": {},
   "outputs": [],
   "source": [
    "first_innings_runs = df[df[\"Inns\"]==1][[\"runs\"]]"
   ]
  },
  {
   "cell_type": "code",
   "execution_count": 18,
   "id": "e1acd101",
   "metadata": {},
   "outputs": [
    {
     "data": {
      "text/html": [
       "<div>\n",
       "<style scoped>\n",
       "    .dataframe tbody tr th:only-of-type {\n",
       "        vertical-align: middle;\n",
       "    }\n",
       "\n",
       "    .dataframe tbody tr th {\n",
       "        vertical-align: top;\n",
       "    }\n",
       "\n",
       "    .dataframe thead th {\n",
       "        text-align: right;\n",
       "    }\n",
       "</style>\n",
       "<table border=\"1\" class=\"dataframe\">\n",
       "  <thead>\n",
       "    <tr style=\"text-align: right;\">\n",
       "      <th></th>\n",
       "      <th>runs</th>\n",
       "    </tr>\n",
       "  </thead>\n",
       "  <tbody>\n",
       "    <tr>\n",
       "      <th>0</th>\n",
       "      <td>13</td>\n",
       "    </tr>\n",
       "    <tr>\n",
       "      <th>7</th>\n",
       "      <td>30</td>\n",
       "    </tr>\n",
       "    <tr>\n",
       "      <th>15</th>\n",
       "      <td>137</td>\n",
       "    </tr>\n",
       "    <tr>\n",
       "      <th>16</th>\n",
       "      <td>3</td>\n",
       "    </tr>\n",
       "    <tr>\n",
       "      <th>17</th>\n",
       "      <td>31</td>\n",
       "    </tr>\n",
       "    <tr>\n",
       "      <th>...</th>\n",
       "      <td>...</td>\n",
       "    </tr>\n",
       "    <tr>\n",
       "      <th>345</th>\n",
       "      <td>111</td>\n",
       "    </tr>\n",
       "    <tr>\n",
       "      <th>346</th>\n",
       "      <td>2</td>\n",
       "    </tr>\n",
       "    <tr>\n",
       "      <th>348</th>\n",
       "      <td>85</td>\n",
       "    </tr>\n",
       "    <tr>\n",
       "      <th>357</th>\n",
       "      <td>6</td>\n",
       "    </tr>\n",
       "    <tr>\n",
       "      <th>358</th>\n",
       "      <td>114</td>\n",
       "    </tr>\n",
       "  </tbody>\n",
       "</table>\n",
       "<p>170 rows × 1 columns</p>\n",
       "</div>"
      ],
      "text/plain": [
       "     runs\n",
       "0      13\n",
       "7      30\n",
       "15    137\n",
       "16      3\n",
       "17     31\n",
       "..    ...\n",
       "345   111\n",
       "346     2\n",
       "348    85\n",
       "357     6\n",
       "358   114\n",
       "\n",
       "[170 rows x 1 columns]"
      ]
     },
     "execution_count": 18,
     "metadata": {},
     "output_type": "execute_result"
    }
   ],
   "source": [
    "first_innings_runs"
   ]
  },
  {
   "cell_type": "code",
   "execution_count": 19,
   "id": "1b9e5e8b",
   "metadata": {},
   "outputs": [
    {
     "data": {
      "text/plain": [
       "170"
      ]
     },
     "execution_count": 19,
     "metadata": {},
     "output_type": "execute_result"
    }
   ],
   "source": [
    "len(first_innings_runs) ## n = 170"
   ]
  },
  {
   "cell_type": "code",
   "execution_count": 20,
   "id": "9aebc187",
   "metadata": {},
   "outputs": [],
   "source": [
    "data = first_innings_runs"
   ]
  },
  {
   "cell_type": "code",
   "execution_count": 21,
   "id": "6329ac06",
   "metadata": {},
   "outputs": [
    {
     "data": {
      "text/plain": [
       "runs    46.670588\n",
       "dtype: float64"
      ]
     },
     "execution_count": 21,
     "metadata": {},
     "output_type": "execute_result"
    }
   ],
   "source": [
    "data.mean() # test statistic"
   ]
  },
  {
   "cell_type": "code",
   "execution_count": 22,
   "id": "99cdfdb7",
   "metadata": {},
   "outputs": [
    {
     "data": {
      "text/plain": [
       "43.24166666666667"
      ]
     },
     "execution_count": 22,
     "metadata": {},
     "output_type": "execute_result"
    }
   ],
   "source": [
    "mu"
   ]
  },
  {
   "cell_type": "code",
   "execution_count": 23,
   "id": "0383a6c2",
   "metadata": {},
   "outputs": [
    {
     "data": {
      "text/plain": [
       "runs    1.059864\n",
       "dtype: float64"
      ]
     },
     "execution_count": 23,
     "metadata": {},
     "output_type": "execute_result"
    }
   ],
   "source": [
    "z_stat = (data.mean() - mu)/(sigma/np.sqrt(len(data)))\n",
    "z_stat"
   ]
  },
  {
   "cell_type": "code",
   "execution_count": 25,
   "id": "cb7ca1b0",
   "metadata": {},
   "outputs": [
    {
     "data": {
      "text/plain": [
       "array([0.14460321])"
      ]
     },
     "execution_count": 25,
     "metadata": {},
     "output_type": "execute_result"
    }
   ],
   "source": [
    "p_value = 1 - norm.cdf(z_stat)\n",
    "p_value"
   ]
  },
  {
   "cell_type": "code",
   "execution_count": 26,
   "id": "4382d8fb",
   "metadata": {},
   "outputs": [
    {
     "name": "stdout",
     "output_type": "stream",
     "text": [
      "Reject Null Hypotheis\n"
     ]
    }
   ],
   "source": [
    "alpha = 0.15\n",
    "if p_value < alpha:\n",
    "    print(\"Reject Null Hypotheis\")\n",
    "else:\n",
    "    print(\"Stick to the null hypothesis\")"
   ]
  },
  {
   "cell_type": "markdown",
   "id": "4829add2",
   "metadata": {},
   "source": [
    "## When Aus. won against India"
   ]
  },
  {
   "cell_type": "markdown",
   "id": "de72c272",
   "metadata": {},
   "source": [
    "H0 : avg runs = 43.24 <br>\n",
    "HA : avg run < 43.24"
   ]
  },
  {
   "cell_type": "code",
   "execution_count": 29,
   "id": "822bcea3",
   "metadata": {},
   "outputs": [],
   "source": [
    "data = df[df.Winner==\"Australia\"][[\"runs\"]]"
   ]
  },
  {
   "cell_type": "code",
   "execution_count": 30,
   "id": "cbdd3eb1",
   "metadata": {},
   "outputs": [
    {
     "data": {
      "text/plain": [
       "38"
      ]
     },
     "execution_count": 30,
     "metadata": {},
     "output_type": "execute_result"
    }
   ],
   "source": [
    "len(data)"
   ]
  },
  {
   "cell_type": "code",
   "execution_count": 31,
   "id": "c61e5ba1",
   "metadata": {},
   "outputs": [
    {
     "data": {
      "text/plain": [
       "runs    33.973684\n",
       "dtype: float64"
      ]
     },
     "execution_count": 31,
     "metadata": {},
     "output_type": "execute_result"
    }
   ],
   "source": [
    "data.mean()"
   ]
  },
  {
   "cell_type": "code",
   "execution_count": 32,
   "id": "e5906736",
   "metadata": {},
   "outputs": [
    {
     "data": {
      "text/plain": [
       "runs   -1.354394\n",
       "dtype: float64"
      ]
     },
     "execution_count": 32,
     "metadata": {},
     "output_type": "execute_result"
    }
   ],
   "source": [
    "z_stat = (data.mean() - mu)/(sigma/np.sqrt(len(data)))\n",
    "z_stat"
   ]
  },
  {
   "cell_type": "code",
   "execution_count": 32,
   "id": "b59c3b26",
   "metadata": {},
   "outputs": [],
   "source": [
    "p_value = norm.cdf(z_stat)"
   ]
  },
  {
   "cell_type": "code",
   "execution_count": 33,
   "id": "fb2cbcd6",
   "metadata": {},
   "outputs": [
    {
     "data": {
      "text/plain": [
       "array([0.08780528])"
      ]
     },
     "execution_count": 33,
     "metadata": {},
     "output_type": "execute_result"
    }
   ],
   "source": [
    "p_value"
   ]
  },
  {
   "cell_type": "code",
   "execution_count": 36,
   "id": "2e4f34a5",
   "metadata": {},
   "outputs": [
    {
     "name": "stdout",
     "output_type": "stream",
     "text": [
      "Stick to the null hypothesis\n"
     ]
    }
   ],
   "source": [
    "alpha = 0.05 \n",
    "if p_value < alpha:\n",
    "    print(\"Reject Null Hypotheis\")\n",
    "else:\n",
    "    print(\"Stick to the null hypothesis\")"
   ]
  },
  {
   "cell_type": "code",
   "execution_count": null,
   "id": "32f9328e",
   "metadata": {},
   "outputs": [],
   "source": []
  },
  {
   "cell_type": "markdown",
   "id": "f3e9399b",
   "metadata": {},
   "source": [
    " ## Scoring pattern for matches won"
   ]
  },
  {
   "cell_type": "markdown",
   "id": "9602e51d",
   "metadata": {},
   "source": [
    "H0: average runs in matches won = 43.2 <br>\n",
    "HA: average runs in matches won > 43.2"
   ]
  },
  {
   "cell_type": "code",
   "execution_count": null,
   "id": "2c4a71ec",
   "metadata": {},
   "outputs": [],
   "source": []
  },
  {
   "cell_type": "code",
   "execution_count": null,
   "id": "56698552",
   "metadata": {},
   "outputs": [],
   "source": []
  },
  {
   "cell_type": "code",
   "execution_count": null,
   "id": "ad5032c2",
   "metadata": {},
   "outputs": [],
   "source": []
  },
  {
   "cell_type": "code",
   "execution_count": null,
   "id": "133a85de",
   "metadata": {},
   "outputs": [],
   "source": []
  },
  {
   "cell_type": "code",
   "execution_count": null,
   "id": "d5bc8b35",
   "metadata": {},
   "outputs": [],
   "source": []
  },
  {
   "cell_type": "code",
   "execution_count": null,
   "id": "d1c09f15",
   "metadata": {},
   "outputs": [],
   "source": []
  },
  {
   "cell_type": "code",
   "execution_count": null,
   "id": "27adb5f5",
   "metadata": {},
   "outputs": [],
   "source": []
  },
  {
   "cell_type": "code",
   "execution_count": null,
   "id": "d8af0fce",
   "metadata": {},
   "outputs": [],
   "source": []
  },
  {
   "cell_type": "code",
   "execution_count": null,
   "id": "4884229e",
   "metadata": {},
   "outputs": [],
   "source": []
  },
  {
   "cell_type": "code",
   "execution_count": null,
   "id": "2b1fa4c4",
   "metadata": {},
   "outputs": [],
   "source": []
  },
  {
   "cell_type": "code",
   "execution_count": null,
   "id": "8536d646",
   "metadata": {},
   "outputs": [],
   "source": []
  },
  {
   "cell_type": "code",
   "execution_count": null,
   "id": "5147d5bd",
   "metadata": {},
   "outputs": [],
   "source": []
  },
  {
   "cell_type": "code",
   "execution_count": null,
   "id": "6bf48685",
   "metadata": {},
   "outputs": [],
   "source": []
  },
  {
   "cell_type": "code",
   "execution_count": null,
   "id": "bdd20ef8",
   "metadata": {},
   "outputs": [],
   "source": []
  }
 ],
 "metadata": {
  "kernelspec": {
   "display_name": "Python 3 (ipykernel)",
   "language": "python",
   "name": "python3"
  },
  "language_info": {
   "codemirror_mode": {
    "name": "ipython",
    "version": 3
   },
   "file_extension": ".py",
   "mimetype": "text/x-python",
   "name": "python",
   "nbconvert_exporter": "python",
   "pygments_lexer": "ipython3",
   "version": "3.9.12"
  }
 },
 "nbformat": 4,
 "nbformat_minor": 5
}
